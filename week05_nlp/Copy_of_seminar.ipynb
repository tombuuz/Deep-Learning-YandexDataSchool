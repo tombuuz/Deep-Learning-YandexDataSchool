{
  "nbformat": 4,
  "nbformat_minor": 0,
  "metadata": {
    "kernelspec": {
      "display_name": "Python 3",
      "language": "python",
      "name": "python3"
    },
    "language_info": {
      "codemirror_mode": {
        "name": "ipython",
        "version": 3
      },
      "file_extension": ".py",
      "mimetype": "text/x-python",
      "name": "python",
      "nbconvert_exporter": "python",
      "pygments_lexer": "ipython3",
      "version": "3.6.10"
    },
    "colab": {
      "name": "Copy of seminar.ipynb",
      "provenance": []
    }
  },
  "cells": [
    {
      "cell_type": "markdown",
      "metadata": {
        "id": "6-BE93BYTjse"
      },
      "source": [
        "## Seminar part 1: Fun with Word Embeddings\n",
        "\n",
        "Today we gonna play with word embeddings: train our own little embedding, load one from   gensim model zoo and use it to visualize text corpora.\n",
        "\n",
        "This whole thing is gonna happen on top of embedding dataset.\n",
        "\n",
        "__Requirements:__  `pip install --upgrade nltk gensim bokeh` , but only if you're running locally."
      ]
    },
    {
      "cell_type": "code",
      "metadata": {
        "id": "OElFHP5STtWn",
        "outputId": "3b1930dc-f25f-4477-d637-3536b6abd0a2",
        "colab": {
          "base_uri": "https://localhost:8080/",
          "height": 1000
        }
      },
      "source": [
        "!pip install --upgrade nltk gensim bokeh"
      ],
      "execution_count": null,
      "outputs": [
        {
          "output_type": "stream",
          "text": [
            "Collecting nltk\n",
            "\u001b[?25l  Downloading https://files.pythonhosted.org/packages/92/75/ce35194d8e3022203cca0d2f896dbb88689f9b3fce8e9f9cff942913519d/nltk-3.5.zip (1.4MB)\n",
            "\u001b[K     |████████████████████████████████| 1.4MB 2.8MB/s \n",
            "\u001b[?25hCollecting gensim\n",
            "\u001b[?25l  Downloading https://files.pythonhosted.org/packages/2b/e0/fa6326251692056dc880a64eb22117e03269906ba55a6864864d24ec8b4e/gensim-3.8.3-cp36-cp36m-manylinux1_x86_64.whl (24.2MB)\n",
            "\u001b[K     |████████████████████████████████| 24.2MB 1.4MB/s \n",
            "\u001b[?25hCollecting bokeh\n",
            "\u001b[?25l  Downloading https://files.pythonhosted.org/packages/6b/f4/cdd47dfb09ff1433bab0b870d21432a5455265e897993251f1e386bf970c/bokeh-2.2.2.tar.gz (8.8MB)\n",
            "\u001b[K     |████████████████████████████████| 8.9MB 32.4MB/s \n",
            "\u001b[?25hRequirement already satisfied, skipping upgrade: click in /usr/local/lib/python3.6/dist-packages (from nltk) (7.1.2)\n",
            "Requirement already satisfied, skipping upgrade: joblib in /usr/local/lib/python3.6/dist-packages (from nltk) (0.16.0)\n",
            "Requirement already satisfied, skipping upgrade: regex in /usr/local/lib/python3.6/dist-packages (from nltk) (2019.12.20)\n",
            "Requirement already satisfied, skipping upgrade: tqdm in /usr/local/lib/python3.6/dist-packages (from nltk) (4.41.1)\n",
            "Requirement already satisfied, skipping upgrade: numpy>=1.11.3 in /usr/local/lib/python3.6/dist-packages (from gensim) (1.18.5)\n",
            "Requirement already satisfied, skipping upgrade: six>=1.5.0 in /usr/local/lib/python3.6/dist-packages (from gensim) (1.15.0)\n",
            "Requirement already satisfied, skipping upgrade: smart-open>=1.8.1 in /usr/local/lib/python3.6/dist-packages (from gensim) (2.2.0)\n",
            "Requirement already satisfied, skipping upgrade: scipy>=0.18.1 in /usr/local/lib/python3.6/dist-packages (from gensim) (1.4.1)\n",
            "Requirement already satisfied, skipping upgrade: PyYAML>=3.10 in /usr/local/lib/python3.6/dist-packages (from bokeh) (3.13)\n",
            "Requirement already satisfied, skipping upgrade: python-dateutil>=2.1 in /usr/local/lib/python3.6/dist-packages (from bokeh) (2.8.1)\n",
            "Requirement already satisfied, skipping upgrade: Jinja2>=2.7 in /usr/local/lib/python3.6/dist-packages (from bokeh) (2.11.2)\n",
            "Collecting pillow>=7.1.0\n",
            "\u001b[?25l  Downloading https://files.pythonhosted.org/packages/a6/9c/829c74f7f7f129616dfb6f75afd72529f895d29db71c7aeb46b02fcfb26d/Pillow-8.0.0-cp36-cp36m-manylinux1_x86_64.whl (2.2MB)\n",
            "\u001b[K     |████████████████████████████████| 2.2MB 34.9MB/s \n",
            "\u001b[?25hRequirement already satisfied, skipping upgrade: packaging>=16.8 in /usr/local/lib/python3.6/dist-packages (from bokeh) (20.4)\n",
            "Requirement already satisfied, skipping upgrade: tornado>=5.1 in /usr/local/lib/python3.6/dist-packages (from bokeh) (5.1.1)\n",
            "Requirement already satisfied, skipping upgrade: typing_extensions>=3.7.4 in /usr/local/lib/python3.6/dist-packages (from bokeh) (3.7.4.3)\n",
            "Requirement already satisfied, skipping upgrade: requests in /usr/local/lib/python3.6/dist-packages (from smart-open>=1.8.1->gensim) (2.23.0)\n",
            "Requirement already satisfied, skipping upgrade: MarkupSafe>=0.23 in /usr/local/lib/python3.6/dist-packages (from Jinja2>=2.7->bokeh) (1.1.1)\n",
            "Requirement already satisfied, skipping upgrade: pyparsing>=2.0.2 in /usr/local/lib/python3.6/dist-packages (from packaging>=16.8->bokeh) (2.4.7)\n",
            "Requirement already satisfied, skipping upgrade: idna<3,>=2.5 in /usr/local/lib/python3.6/dist-packages (from requests->smart-open>=1.8.1->gensim) (2.10)\n",
            "Requirement already satisfied, skipping upgrade: certifi>=2017.4.17 in /usr/local/lib/python3.6/dist-packages (from requests->smart-open>=1.8.1->gensim) (2020.6.20)\n",
            "Requirement already satisfied, skipping upgrade: chardet<4,>=3.0.2 in /usr/local/lib/python3.6/dist-packages (from requests->smart-open>=1.8.1->gensim) (3.0.4)\n",
            "Requirement already satisfied, skipping upgrade: urllib3!=1.25.0,!=1.25.1,<1.26,>=1.21.1 in /usr/local/lib/python3.6/dist-packages (from requests->smart-open>=1.8.1->gensim) (1.24.3)\n",
            "Building wheels for collected packages: nltk, bokeh\n",
            "  Building wheel for nltk (setup.py) ... \u001b[?25l\u001b[?25hdone\n",
            "  Created wheel for nltk: filename=nltk-3.5-cp36-none-any.whl size=1434677 sha256=16069ef2f8268a85d3a5341335ade372228e750016146aab9c6e965df4327b2b\n",
            "  Stored in directory: /root/.cache/pip/wheels/ae/8c/3f/b1fe0ba04555b08b57ab52ab7f86023639a526d8bc8d384306\n",
            "  Building wheel for bokeh (setup.py) ... \u001b[?25l\u001b[?25hdone\n",
            "  Created wheel for bokeh: filename=bokeh-2.2.2-cp36-none-any.whl size=9295654 sha256=1b9272764f51912c730c55a094592b42f0f8196fa2904aacdaaa0a7936b10dcc\n",
            "  Stored in directory: /root/.cache/pip/wheels/bd/0d/5c/bf819b4ee19f05984c5a7ddf4a5d3274ad5194e8c34bd52c30\n",
            "Successfully built nltk bokeh\n",
            "\u001b[31mERROR: albumentations 0.1.12 has requirement imgaug<0.2.7,>=0.2.5, but you'll have imgaug 0.2.9 which is incompatible.\u001b[0m\n",
            "Installing collected packages: nltk, gensim, pillow, bokeh\n",
            "  Found existing installation: nltk 3.2.5\n",
            "    Uninstalling nltk-3.2.5:\n",
            "      Successfully uninstalled nltk-3.2.5\n",
            "  Found existing installation: gensim 3.6.0\n",
            "    Uninstalling gensim-3.6.0:\n",
            "      Successfully uninstalled gensim-3.6.0\n",
            "  Found existing installation: Pillow 7.0.0\n",
            "    Uninstalling Pillow-7.0.0:\n",
            "      Successfully uninstalled Pillow-7.0.0\n",
            "  Found existing installation: bokeh 2.1.1\n",
            "    Uninstalling bokeh-2.1.1:\n",
            "      Successfully uninstalled bokeh-2.1.1\n",
            "Successfully installed bokeh-2.2.2 gensim-3.8.3 nltk-3.5 pillow-8.0.0\n"
          ],
          "name": "stdout"
        },
        {
          "output_type": "display_data",
          "data": {
            "application/vnd.colab-display-data+json": {
              "pip_warning": {
                "packages": [
                  "PIL"
                ]
              }
            }
          },
          "metadata": {
            "tags": []
          }
        }
      ]
    },
    {
      "cell_type": "code",
      "metadata": {
        "id": "_T57pbzUTjsm",
        "outputId": "ea7e9884-66ff-414a-8811-541ae5db5fe6",
        "colab": {
          "base_uri": "https://localhost:8080/",
          "height": 384
        }
      },
      "source": [
        "# download the data:\n",
        "!wget https://www.dropbox.com/s/obaitrix9jyu84r/quora.txt?dl=1 -O ./quora.txt\n",
        "# alternative download link: https://yadi.sk/i/BPQrUu1NaTduEw"
      ],
      "execution_count": null,
      "outputs": [
        {
          "output_type": "stream",
          "text": [
            "--2020-10-16 16:48:31--  https://www.dropbox.com/s/obaitrix9jyu84r/quora.txt?dl=1\n",
            "Resolving www.dropbox.com (www.dropbox.com)... 162.125.82.1, 2620:100:6032:1::a27d:5201\n",
            "Connecting to www.dropbox.com (www.dropbox.com)|162.125.82.1|:443... connected.\n",
            "HTTP request sent, awaiting response... 301 Moved Permanently\n",
            "Location: /s/dl/obaitrix9jyu84r/quora.txt [following]\n",
            "--2020-10-16 16:48:31--  https://www.dropbox.com/s/dl/obaitrix9jyu84r/quora.txt\n",
            "Reusing existing connection to www.dropbox.com:443.\n",
            "HTTP request sent, awaiting response... 302 Found\n",
            "Location: https://uc56a78fe3e44f2017bf152bb6c7.dl.dropboxusercontent.com/cd/0/get/BBaT0nvbiDOJFS6ggcmsUZWfnoPNz4UVjlP1lGZLV9ua08D4HABr0n8-uK3LGS-qsDlpS7gLqnfuZ_8SRIxNA0rJPtj5hXhX30lpmUnzKTuqcA/file?dl=1# [following]\n",
            "--2020-10-16 16:48:31--  https://uc56a78fe3e44f2017bf152bb6c7.dl.dropboxusercontent.com/cd/0/get/BBaT0nvbiDOJFS6ggcmsUZWfnoPNz4UVjlP1lGZLV9ua08D4HABr0n8-uK3LGS-qsDlpS7gLqnfuZ_8SRIxNA0rJPtj5hXhX30lpmUnzKTuqcA/file?dl=1\n",
            "Resolving uc56a78fe3e44f2017bf152bb6c7.dl.dropboxusercontent.com (uc56a78fe3e44f2017bf152bb6c7.dl.dropboxusercontent.com)... 162.125.82.15, 2620:100:6032:15::a27d:520f\n",
            "Connecting to uc56a78fe3e44f2017bf152bb6c7.dl.dropboxusercontent.com (uc56a78fe3e44f2017bf152bb6c7.dl.dropboxusercontent.com)|162.125.82.15|:443... connected.\n",
            "HTTP request sent, awaiting response... 200 OK\n",
            "Length: 33813903 (32M) [application/binary]\n",
            "Saving to: ‘./quora.txt’\n",
            "\n",
            "./quora.txt         100%[===================>]  32.25M  14.8MB/s    in 2.2s    \n",
            "\n",
            "2020-10-16 16:48:35 (14.8 MB/s) - ‘./quora.txt’ saved [33813903/33813903]\n",
            "\n"
          ],
          "name": "stdout"
        }
      ]
    },
    {
      "cell_type": "code",
      "metadata": {
        "scrolled": false,
        "id": "29DvCPtsTjth",
        "outputId": "6464e05e-cfcc-4333-f03f-7bdbbbc1e758",
        "colab": {
          "base_uri": "https://localhost:8080/",
          "height": 35
        }
      },
      "source": [
        "import numpy as np\n",
        "\n",
        "data = list(open(\"./quora.txt\"))\n",
        "data[50]"
      ],
      "execution_count": null,
      "outputs": [
        {
          "output_type": "execute_result",
          "data": {
            "application/vnd.google.colaboratory.intrinsic+json": {
              "type": "string"
            },
            "text/plain": [
              "\"What TV shows or books help you read people's body language?\\n\""
            ]
          },
          "metadata": {
            "tags": []
          },
          "execution_count": 5
        }
      ]
    },
    {
      "cell_type": "code",
      "metadata": {
        "id": "nQ9ifyFoUJCP",
        "outputId": "daf034e4-8496-4ee9-efbe-34731a5addd9",
        "colab": {
          "base_uri": "https://localhost:8080/",
          "height": 1000
        }
      },
      "source": [
        "data[::1000]"
      ],
      "execution_count": null,
      "outputs": [
        {
          "output_type": "execute_result",
          "data": {
            "text/plain": [
              "[\"Can I get back with my ex even though she is pregnant with another guy's baby?\\n\",\n",
              " 'What is the reason of British occupation in India?\\n',\n",
              " 'What are five problems every programmer should be able to answer?\\n',\n",
              " 'What languages are you fluent in?\\n',\n",
              " 'In what way I should arrange two convex lenses to get highest magnification? Also tell,what should be their focal lengths?\\n',\n",
              " 'Using GCM how does apps like Facebook, Quora, etc send notifications to a single user/device out of so many in the database? How exactly is the server side setup to filter users or devices based on some necessary fields?\\n',\n",
              " 'Will NEET 2017 be taken in two phases ?\\n',\n",
              " 'How do I know what martial art is right for me?\\n',\n",
              " 'If the invasion of Normandy failed would Hitler have won the war?\\n',\n",
              " 'How are bits and bytes related?\\n',\n",
              " \"Why don't gods have any last names (surnames) like we do have?\\n\",\n",
              " 'Who loves Greek mythology?\\n',\n",
              " 'Are moths dangerous to humans?\\n',\n",
              " 'How do I stop my dog from crying for no reason?\\n',\n",
              " 'Why does my urine smells like garlic?\\n',\n",
              " 'What was life in America like in the 1600s?\\n',\n",
              " 'When a man says he doesn\\'t want a relationship right now, is that the truth or \"he\\'s just not that into you\"?\\n',\n",
              " 'Is denaturation of proteins desirable?\\n',\n",
              " 'Will CSC and HP benefit from their merger?\\n',\n",
              " 'What is the difference between a comet and an asteroid?\\n',\n",
              " 'How do I convince my girlfriend to lose weight?\\n',\n",
              " \"If my boss owes me money and won't pay me what can I do about it?\\n\",\n",
              " \"Why did Ronaldo win Ballon d'Or?\\n\",\n",
              " 'What makes you a good role model?\\n',\n",
              " 'Should I send official AP score reports to colleges when applying, or only after getting admitted?\\n',\n",
              " 'I am in need of a laptop and after researching it I really want to go with a MacBook Pro. Should I buy it now or wait for a new release?\\n',\n",
              " 'What is the best way to get traffic to a genealogy website?\\n',\n",
              " 'My wife and I regularly reuse styrofoam cups after washing in the dishwasher. Friends suggest that we are creating a health hazard for ourselves. I understrand styrofoam is considered safe but what about our reuse over and over?\\n',\n",
              " 'What should I do about not getting any answers of my questions on Quora?\\n',\n",
              " 'Did Doug kill Rachel in Episode 39 (S3E13) of House of Cards and if so, why did he do it?\\n',\n",
              " 'How is an aquifer located?\\n',\n",
              " 'Why do people say \"it\\'s hard to get into University of Toronto\" Is it more difficult than most selective Universities in the US, like under 50% rate?\\n',\n",
              " 'How do I fill my big stomach with zero calories or low calories?\\n',\n",
              " 'Which is the best camera smartphone under 15k in India?\\n',\n",
              " 'What font is used in this picture?\\n',\n",
              " 'What is the difference between a simulator and an emulator?\\n',\n",
              " 'What stores sell dreamcatchers?\\n',\n",
              " 'What are some good free ebooks or pdf files on recording engineering or audio engineering?\\n',\n",
              " 'Is there any particle that interacts with matter but able to go through an entire planet? Like a photon or a neutrino?\\n',\n",
              " 'Which is the best breed of cat for a working couple?\\n',\n",
              " 'Who should Mulims vote for Trump who wants to ban them or Hillary who wants to bomb them?\\n',\n",
              " 'What does psomí mean?\\n',\n",
              " 'What is mechanical engineer?\\n',\n",
              " 'In mythologies, what do mermaids usually eat?\\n',\n",
              " 'How can we find professors, PhD & masters students from universities of Ukraine who would like to share their knowledge for free to record MOOCs?\\n',\n",
              " 'What is the best way to crack gate 2018?\\n',\n",
              " 'How would western history be different if Carthage had defeated the Roman Republic in the Punic wars?\\n',\n",
              " 'How does a face become more attractive during weight loss?\\n',\n",
              " 'What mistakes have you made in life?\\n',\n",
              " 'What are some freelancing tips?\\n',\n",
              " 'Which college I can get with 1577 rank in NEET 2016?\\n',\n",
              " 'How is the IIT food menu in the hostel mess?\\n',\n",
              " 'How good at math is Tony Stark?\\n',\n",
              " 'Is it a guarantee that you will lose some senses because of nerve damage after orthognathic surgery?\\n',\n",
              " 'What was your first date like?\\n',\n",
              " 'What do you think is meant by time travel?\\n',\n",
              " 'What is the scope of CSE with specialization in bioinformatics in India?\\n',\n",
              " 'Why is coming first a big deal?\\n',\n",
              " 'How often should I text my long distance crush (every day, two days, once a week)?\\n',\n",
              " 'How many marks in twelfth Bihar Board is required for the JEE advance cut off?\\n',\n",
              " 'How do I know if my girlfriend need sex?\\n',\n",
              " 'What is dark web? What happens there?\\n',\n",
              " 'Did Italy get pasta from China?\\n',\n",
              " 'What are some of the best smelling deodorants - for men?\\n',\n",
              " 'Will Sagittarius A* eventually suck in everything in our Galaxy over billions and billions of years?\\n',\n",
              " 'Can upgrade Dell Streak Pro D43 with Baidu Yi to Android 4?\\n',\n",
              " 'Is there any Milk Brand in India that provides 100% pure milk without any human contact?\\n',\n",
              " 'Ancoring script for alumini meet?\\n',\n",
              " 'What is Jio?\\n',\n",
              " 'What do Native Americans want to be called by others?\\n',\n",
              " 'Can dogs eat cat food?\\n',\n",
              " 'How can I treat this Khyphosis? Will it be treated and spine becomes ideal again?\\n',\n",
              " 'What is it like to use butt plugs?\\n',\n",
              " 'What is the largest lake in India?\\n',\n",
              " 'What physiological tricks are useful to know?\\n',\n",
              " 'How can you repair tooth enamel?\\n',\n",
              " 'I am pursuing Economics Hons from Delhi University. I am confused about my PG. What are the various options present for a PG after Eco Hons?\\n',\n",
              " 'What are some good examples of web based project management software?\\n',\n",
              " 'Why do we feel sorry for ourselves?\\n',\n",
              " \"Why doesn't the government of India remove the system of reservations?\\n\",\n",
              " 'Will President Donald Trump attempt to arrest Hillary Clinton over her e-mail scandal?\\n',\n",
              " 'Show that the set G= {1,2,3,…p-1..} of non zero integer module P. P is prime under multiplication module P is group?\\n',\n",
              " 'How is everyone earning millions from home by just using Uber app in mobile?\\n',\n",
              " 'What is document required for loan?\\n',\n",
              " 'What is the scope of laser in the future?\\n',\n",
              " 'How do I get over a major failure?\\n',\n",
              " 'As a Christian what is your view on god?\\n',\n",
              " 'What should one take as a souvenir from goa?\\n',\n",
              " 'There are ego problems in relationships these days. What is the worse incident of break up due to ego problem ?\\n',\n",
              " 'How can I loose 5 kgs weight in 10 days?\\n',\n",
              " 'What is the importance of mitosis and meiosis and what are their differences?\\n',\n",
              " 'Is Russia siding with Pakistan?\\n',\n",
              " 'What is the most peaceful time in history?\\n',\n",
              " 'Does life goes the way we think?\\n',\n",
              " 'How do big data databases handle the problem of primary key values running out given that the key is not unlimited size?\\n',\n",
              " 'How many people applied to ISB YLP in 2013?\\n',\n",
              " 'How can I make default storage to memory card in lenovo k3 note?\\n',\n",
              " 'My friend went abroad for a few days and is trying to make me jealous. How do I react?\\n',\n",
              " 'How did the Olmec people transport the boulders used for building the Olmec heads considering the fact that they never invented the wheel? Also, How did they carve the stones to make these heads?\\n',\n",
              " 'How does the Dos attack can be done?\\n',\n",
              " 'Which is the best cleaning service company in Australia?\\n',\n",
              " \"Why don't we see once wild, but now domesticated animals in their natural habitats anymore?\\n\",\n",
              " 'What is the past form of open?\\n',\n",
              " 'When neutral and ground wires get interchanged, there is flickering in the tube lights. Why?\\n',\n",
              " 'How do I send a text if someone has blocked me on SnapChat?\\n',\n",
              " 'T-SQL is for an MS SQL server. On the same lines, which language is used for MySQL RDBMS?\\n',\n",
              " 'Should I purchase a Honda Amaze or Toyota Etios?\\n',\n",
              " 'Could a person feel absolutely nothing if we look each other in the eyes for a longer duration?\\n',\n",
              " 'can i upgrade my laptop with 7200RPM HDD? my laptop model is HP starwars edition 2016 with i5–6200u\\n',\n",
              " 'What is dynamic view?\\n',\n",
              " 'How does the climate in Europe today compare to one thousand years ago?\\n',\n",
              " 'Does Putin actually care at all about the future of Russia?\\n',\n",
              " 'What makes Harvard one of the best universities in the world?\\n',\n",
              " 'What is the relationship between voltage and RPM in an AC motor?\\n',\n",
              " 'Do people in China eat walnuts?\\n',\n",
              " 'What are the limitation of classical conditioning?\\n',\n",
              " 'Why is skydiving expensive?\\n',\n",
              " 'What is the best way to remove blackhead scars?\\n',\n",
              " \"I have a great idea for a women's clothing company. I have the general business plan and concept down, but I have zero experience with creating clothing. How would I go about finding the right avenues and people to get started?\\n\",\n",
              " 'What is a good stock screener for Korean stocks?\\n',\n",
              " 'What are the ways to find a stolen laptop?\\n',\n",
              " 'Is 128 a good iq for a nine year old?\\n',\n",
              " 'Why do bus drivers wait at stops even though no else is getting on or off?\\n',\n",
              " 'How can I get bigger shoulders?\\n',\n",
              " 'From which website I can download latest and all english songs?\\n',\n",
              " 'Which is a better phone: an Honor 4X or a Lenovo K3 Note?\\n',\n",
              " 'Should a 15 year old boy have a job?\\n',\n",
              " 'How reliable are the results of Versant language test?\\n',\n",
              " 'Is petroleum engineering still a good major?\\n',\n",
              " 'Can we assemble and install a MP3 player or iPod by ourselves?\\n',\n",
              " 'Is it better to do a MS in US or a MS in Germany?\\n',\n",
              " 'Korean drama viki?\\n',\n",
              " 'Where can you trade commodities online?\\n',\n",
              " 'Can we use hair gel for beard?\\n',\n",
              " 'Are Sikhs more religious and more generous than Christians?\\n',\n",
              " \"I'm traveling to London solo and want to meet cool people. Should I stay at a hostel or book something on Airbnb?\\n\",\n",
              " 'What is Kai the robot?\\n',\n",
              " 'What is NETserver.app and should I allow it to accept incoming network connections?\\n',\n",
              " 'What is Diaspora?\\n',\n",
              " 'Is metasearch in travel a substantial business model?\\n',\n",
              " 'Who were the famous british restaurants owner?\\n',\n",
              " 'Is college football played under Canadian football rules popular in Canada?\\n',\n",
              " 'The Earth is not exactly spherical. Why?\\n',\n",
              " 'How can I find HIDDEN wasp nests and eradicate them?\\n',\n",
              " 'Is food addictive?\\n',\n",
              " 'How serious are the effects of human population on climate change and natural resources?\\n',\n",
              " 'Why do we forget dreams so quickly?\\n',\n",
              " 'How can I remove spiders from my house?\\n',\n",
              " \"What do you think of the name 'Zephyr' for a girl?\\n\",\n",
              " 'How is Apple innovative?\\n',\n",
              " 'Are there modern-day hippies? Where are they and how do they live?\\n',\n",
              " 'Why should pregnant women eat pomegranate?\\n',\n",
              " 'What is the difference between interpretation and translation?\\n',\n",
              " 'Subscribe data protection through virtualization?\\n',\n",
              " 'What is any extra charge if I deposit cash through an ATM branch of an SBI or any other bank?\\n',\n",
              " 'How does computer science and electrical engineering programmes at IIT Delhi compare in terms of placements? Answers with numbers (and not just CSE>EE) are expected.\\n',\n",
              " 'What is it like to be beautiful? Not just pretty or hot, but the kind of almost objective beauty that people are sometimes intimidated by?\\n',\n",
              " 'What are the essential skills for a electronic engineer?\\n',\n",
              " 'Why does my stomach feel cold inside?\\n',\n",
              " 'What do the members of the Legislative Assembly do?\\n',\n",
              " 'Do employees at International Speedway have a good work-life balance? Does this differ across positions and departments?\\n',\n",
              " 'What are some tips on making it through the job interview process at Artisan Partners?\\n',\n",
              " 'What are the security vulnerabilities in HTTP?\\n',\n",
              " \"What's it like meeting Azim Premji?\\n\",\n",
              " 'Why is Narendra Modi not fluent in English?\\n',\n",
              " 'Can Stress cause rectal bleeding?\\n',\n",
              " 'What is the IUPAC names of the following compounds?\\n',\n",
              " 'If you are single, after what age is it better to be single for the rest of your life?\\n',\n",
              " 'What percentage of international students pay for their PhD in Australia?\\n',\n",
              " 'How can you change the IMEI of an iPhone?\\n',\n",
              " 'Is the universe expanding day by day?\\n',\n",
              " 'How can one hide his/her private apps in android phone?\\n',\n",
              " 'Is Ruby on Rails dead?\\n',\n",
              " 'Are Wolverine 1000 Mile boots durable?\\n',\n",
              " 'Which posts are in mpsc?\\n',\n",
              " 'Why do we see colors when we close our eyes?\\n',\n",
              " 'How do I prove the independence of a product of random variables?\\n',\n",
              " 'What is your review of MySQL Performance?\\n',\n",
              " 'What is the most nutritionally-dense food, with the least calories?\\n',\n",
              " 'Why do people hate Common Core standards?\\n',\n",
              " \"Formula one - Why did Ayrton Senna's head move after his crash? How did his injuries kill him and how quick was his death?\\n\",\n",
              " \"I'm 20 years old and I have $15,000 from working that I want to invest. What should I do?\\n\",\n",
              " 'What are some examples of imprinting in animals?\\n',\n",
              " 'What are the pros and cons of fishing with tube flies?\\n',\n",
              " 'Where can I find designer fashion jewellery?\\n',\n",
              " 'How many times have the SF Giants won the World Series?\\n',\n",
              " 'How long can one be a software engineer?\\n',\n",
              " 'How much money do you need to earn to live a comfortable life in Japan?\\n',\n",
              " \"In 'The Scarlet Letter', why was Chillingworth called a leech?\\n\",\n",
              " 'Is there a union with plans to hold union organizing skill training for low-wage employees making products offshore?\\n',\n",
              " \"How do I tell my parents that I don't believe in god?\\n\",\n",
              " 'Do we need \"Share a Comment\" features on Facebook, What do you think?\\n',\n",
              " 'How is the TSA unconstitutional?\\n',\n",
              " 'How do I find someone by only first name?\\n',\n",
              " 'How can you get rid of a boil that is under the armpit?\\n',\n",
              " 'What is the future and life in merchant navy if I join?\\n',\n",
              " 'Who are some excellent underground hip-hop artists specifically local to your area that most people would not know about?\\n',\n",
              " 'If the civil war occurred today who would win?\\n',\n",
              " 'What is the best MIDI keyboard?\\n',\n",
              " 'What are the best episodes of Pretty Little Liars season 4?\\n',\n",
              " 'In some Japanese manga about sports or fighting, why are American opponents often portrayed as being mean and lacking sportsmanship?\\n',\n",
              " 'What will Hillary Clinton do about climate change?\\n',\n",
              " 'Is the Pearl Harbor 1941 attack a hoax? Or not?\\n',\n",
              " 'How long is a business considered a \"start-up\" for?\\n',\n",
              " 'How do I calculate the maximum buffer capacity?\\n',\n",
              " 'How do I spell etc.?\\n',\n",
              " 'Did later Mughal emperors (like Alamgir or Shah Alam) speak English?\\n',\n",
              " 'What is the easiest way of finding out if a song is a cover version?\\n',\n",
              " 'What are the most interesting products and innovations that Liberty Interactive is coming out with in 2016?\\n',\n",
              " 'What does the GRE mean by \"once every 21 days, up to five times within any continuous rolling 12-month period (365 days)\"?\\n',\n",
              " 'Why is  HTTP protocol called stateless protocol?\\n',\n",
              " 'What is some witty name for a 24hours food joint?\\n',\n",
              " 'Why was cotton known as \"king cotton\"?\\n',\n",
              " 'Can the \"seen\" mark in Facebook chat be turned off?\\n',\n",
              " 'Theism: What is the most convincing argument to become a theist?\\n',\n",
              " 'What does it mean when I get an update from Quora saying my answer was moved?\\n',\n",
              " 'Can China actually surpass USA as the superpower?\\n',\n",
              " 'Where can I catch a Tauros in Pokémon GO?\\n',\n",
              " 'How do you start a Wikipedia page about a company?\\n',\n",
              " 'What do radio station call letters mean?\\n',\n",
              " 'Why does Quora allow people to merge my question with others without my consent?\\n',\n",
              " 'What are the arguments for pro or anti monarchy in Britain?\\n',\n",
              " 'What was the production of artwork intended for in Hawaii and how is it compared to the one intended for in Alaska?\\n',\n",
              " 'How do you build a bench press?\\n',\n",
              " 'What is the difference between an \"account manager\" and \"accounts manager\"?\\n',\n",
              " 'Can we control our dreams? Can we dream what we wanna dream about?\\n',\n",
              " 'What is the difference between MPPT and PWM?\\n',\n",
              " 'What are the most common causes of fires in houses?\\n',\n",
              " 'Can I deposit money at a SBI branch which is not my home branch?\\n',\n",
              " 'What led FOX to accept New Girl on the first place?\\n',\n",
              " 'What are the dangers of alpha radiation? Why are they dangerous?\\n',\n",
              " 'How do I opt out from Life insurance investment?\\n',\n",
              " \"What is the best way to ruffle someone's feathers?\\n\",\n",
              " 'What is the remedy for prolonged knee pain?\\n',\n",
              " 'I wan to enter into an RSI. How can I enter into an RSI?\\n',\n",
              " 'What would happen if gene expression was not regulated?\\n',\n",
              " 'What similes does The Iliad have?\\n',\n",
              " 'To what extent does your undergraduate college have an influence on med school acceptances?\\n',\n",
              " 'How can I become famous one day?\\n',\n",
              " 'I want to update kyc in SBI bank if I already have another account wirh same name and id in SBI itself?\\n',\n",
              " \"Do we have great people who aren't patriotic?\\n\",\n",
              " 'What is the hiring process like at GitHub?\\n',\n",
              " 'How do I work out when I have no motivation to work out?\\n',\n",
              " 'How are non-identical twins made? How does that differ from identical twins?\\n',\n",
              " 'Could you recommend me a book for acid-base reactions in organic chemistry?\\n',\n",
              " 'What are good research topics in machine learning in 2016?\\n',\n",
              " 'What are the career options after graduation (B.sc Computer Science) ? . I like Computers, pschylogy and defense services\\n',\n",
              " 'What is it like to be an attractive woman?\\n',\n",
              " 'What does a green dot by the phone icon mean on Messenger?\\n',\n",
              " 'How well has Bill de Blasio managed NYC?\\n',\n",
              " 'What are the things one can do after an M.Tech in software engineering (from BITS Pilani) inside and outside of India?\\n',\n",
              " 'What individuals and events in history are a source of pride for Albania?\\n',\n",
              " 'What is the difference between Windows 7 Professional and Windows 7 Ultimate?\\n',\n",
              " 'How do you make a dynamic webpage in Express?\\n',\n",
              " 'What app will let me download free songs on my iPhone?\\n',\n",
              " 'If you had 100 billion dollars and you knew that you would always live like a multi-billionaire, what would be the first thing that you would do with that money?\\n',\n",
              " 'Is there any negative mark for IAS exam prelims and Mains?\\n',\n",
              " 'How do you become pretty/attractive?\\n',\n",
              " 'What are the top 10 films every film lover should see?\\n',\n",
              " 'Is six hours of sleep enough for a 11 year old?\\n',\n",
              " \"Why don't Muslim men wear hijab?\\n\",\n",
              " 'How do Private Equity Funds work in film?\\n',\n",
              " 'How can I make money off of $1000 in the stock market?\\n',\n",
              " 'Is it disrespectful to laugh hysterically in a public place?\\n',\n",
              " 'What does the expression \"the whole nine yards\" mean?\\n',\n",
              " 'Where can I play table tennis in Dubai?\\n',\n",
              " 'What is the meaning of the Telugu word prayam and tamakam?\\n',\n",
              " \"Should I leave my depressed girlfriend because she told me she wants to end it because she doesn't want to hurt me anymore?\\n\",\n",
              " 'I am a home-maker. I have not studied much, but I want to earn money without going out. How can I earn money from home?\\n',\n",
              " 'What is the difference between shia and sunni method of collecting Hadith?\\n',\n",
              " 'Should I do a Thiel Fellowship or college?\\n',\n",
              " 'What material should I use to pass the C2180-377 exam?\\n',\n",
              " 'Is it legal for rental company, to track my rental car location using GPS without my notice?\\n',\n",
              " 'Is C++ a good language for machine learning?\\n',\n",
              " 'What are some facts about India that Indians are generally unaware of?\\n',\n",
              " 'What are the pros and cons of being a girl in India?\\n',\n",
              " 'What do you do to spy on Facebook messages without a target phone?\\n',\n",
              " 'Can we use CSS styles on Javascript variables?\\n',\n",
              " 'What is the best way to soft boil an egg?\\n',\n",
              " 'How do I start to read Word Power Made Easy by Norman Lewis?\\n',\n",
              " 'What are the ways to start investing in Share Market?\\n',\n",
              " 'Is religion brainwashing?\\n',\n",
              " 'How can a scab inside an ear be treated?\\n',\n",
              " 'What secrets do women not want men to know?\\n',\n",
              " 'I really want to become a pilot. I am 15 years old and I want to know the steps to becoming a commercial pilot?\\n',\n",
              " 'What is the best language to teach concepts and good code?\\n',\n",
              " 'What do you think about attn.me?\\n',\n",
              " 'What is the relation between sun and eyes per Vedas?\\n',\n",
              " 'My boyfriend avoided me for half a month but when I decided to break up with him, he became affectionate all of a sudden. What does this mean?\\n',\n",
              " 'What makes Hamilton the musical so great?\\n',\n",
              " 'Why do Muslim-majority nations seem often to be at war with their non-Muslim neighbors and internal minorities?\\n',\n",
              " 'What is the most successful treatment for any cancer?\\n',\n",
              " 'How do you fix a broken finger that healed crooked?\\n',\n",
              " 'Why do Sphynx cats leave brown marks?\\n',\n",
              " 'How has DMT changed your life?\\n',\n",
              " 'How can I Self Publish Book in Austria?\\n',\n",
              " 'Why is lambswool itchy?\\n',\n",
              " 'Should I dump my girlfriend because she still cares for her ex boyfriend?\\n',\n",
              " 'What is the spiritual value of Halloween?\\n',\n",
              " 'Pull three blocks of same mass connected with each other, with F force and the acceleration is A so how much force will act on the middle one?\\n',\n",
              " \"Occasionally I feel a sharp pain near where I think my heart is and when I inhale it's painful, but goes away after a few seconds. Is this a bad sign?\\n\",\n",
              " 'What are the hottest startups in the Seattle in 2015?\\n',\n",
              " 'How are the placements at Manipal University Jaipur?\\n',\n",
              " 'Why is it so uncomfortable to eat with a palate expander?\\n',\n",
              " 'How can music help people with OCD?\\n',\n",
              " 'I lost my social security card a few months ago, what should I do?\\n',\n",
              " 'Who is the founder of zero?\\n',\n",
              " 'What are the pros and cons of Ruby on Rails?\\n',\n",
              " 'What is StartRating.com?\\n',\n",
              " 'What is the salary of the PM of India?\\n',\n",
              " 'Is Google Adwords dropping  Google+ from Search Ads?\\n',\n",
              " 'Textbooks for \"relativistic quantum mechanics\"?\\n',\n",
              " 'What are de broghlie matter wave?\\n',\n",
              " 'What is the example of analogy?\\n',\n",
              " \"What happened to Ritchie Valen's family after Ritchie died?\\n\",\n",
              " 'What is 1/2+1/2?\\n',\n",
              " 'I am planning to start an online grocery store. What are the steps to be taken to start the online grocery store?\\n',\n",
              " \"I'm 35. How much money should I have saved for retirement?\\n\",\n",
              " 'Is Odisha developing?\\n',\n",
              " 'Which are the best universities in USA?\\n',\n",
              " 'What are some places that I can visit in Chennai with my girlfriend?\\n',\n",
              " 'What is your review of PAN Card?\\n',\n",
              " 'International awards of Shahrukh Khan?\\n',\n",
              " 'How difficult is it to be a doctor?\\n',\n",
              " \"What dishes best represent Canada's history and culture?\\n\",\n",
              " 'How can I find Launchpad on my MacBook Air?\\n',\n",
              " 'I bought a second hand Hyundai i10 from Chennai. The A/C is making more noise while on. How much it will cost to replace the whole unit?\\n',\n",
              " 'I have scored 138 in NEET 2016, I am SC candidate, what can be my rank or can i get admission to any private college?\\n',\n",
              " 'What time gap should I maintain between yoga and having food?\\n',\n",
              " 'How much salary is enough to live comfortably in Saudi?\\n',\n",
              " 'How should I propose my girlfriend mathematically?\\n',\n",
              " 'If we were completely able to control our emotions and feelings, do you think it would make our lives better or worse? Why?\\n',\n",
              " 'Is corruption mixing things up?\\n',\n",
              " 'Do cats and dogs prefer to be domesticated?\\n',\n",
              " 'Why did animals evolve to need sleep?\\n',\n",
              " 'How do I wish someone a happy birthday anonymously?\\n',\n",
              " 'What is the scope of biotechnology in the USA?\\n',\n",
              " 'How do I perform well in an interview of IAS?\\n',\n",
              " 'How many phyla are there within the Archaea? What are the arguments for?\\n',\n",
              " 'How do I unarchive a conversation on Facebook Messenger?\\n',\n",
              " 'How many is too many illegal immigrants and how will America preserve its borders and identity as a nation?\\n',\n",
              " 'When a motor vehicle speed is limited by law, then why do manufacturers design cars that can go significantly above that limit?\\n',\n",
              " 'How can someone invent a time machine?\\n',\n",
              " 'What is it like to be a sociology professor?\\n',\n",
              " 'If you block someone on Quora, can they still comment on your board posts?\\n',\n",
              " 'What was combat like in the Vietnam war?\\n',\n",
              " 'How do tech startups file patents?\\n',\n",
              " 'What is the difference between sociology and journalism?\\n',\n",
              " 'How do you counter the impostor syndrome in grad school?\\n',\n",
              " 'What are the advantages and disadvantages of COPYWRITING?\\n',\n",
              " 'What are some of the best extempore topics?\\n',\n",
              " 'How much is one million and one billion in lakhs and crores?\\n',\n",
              " 'What type or genre of music is this and how can I find more music similar to this one?\\n',\n",
              " 'For how many days can a person survive without food?\\n',\n",
              " 'What is the meaning of the word paresham (its a Hindi name)?\\n',\n",
              " 'How can I make 100,000 in 1 month gambling?\\n',\n",
              " 'What are 5 natural resources used for civilization?\\n',\n",
              " 'Is it really possible to forget someone you loved more than anything else on this earth?\\n',\n",
              " 'How do I become a cloud engineer?\\n',\n",
              " 'What is the most expensive semi-commonly eaten dish?\\n',\n",
              " 'One of my closest male friends needs to update his fashion style. How can I tell him this and offer some help without being offensive?\\n',\n",
              " 'Can anyone tell me about the new credit based system in IIT Madras?\\n',\n",
              " 'How do I study history?\\n',\n",
              " 'What are self evolving religions?\\n',\n",
              " \"Who will win in an all out war - Ra's Al Ghul or Red Skull?\\n\",\n",
              " 'How do I repair damaged hair because of straightener?\\n',\n",
              " 'What are the differences between performing comedy on TV versus stand-up?\\n',\n",
              " \"I don't have enough money to go to Rice University, and I will now go to a state school. At an undergraduate level, am I at a disadvantage?\\n\",\n",
              " 'What is city compensatory allowance? Is it taxable or not?\\n',\n",
              " 'How would the world be different if we never split the atom?\\n',\n",
              " 'What are the resources to learn Data Structures using C?\\n',\n",
              " 'Can you mentor someone whose intrested in hacking and is currently an average skilled programmer (15years of age) in Kenya?\\n',\n",
              " 'Is interstellar travel is possible and which terms should be considered for travelling through worm hole?\\n',\n",
              " 'What are the top 5 problems faced by car drivers on the road?\\n',\n",
              " \"Atheists, what is the suitable reply to a non-believer who doesn't believe in religions, but he can't imagine his life without existence of god?\\n\",\n",
              " 'How do I convince my boyfriend to stop sagging his pants?\\n',\n",
              " 'What are the best ways to ward off stress?\\n',\n",
              " 'Does Quora advertise?\\n',\n",
              " 'Is Lucius Malfoy a Parselmouth?\\n',\n",
              " 'When can I meet God?\\n',\n",
              " 'A set A has 4 elements and another set B has 3 elements. What is the probability that a relation from A to B will be onto?\\n',\n",
              " 'What are the worst online dating sites for people of color?\\n',\n",
              " 'What is a good summer internship for maths students in India?\\n',\n",
              " \"I'm jealous of people who remember everything they read. How do I overcome this while becoming a better textbook reader myself?\\n\",\n",
              " 'What happens when you look into a microwave while its on?\\n',\n",
              " \"What's an alternative site to bookzz.org?\\n\",\n",
              " \"What's the most effective way to get started with Deep Learning?\\n\",\n",
              " 'What happens to the market price of shares when bonus shares are issued?\\n',\n",
              " 'How should I get health insurance?\\n',\n",
              " 'What is the spin quantum number and what is its value?\\n',\n",
              " 'How did/do you learn design?\\n',\n",
              " 'Is GDS (Worldspan, Sabre and Amadeus) knowledge still important to whoever wants to work in tourism professionally? Why?\\n',\n",
              " 'How did Elon Musk work for 100 hours a week for more than 15 years?\\n',\n",
              " 'What is oriental?\\n',\n",
              " 'Will EU fall apart in the next decade?\\n',\n",
              " 'Are there any Masonic lodges in India that are affiliated to the Grand Orient?\\n',\n",
              " 'How do I solve problems of boats and streams?\\n',\n",
              " 'How do buzzers operate?\\n',\n",
              " 'What do Greeks think of Brexit?\\n',\n",
              " 'What is the inheritance tax rate in Texas? Does this differ from state to state?\\n',\n",
              " 'Is it right for me to question so much when I read the Bible?\\n',\n",
              " 'How do you make a spicy crunchy tuna roll?\\n',\n",
              " 'What is best leader version of you?\\n',\n",
              " 'Does Allah know the proper punishment for the sins you have done? If I ask Allah for forgiveness after my punishment, will he gladly accept my wish and not punish me for my actions unless I do them again?\\n',\n",
              " 'Why should I learn a functional programming language?\\n',\n",
              " 'How much electricity bill is pending on govt. Organisations in UP?\\n',\n",
              " 'What are some summer programs similar to RSI where there are ample opportunities to conduct research?\\n',\n",
              " 'What will happen to Singaporean banks if 40% of their Indonesian assets flown back home ?\\n',\n",
              " 'How can you convince me to read nonfiction?\\n',\n",
              " 'How do banks make money from prepaid card?\\n',\n",
              " 'When will religion cease to exist?\\n',\n",
              " 'Why do some people believe Republicans are evil?\\n',\n",
              " 'Based on the latest Rand study, should the U.S. provoke a limited hot war with China now, before it loses the firm upper-hand in 2025?\\n',\n",
              " 'What are the best sex sites?\\n',\n",
              " \"Religion as a whole teaches love and compassion. Even if a god doesn't exist, why do people resist the thought of a religious mentality?\\n\",\n",
              " 'How do I raise seed money for a brilliant fintech idea?\\n',\n",
              " 'What would it take for you to vote for the US President?\\n',\n",
              " 'What is mean by infrastructure?\\n',\n",
              " 'How do I use import node.js in Unity 3D?\\n',\n",
              " 'Pokemon go hack?\\n',\n",
              " 'What is the difference between tablets and pills?\\n',\n",
              " 'What is a market space?\\n',\n",
              " 'Can tortoises eat blueberries? Why?\\n',\n",
              " 'Is actualtests.com a scam?\\n',\n",
              " 'Is there anything you can take to pass a urine test for meth?\\n',\n",
              " \"Why was I born? What am I? Why wasn't I born this person or that person, or a lion or dog or any other animal, whether in the present, future or past?\\n\",\n",
              " 'LeEco Le Max2 vs OnePlus 3, which one should you buy?\\n',\n",
              " 'Should I commit suicide if I failed in my final exams?\\n',\n",
              " \"What is Apple's corporate slogan? What does it mean?\\n\",\n",
              " 'What turns you on sexually as a woman or girl?\\n',\n",
              " \"How do we change the legal age from 18 to 25 considering brains aren't fully developed until then.?\\n\",\n",
              " 'What percent of smokers develop cancer vs non smokers?\\n',\n",
              " 'Who is the Greatest badass in history?\\n',\n",
              " 'How can a street photographer get paid?\\n',\n",
              " 'Will the US invade California?\\n',\n",
              " 'What is the maximum temperature stability of carbon fiber composite and glass fiber composite?\\n',\n",
              " 'How much has your salary increased from your first job to today?\\n',\n",
              " \"Is 'complacent' a negative word?\\n\",\n",
              " 'Which is the best Indian patriotic song?\\n',\n",
              " 'What do you enjoy about sex?\\n',\n",
              " \"Men, honest advice.. Why won't he give up pursuing me after two years?\\n\",\n",
              " 'How can I access a device on the same Wi-Fi network without knowing its password (hack)?\\n',\n",
              " 'What would be some extremely warm socks that can be worn with a barefoot style of running shoes?\\n',\n",
              " \"When did the laws change to if you're convicted of a law your gun ownership is taken away? And how do you get your owning a firearm rights restored?\\n\",\n",
              " \"Why do lot of people don't follow the principles of swami vivekananda?\\n\",\n",
              " 'What does it mean if my ex likes all of my Facebook statuses and pictures?\\n',\n",
              " 'What are some alternatives to SubtlePatterns.com?\\n',\n",
              " 'Can I use the simple past tense instead of the present perfect tense in these sentences?\\n',\n",
              " 'What does a communications manager do?\\n',\n",
              " 'In the crossroads scene in the movie Cast Away, did Chuck end up going back to that women with the wings symbol?\\n',\n",
              " 'Which is a suitable inpatient drug and alcohol rehab center in Lyon County KY?\\n',\n",
              " 'What is the most asked question in an interview?\\n',\n",
              " 'How do you livestream Instagram hashtags?\\n',\n",
              " 'Is BEL an appropriate firm for doing summer training by a mechanical engineer?\\n',\n",
              " 'If I delete someone from my Snapchat friend list, will he be able to see my best friends list?\\n',\n",
              " 'How popular were public executions as entertainment in the Europe of the 19th century?\\n',\n",
              " 'Which is good part time job in Chennai?\\n',\n",
              " 'Why some people commit suicide?\\n',\n",
              " 'Is it legal to drink alcohol while in an RV?\\n',\n",
              " 'In retrospect, did Magic Johnson need to retire from the NBA due to his having HIV?\\n',\n",
              " 'Can you change the way a girl thinks about you?\\n',\n",
              " 'What is Elon Musk like in person?\\n',\n",
              " 'Does testosterone increase in a man just by talking to a woman?\\n',\n",
              " 'Who are some of the best audiobook readers and why?\\n',\n",
              " 'What universities does Trillium Therapeutics recruit new grads from? What majors are they looking for?\\n',\n",
              " 'Is Pakistan an Islamic Nation?\\n',\n",
              " 'How did Apple keep the design of AirPods secret?\\n',\n",
              " 'Are Kayak price alerts useful?\\n',\n",
              " 'What is the best touchscreen alternative to a MacBook Pro in 2016?\\n',\n",
              " 'How do I to trace a phone call in real time with good accuracy?\\n',\n",
              " 'Why did it take so long for NASA to find water on Mars?\\n',\n",
              " 'How do I lose belly fat in a month without going to the gym?\\n',\n",
              " 'What is computer?\\n',\n",
              " 'How can I really make money online?\\n',\n",
              " 'Does the Big Bang infinitely repeat itself?\\n',\n",
              " 'What should everyone need to know about the 2014 Yahoo hack?\\n',\n",
              " 'What is another name for a nerve cell?\\n',\n",
              " 'Which are the three more realistic ways to become a multi millionaire before 30?\\n',\n",
              " 'What are the rights of a prisoner?\\n',\n",
              " \"What are the Monkey King's powers (Sun Wukong)?\\n\",\n",
              " 'How did your parents react when they came to know that you lost your virginity?\\n',\n",
              " \"What percentage of Vietnam's culture from food, traditions, etc would you say is derived or influenced by China?\\n\",\n",
              " 'What are some reasons that a guy would wear thong underwear instead of boxers or briefs?\\n',\n",
              " 'What makes you feel loved?\\n',\n",
              " 'Could a psychopath become a good CEO?\\n',\n",
              " 'What is T.S diagram?\\n',\n",
              " 'What are good topics for an architecture graduation thesis?\\n',\n",
              " 'What are the hottest startups in Ireland?\\n',\n",
              " \"When light bounces off an electron in the Compton effect and loses energy (giving it to the electron) wouldn't that slow it down?\\n\",\n",
              " 'What are the best petting zoos within a few hours of the San Francisco Bay Area?\\n',\n",
              " 'Top Writers Program?\\n',\n",
              " 'What is supply chain management of Berger and Nerolac Paints?\\n',\n",
              " 'I have a salary of 15 lpa with 3 years experience, but have only B.Tech degree, Do I have to pursue higher studies to grow in career?\\n',\n",
              " 'Do engineering classes depend on physics and calculus?\\n',\n",
              " \"Which is better for one's life, knowing more people or gaining more knowledge?\\n\",\n",
              " 'Which is better, chemical at BITS Goa or chemical at BITS Hyderabad?\\n',\n",
              " 'Should I quit engineering?\\n',\n",
              " 'Who makes more money, a portfolio manager from a hedge fund or one from a large asset manager, like Blackrock or Vanguard?\\n',\n",
              " 'Origin of udeniya (Brahmins)?\\n',\n",
              " 'Is there a way on Facebook to unfriend someone without them noticing?\\n',\n",
              " \"What are some mind-blowing Drivers accessories that exist that most people don't know about?\\n\",\n",
              " \"I feel like I'm being used, but I like him. We're friends with benefit. Should I leave?\\n\",\n",
              " 'Which is better: WordPress, Weebly or Blogger?\\n',\n",
              " 'What is the medicine (schapo) in India?\\n',\n",
              " 'What are different subjects taught in Algebra 1?\\n',\n",
              " 'How can I help take care of sore muscles (legs)?\\n',\n",
              " 'What is the typical career path of Market risk modeling?\\n',\n",
              " 'How do you drop ship?\\n',\n",
              " 'When will the stock market crash again?\\n',\n",
              " \"Isn't marriage a necessary evil?\\n\",\n",
              " 'What is Ashton Kutcher doing next?\\n',\n",
              " 'Why do we use n-hexane in thin layer chromatography?\\n',\n",
              " 'If I do MBBS and MD from USA howcan I help full?\\n',\n",
              " 'What are some stores similar to Forever 21?\\n',\n",
              " 'How often do people become rich thru Luck, Nepotism, Connections, rather than their own skill, talent, or hard work?\\n',\n",
              " 'What are three key economic questions that society must answer?\\n',\n",
              " \"What are the most important current women's rights issues in Ethiopia?\\n\",\n",
              " 'Will we add length of one car if the question is to find total distance used for overtake when two car of same length is moving.?\\n',\n",
              " 'What can I do if I ever spill water over my laptop?\\n',\n",
              " \"What are some mind-blowing technology tools that most people don't know about?\\n\",\n",
              " \"I believe I have settled the Riemann Hypothesis but don't want to make a fool of myself. How should I proceed?\\n\",\n",
              " 'China: What makes majority of China so poor despite its high development rate?\\n',\n",
              " 'What are the key qualities to become successful in life? How to adopt this qualities?\\n',\n",
              " 'How much is a 1962 US quarter valued for?\\n',\n",
              " 'Why the movie named Pink?\\n',\n",
              " 'What made Claude Debussy more famous: his works, or the impact he had on composers following him, and why?\\n',\n",
              " 'Which is the best online courses for learning mobile apps and web designing?\\n',\n",
              " 'How does the Chinese concept of chi differ from the Indian equivalent \"prana\"?\\n',\n",
              " 'What is the most efficient sorting algorithm for finding largest number among 20 numbers?\\n',\n",
              " \"Why USA goverment is not punished because of it's invansion to Iraq even the reason of invansion (biological weapon ownage) was not founded?\\n\",\n",
              " 'Does social workers have love life?\\n',\n",
              " 'Is it a good idea to invest 90% of your time in studying (engineering) from the ages of 18 to 23 years old?\\n',\n",
              " 'Is IIT the greatest tag even than MIT, Harvard, Stanford..etc?\\n',\n",
              " 'Why do table and ceiling fans rotate in the opposite direction?\\n',\n",
              " 'What is it like for you to appear much younger than your actual age?\\n',\n",
              " 'What is the best way to solve a 3x3 MIRROR Cube? How can I learn solving it?\\n',\n",
              " 'Will donating blood temporarily lower blood pressure?\\n',\n",
              " 'How can I learn marathons?\\n']"
            ]
          },
          "metadata": {
            "tags": []
          },
          "execution_count": 6
        }
      ]
    },
    {
      "cell_type": "markdown",
      "metadata": {
        "id": "Wn0fm3mxTjt8"
      },
      "source": [
        "__Tokenization:__ a typical first step for an nlp task is to split raw data into words.\n",
        "The text we're working with is in raw format: with all the punctuation and smiles attached to some words, so a simple str.split won't do.\n",
        "\n",
        "Let's use __`nltk`__ - a library that handles many nlp tasks like tokenization, stemming or part-of-speech tagging."
      ]
    },
    {
      "cell_type": "code",
      "metadata": {
        "id": "6TjYwaBYUcQV",
        "outputId": "7669baa7-1de6-499a-8c86-709f26e0384b",
        "colab": {
          "base_uri": "https://localhost:8080/",
          "height": 35
        }
      },
      "source": [
        "data[50]"
      ],
      "execution_count": null,
      "outputs": [
        {
          "output_type": "execute_result",
          "data": {
            "application/vnd.google.colaboratory.intrinsic+json": {
              "type": "string"
            },
            "text/plain": [
              "\"What TV shows or books help you read people's body language?\\n\""
            ]
          },
          "metadata": {
            "tags": []
          },
          "execution_count": 8
        }
      ]
    },
    {
      "cell_type": "code",
      "metadata": {
        "id": "eDPAbrdGTjuC",
        "outputId": "c84bd8dd-ef3f-4292-aee2-67bb3ab1c104",
        "colab": {
          "base_uri": "https://localhost:8080/",
          "height": 54
        }
      },
      "source": [
        "from nltk.tokenize import WordPunctTokenizer\n",
        "tokenizer = WordPunctTokenizer()\n",
        "\n",
        "print(tokenizer.tokenize(data[50]))"
      ],
      "execution_count": null,
      "outputs": [
        {
          "output_type": "stream",
          "text": [
            "['What', 'TV', 'shows', 'or', 'books', 'help', 'you', 'read', 'people', \"'\", 's', 'body', 'language', '?']\n"
          ],
          "name": "stdout"
        }
      ]
    },
    {
      "cell_type": "code",
      "metadata": {
        "id": "GrFWX7xfTjuk"
      },
      "source": [
        "# TASK: lowercase everything and extract tokens with tokenizer. \n",
        "# data_tok should be a list of lists of tokens for each line in data.\n",
        "\n",
        "data_tok = [\n",
        "            tokenizer.tokenize(line.lower()) for line in data\n",
        "]"
      ],
      "execution_count": null,
      "outputs": []
    },
    {
      "cell_type": "code",
      "metadata": {
        "id": "FxGDmmj1Tju4"
      },
      "source": [
        "assert all(isinstance(row, (list, tuple)) for row in data_tok), \"please convert each line into a list of tokens (strings)\"\n",
        "assert all(all(isinstance(tok, str) for tok in row) for row in data_tok), \"please convert each line into a list of tokens (strings)\"\n",
        "is_latin = lambda tok: all('a' <= x.lower() <= 'z' for x in tok)\n",
        "assert all(map(lambda l: not is_latin(l) or l.islower(), map(' '.join, data_tok))), \"please make sure to lowercase the data\""
      ],
      "execution_count": null,
      "outputs": []
    },
    {
      "cell_type": "code",
      "metadata": {
        "id": "vnKk9Q6gTjvO",
        "outputId": "729fd24d-3e2f-41f6-eb22-bb6da93b8567",
        "colab": {
          "base_uri": "https://localhost:8080/",
          "height": 54
        }
      },
      "source": [
        "print([' '.join(row) for row in data_tok[:2]])"
      ],
      "execution_count": null,
      "outputs": [
        {
          "output_type": "stream",
          "text": [
            "[\"can i get back with my ex even though she is pregnant with another guy ' s baby ?\", 'what are some ways to overcome a fast food addiction ?']\n"
          ],
          "name": "stdout"
        }
      ]
    },
    {
      "cell_type": "markdown",
      "metadata": {
        "id": "8NmxCyfYTjve"
      },
      "source": [
        "__Word vectors:__ as the saying goes, there's more than one way to train word embeddings. There's Word2Vec and GloVe with different objective functions. Then there's fasttext that uses character-level models to train word embeddings. \n",
        "\n",
        "The choice is huge, so let's start someplace small: __gensim__ is another nlp library that features many vector-based models incuding word2vec."
      ]
    },
    {
      "cell_type": "code",
      "metadata": {
        "id": "XbQxBCE5Tjvh"
      },
      "source": [
        "from gensim.models import Word2Vec\n",
        "model = Word2Vec(data_tok, \n",
        "                 size=32,      # embedding vector size\n",
        "                 min_count=5,  # consider words that occured at least 5 times\n",
        "                 window=5).wv  # define context as a 5-word window around the target word"
      ],
      "execution_count": null,
      "outputs": []
    },
    {
      "cell_type": "code",
      "metadata": {
        "id": "JqNm4EzITjvv",
        "outputId": "8dcc50a9-b700-4ca3-b8c3-e89eb4791766",
        "colab": {
          "base_uri": "https://localhost:8080/",
          "height": 139
        }
      },
      "source": [
        "# now you can get word vectors !\n",
        "model.get_vector('anything')"
      ],
      "execution_count": null,
      "outputs": [
        {
          "output_type": "execute_result",
          "data": {
            "text/plain": [
              "array([-2.0237515 ,  1.7070084 , -1.8364156 , -0.5690296 , -0.4636677 ,\n",
              "       -2.7337174 ,  0.31845352, -2.626456  , -3.813363  , -4.2316513 ,\n",
              "       -0.8197592 , -2.544294  ,  0.47287515, -0.03459149,  1.0228009 ,\n",
              "       -1.5803438 , -0.3733159 , -1.5110304 ,  1.4262396 ,  1.5268326 ,\n",
              "       -5.436243  , -1.3311472 ,  1.6984696 , -2.0374343 , -0.5970503 ,\n",
              "       -2.458247  , -1.2874178 , -0.85115314, -0.4816336 ,  2.6854844 ,\n",
              "       -1.3937193 , -1.7566819 ], dtype=float32)"
            ]
          },
          "metadata": {
            "tags": []
          },
          "execution_count": 16
        }
      ]
    },
    {
      "cell_type": "code",
      "metadata": {
        "id": "CeTV33f5WyAG",
        "outputId": "fbe8f59f-69aa-4bfa-94a6-336660503d29",
        "colab": {
          "base_uri": "https://localhost:8080/",
          "height": 34
        }
      },
      "source": [
        "(model.get_vector('bread') * model.get_vector('break')).sum() / (\n",
        "    np.linalg.norm(model.get_vector('bread'))\n",
        "  * np.linalg.norm(model.get_vector('break'))\n",
        ")"
      ],
      "execution_count": null,
      "outputs": [
        {
          "output_type": "execute_result",
          "data": {
            "text/plain": [
              "0.08073245"
            ]
          },
          "metadata": {
            "tags": []
          },
          "execution_count": 22
        }
      ]
    },
    {
      "cell_type": "code",
      "metadata": {
        "id": "928SXCjlTjwE",
        "outputId": "35697db4-c78a-4cb1-b38a-1379f80c18b3",
        "colab": {
          "base_uri": "https://localhost:8080/",
          "height": 191
        }
      },
      "source": [
        "# or query similar words directly. Go play with it!\n",
        "model.most_similar('dumb')"
      ],
      "execution_count": null,
      "outputs": [
        {
          "output_type": "execute_result",
          "data": {
            "text/plain": [
              "[('selfish', 0.8542287349700928),\n",
              " ('lazy', 0.846993625164032),\n",
              " ('quiet', 0.8469163179397583),\n",
              " ('stupid', 0.8333081603050232),\n",
              " ('arrogant', 0.8208274841308594),\n",
              " ('rude', 0.8111382722854614),\n",
              " ('hesitant', 0.7909581661224365),\n",
              " ('ignorant', 0.7826807498931885),\n",
              " ('insecure', 0.7743826508522034),\n",
              " ('shy', 0.774242639541626)]"
            ]
          },
          "metadata": {
            "tags": []
          },
          "execution_count": 26
        }
      ]
    },
    {
      "cell_type": "markdown",
      "metadata": {
        "id": "cHUO8nfcTjwd"
      },
      "source": [
        "### Using pre-trained model\n",
        "\n",
        "Took it a while, huh? Now imagine training life-sized (100~300D) word embeddings on gigabytes of text: wikipedia articles or twitter posts. \n",
        "\n",
        "Thankfully, nowadays you can get a pre-trained word embedding model in 2 lines of code (no sms required, promise)."
      ]
    },
    {
      "cell_type": "code",
      "metadata": {
        "id": "k5oVIaGyYHVj",
        "outputId": "f42c0ec8-7c7b-4354-a6f8-49732392fac8",
        "colab": {
          "base_uri": "https://localhost:8080/",
          "height": 54
        }
      },
      "source": [
        "import gensim.downloader as api\n",
        "api.info()['models'].keys()"
      ],
      "execution_count": null,
      "outputs": [
        {
          "output_type": "execute_result",
          "data": {
            "text/plain": [
              "dict_keys(['fasttext-wiki-news-subwords-300', 'conceptnet-numberbatch-17-06-300', 'word2vec-ruscorpora-300', 'word2vec-google-news-300', 'glove-wiki-gigaword-50', 'glove-wiki-gigaword-100', 'glove-wiki-gigaword-200', 'glove-wiki-gigaword-300', 'glove-twitter-25', 'glove-twitter-50', 'glove-twitter-100', 'glove-twitter-200', '__testing_word2vec-matrix-synopsis'])"
            ]
          },
          "metadata": {
            "tags": []
          },
          "execution_count": 30
        }
      ]
    },
    {
      "cell_type": "code",
      "metadata": {
        "id": "q3FJNhj_Tjwh",
        "outputId": "03f14168-051c-4c59-f647-8f41dff4c455",
        "colab": {
          "base_uri": "https://localhost:8080/",
          "height": 54
        }
      },
      "source": [
        "import gensim.downloader as api\n",
        "model = api.load('glove-twitter-100')"
      ],
      "execution_count": null,
      "outputs": [
        {
          "output_type": "stream",
          "text": [
            "[==================================================] 100.0% 387.1/387.1MB downloaded\n"
          ],
          "name": "stdout"
        }
      ]
    },
    {
      "cell_type": "code",
      "metadata": {
        "id": "l2nhvWxiZ2Ar",
        "outputId": "22795b86-857a-4f08-f404-bad7968a45cf",
        "colab": {
          "base_uri": "https://localhost:8080/",
          "height": 191
        }
      },
      "source": [
        "model.most_similar(positive=[\"spock\", \"starwars\"], negative=[\"startrek\"])"
      ],
      "execution_count": null,
      "outputs": [
        {
          "output_type": "execute_result",
          "data": {
            "text/plain": [
              "[('anakin', 0.5832771062850952),\n",
              " ('jedi', 0.579538106918335),\n",
              " ('gandalf', 0.5686102509498596),\n",
              " ('skywalker', 0.5629979968070984),\n",
              " ('darth', 0.5450183153152466),\n",
              " ('lego', 0.5328736305236816),\n",
              " ('sheldon', 0.5325480103492737),\n",
              " ('superman', 0.529067873954773),\n",
              " ('percy', 0.5275880098342896),\n",
              " ('chuck', 0.5168545246124268)]"
            ]
          },
          "metadata": {
            "tags": []
          },
          "execution_count": 33
        }
      ]
    },
    {
      "cell_type": "code",
      "metadata": {
        "id": "VJy5ajXYTjwy",
        "outputId": "133e3a9f-ed7b-4104-894a-80ac4d7804fe",
        "colab": {
          "base_uri": "https://localhost:8080/",
          "height": 191
        }
      },
      "source": [
        "model.most_similar(positive=[\"coder\", \"money\"], negative=[\"brain\"])"
      ],
      "execution_count": null,
      "outputs": [
        {
          "output_type": "execute_result",
          "data": {
            "text/plain": [
              "[('broker', 0.5820155739784241),\n",
              " ('bonuses', 0.5424473285675049),\n",
              " ('banker', 0.538511335849762),\n",
              " ('designer', 0.5197198390960693),\n",
              " ('merchandising', 0.4964233934879303),\n",
              " ('treet', 0.49220192432403564),\n",
              " ('shopper', 0.4920561909675598),\n",
              " ('part-time', 0.49128279089927673),\n",
              " ('freelance', 0.4843311905860901),\n",
              " ('aupair', 0.4796452522277832)]"
            ]
          },
          "metadata": {
            "tags": []
          },
          "execution_count": 32
        }
      ]
    },
    {
      "cell_type": "markdown",
      "metadata": {
        "id": "8B9AYqznTjxC"
      },
      "source": [
        "### Visualizing word vectors\n",
        "\n",
        "One way to see if our vectors are any good is to plot them. Thing is, those vectors are in 30D+ space and we humans are more used to 2-3D.\n",
        "\n",
        "Luckily, we machine learners know about __dimensionality reduction__ methods.\n",
        "\n",
        "Let's use that to plot 1000 most frequent words"
      ]
    },
    {
      "cell_type": "code",
      "metadata": {
        "id": "-D4bivLGTjxE",
        "outputId": "be74c58a-4cdb-4506-8657-c2e06994b744",
        "colab": {
          "base_uri": "https://localhost:8080/",
          "height": 54
        }
      },
      "source": [
        "words = sorted(model.vocab.keys(), \n",
        "               key=lambda word: model.vocab[word].count,\n",
        "               reverse=True)[:1000]\n",
        "\n",
        "print(words[::100])"
      ],
      "execution_count": null,
      "outputs": [
        {
          "output_type": "stream",
          "text": [
            "['<user>', '_', 'please', 'apa', 'justin', 'text', 'hari', 'playing', 'once', 'sei']\n"
          ],
          "name": "stdout"
        }
      ]
    },
    {
      "cell_type": "code",
      "metadata": {
        "id": "KCZczy29aZBf"
      },
      "source": [
        ""
      ],
      "execution_count": null,
      "outputs": []
    },
    {
      "cell_type": "code",
      "metadata": {
        "id": "ufKUxwrhTjxT"
      },
      "source": [
        "# for each word, compute it's vector with model\n",
        "word_vectors = np.array(\n",
        "    [model.get_vector(w) for w in words]\n",
        ")"
      ],
      "execution_count": null,
      "outputs": []
    },
    {
      "cell_type": "code",
      "metadata": {
        "id": "68rShx_eagq2",
        "outputId": "44382735-bf35-4dac-d333-75659f555653",
        "colab": {
          "base_uri": "https://localhost:8080/",
          "height": 34
        }
      },
      "source": [
        "word_vectors.shape"
      ],
      "execution_count": null,
      "outputs": [
        {
          "output_type": "execute_result",
          "data": {
            "text/plain": [
              "(1000, 100)"
            ]
          },
          "metadata": {
            "tags": []
          },
          "execution_count": 38
        }
      ]
    },
    {
      "cell_type": "code",
      "metadata": {
        "id": "KSLulgu2Tjxm"
      },
      "source": [
        "assert isinstance(word_vectors, np.ndarray)\n",
        "assert word_vectors.shape == (len(words), 100)\n",
        "assert np.isfinite(word_vectors).all()"
      ],
      "execution_count": null,
      "outputs": []
    },
    {
      "cell_type": "markdown",
      "metadata": {
        "id": "3vOiCv-NTjyC"
      },
      "source": [
        "#### Linear projection: PCA\n",
        "\n",
        "The simplest linear dimensionality reduction method is __P__rincipial __C__omponent __A__nalysis.\n",
        "\n",
        "In geometric terms, PCA tries to find axes along which most of the variance occurs. The \"natural\" axes, if you wish.\n",
        "\n",
        "<img src=\"https://github.com/yandexdataschool/Practical_RL/raw/master/yet_another_week/_resource/pca_fish.png\" style=\"width:30%\">\n",
        "\n",
        "\n",
        "Under the hood, it attempts to decompose object-feature matrix $X$ into two smaller matrices: $W$ and $\\hat W$ minimizing _mean squared error_:\n",
        "\n",
        "$$\\|(X W) \\hat{W} - X\\|^2_2 \\to_{W, \\hat{W}} \\min$$\n",
        "- $X \\in \\mathbb{R}^{n \\times m}$ - object matrix (**centered**);\n",
        "- $W \\in \\mathbb{R}^{m \\times d}$ - matrix of direct transformation;\n",
        "- $\\hat{W} \\in \\mathbb{R}^{d \\times m}$ - matrix of reverse transformation;\n",
        "- $n$ samples, $m$ original dimensions and $d$ target dimensions;\n",
        "\n"
      ]
    },
    {
      "cell_type": "code",
      "metadata": {
        "id": "3d4cWsyXTjyG"
      },
      "source": [
        "from sklearn.decomposition import PCA\n",
        "\n",
        "# map word vectors onto 2d plane with PCA. Use good old sklearn api (fit, transform)\n",
        "# after that, normalize vectors to make sure they have zero mean and unit variance\n",
        "word_vectors_pca = PCA(2).fit_transform(word_vectors)\n",
        "\n",
        "# and maybe MORE OF YOUR CODE here :)"
      ],
      "execution_count": null,
      "outputs": []
    },
    {
      "cell_type": "code",
      "metadata": {
        "id": "NwnWYChnTjyX"
      },
      "source": [
        "assert word_vectors_pca.shape == (len(word_vectors), 2), \"there must be a 2d vector for each word\"\n",
        "assert max(abs(word_vectors_pca.mean(0))) < 1e-5, \"points must be zero-centered\"\n",
        "# assert max(abs(1.0 - word_vectors_pca.std(0))) < 1e-2, \"points must have unit variance\""
      ],
      "execution_count": null,
      "outputs": []
    },
    {
      "cell_type": "markdown",
      "metadata": {
        "id": "jhgcu6NtTjyr"
      },
      "source": [
        "#### Let's draw it!"
      ]
    },
    {
      "cell_type": "code",
      "metadata": {
        "id": "I44XS6PQTjyt"
      },
      "source": [
        "import bokeh.models as bm, bokeh.plotting as pl\n",
        "from bokeh.io import output_notebook\n",
        "output_notebook()\n",
        "\n",
        "def draw_vectors(x, y, radius=10, alpha=0.25, color='blue',\n",
        "                 width=600, height=400, show=True, **kwargs):\n",
        "    \"\"\" draws an interactive plot for data points with auxilirary info on hover \"\"\"\n",
        "    if isinstance(color, str): color = [color] * len(x)\n",
        "    data_source = bm.ColumnDataSource({ 'x' : x, 'y' : y, 'color': color, **kwargs })\n",
        "\n",
        "    fig = pl.figure(active_scroll='wheel_zoom', width=width, height=height)\n",
        "    fig.scatter('x', 'y', size=radius, color='color', alpha=alpha, source=data_source)\n",
        "\n",
        "    fig.add_tools(bm.HoverTool(tooltips=[(key, \"@\" + key) for key in kwargs.keys()]))\n",
        "    if show: pl.show(fig)\n",
        "    return fig"
      ],
      "execution_count": null,
      "outputs": []
    },
    {
      "cell_type": "code",
      "metadata": {
        "id": "XLAT1J19Tjy2",
        "outputId": "42986a30-78ea-4697-c9e8-13d25d909faa",
        "colab": {
          "base_uri": "https://localhost:8080/",
          "height": 434
        }
      },
      "source": [
        "draw_vectors(word_vectors_pca[:, 0], word_vectors_pca[:, 1], token=words)\n",
        "\n",
        "# hover a mouse over there and see if you can identify the clusters"
      ],
      "execution_count": null,
      "outputs": [
        {
          "output_type": "display_data",
          "data": {
            "application/javascript": [
              "\n",
              "(function(root) {\n",
              "  function now() {\n",
              "    return new Date();\n",
              "  }\n",
              "\n",
              "  var force = true;\n",
              "\n",
              "  if (typeof root._bokeh_onload_callbacks === \"undefined\" || force === true) {\n",
              "    root._bokeh_onload_callbacks = [];\n",
              "    root._bokeh_is_loading = undefined;\n",
              "  }\n",
              "\n",
              "  var JS_MIME_TYPE = 'application/javascript';\n",
              "  var HTML_MIME_TYPE = 'text/html';\n",
              "  var EXEC_MIME_TYPE = 'application/vnd.bokehjs_exec.v0+json';\n",
              "  var CLASS_NAME = 'output_bokeh rendered_html';\n",
              "\n",
              "  /**\n",
              "   * Render data to the DOM node\n",
              "   */\n",
              "  function render(props, node) {\n",
              "    var script = document.createElement(\"script\");\n",
              "    node.appendChild(script);\n",
              "  }\n",
              "\n",
              "  /**\n",
              "   * Handle when an output is cleared or removed\n",
              "   */\n",
              "  function handleClearOutput(event, handle) {\n",
              "    var cell = handle.cell;\n",
              "\n",
              "    var id = cell.output_area._bokeh_element_id;\n",
              "    var server_id = cell.output_area._bokeh_server_id;\n",
              "    // Clean up Bokeh references\n",
              "    if (id != null && id in Bokeh.index) {\n",
              "      Bokeh.index[id].model.document.clear();\n",
              "      delete Bokeh.index[id];\n",
              "    }\n",
              "\n",
              "    if (server_id !== undefined) {\n",
              "      // Clean up Bokeh references\n",
              "      var cmd = \"from bokeh.io.state import curstate; print(curstate().uuid_to_server['\" + server_id + \"'].get_sessions()[0].document.roots[0]._id)\";\n",
              "      cell.notebook.kernel.execute(cmd, {\n",
              "        iopub: {\n",
              "          output: function(msg) {\n",
              "            var id = msg.content.text.trim();\n",
              "            if (id in Bokeh.index) {\n",
              "              Bokeh.index[id].model.document.clear();\n",
              "              delete Bokeh.index[id];\n",
              "            }\n",
              "          }\n",
              "        }\n",
              "      });\n",
              "      // Destroy server and session\n",
              "      var cmd = \"import bokeh.io.notebook as ion; ion.destroy_server('\" + server_id + \"')\";\n",
              "      cell.notebook.kernel.execute(cmd);\n",
              "    }\n",
              "  }\n",
              "\n",
              "  /**\n",
              "   * Handle when a new output is added\n",
              "   */\n",
              "  function handleAddOutput(event, handle) {\n",
              "    var output_area = handle.output_area;\n",
              "    var output = handle.output;\n",
              "\n",
              "    // limit handleAddOutput to display_data with EXEC_MIME_TYPE content only\n",
              "    if ((output.output_type != \"display_data\") || (!output.data.hasOwnProperty(EXEC_MIME_TYPE))) {\n",
              "      return\n",
              "    }\n",
              "\n",
              "    var toinsert = output_area.element.find(\".\" + CLASS_NAME.split(' ')[0]);\n",
              "\n",
              "    if (output.metadata[EXEC_MIME_TYPE][\"id\"] !== undefined) {\n",
              "      toinsert[toinsert.length - 1].firstChild.textContent = output.data[JS_MIME_TYPE];\n",
              "      // store reference to embed id on output_area\n",
              "      output_area._bokeh_element_id = output.metadata[EXEC_MIME_TYPE][\"id\"];\n",
              "    }\n",
              "    if (output.metadata[EXEC_MIME_TYPE][\"server_id\"] !== undefined) {\n",
              "      var bk_div = document.createElement(\"div\");\n",
              "      bk_div.innerHTML = output.data[HTML_MIME_TYPE];\n",
              "      var script_attrs = bk_div.children[0].attributes;\n",
              "      for (var i = 0; i < script_attrs.length; i++) {\n",
              "        toinsert[toinsert.length - 1].firstChild.setAttribute(script_attrs[i].name, script_attrs[i].value);\n",
              "        toinsert[toinsert.length - 1].firstChild.textContent = bk_div.children[0].textContent\n",
              "      }\n",
              "      // store reference to server id on output_area\n",
              "      output_area._bokeh_server_id = output.metadata[EXEC_MIME_TYPE][\"server_id\"];\n",
              "    }\n",
              "  }\n",
              "\n",
              "  function register_renderer(events, OutputArea) {\n",
              "\n",
              "    function append_mime(data, metadata, element) {\n",
              "      // create a DOM node to render to\n",
              "      var toinsert = this.create_output_subarea(\n",
              "        metadata,\n",
              "        CLASS_NAME,\n",
              "        EXEC_MIME_TYPE\n",
              "      );\n",
              "      this.keyboard_manager.register_events(toinsert);\n",
              "      // Render to node\n",
              "      var props = {data: data, metadata: metadata[EXEC_MIME_TYPE]};\n",
              "      render(props, toinsert[toinsert.length - 1]);\n",
              "      element.append(toinsert);\n",
              "      return toinsert\n",
              "    }\n",
              "\n",
              "    /* Handle when an output is cleared or removed */\n",
              "    events.on('clear_output.CodeCell', handleClearOutput);\n",
              "    events.on('delete.Cell', handleClearOutput);\n",
              "\n",
              "    /* Handle when a new output is added */\n",
              "    events.on('output_added.OutputArea', handleAddOutput);\n",
              "\n",
              "    /**\n",
              "     * Register the mime type and append_mime function with output_area\n",
              "     */\n",
              "    OutputArea.prototype.register_mime_type(EXEC_MIME_TYPE, append_mime, {\n",
              "      /* Is output safe? */\n",
              "      safe: true,\n",
              "      /* Index of renderer in `output_area.display_order` */\n",
              "      index: 0\n",
              "    });\n",
              "  }\n",
              "\n",
              "  // register the mime type if in Jupyter Notebook environment and previously unregistered\n",
              "  if (root.Jupyter !== undefined) {\n",
              "    var events = require('base/js/events');\n",
              "    var OutputArea = require('notebook/js/outputarea').OutputArea;\n",
              "\n",
              "    if (OutputArea.prototype.mime_types().indexOf(EXEC_MIME_TYPE) == -1) {\n",
              "      register_renderer(events, OutputArea);\n",
              "    }\n",
              "  }\n",
              "\n",
              "  \n",
              "  if (typeof (root._bokeh_timeout) === \"undefined\" || force === true) {\n",
              "    root._bokeh_timeout = Date.now() + 5000;\n",
              "    root._bokeh_failed_load = false;\n",
              "  }\n",
              "\n",
              "  var NB_LOAD_WARNING = {'data': {'text/html':\n",
              "     \"<div style='background-color: #fdd'>\\n\"+\n",
              "     \"<p>\\n\"+\n",
              "     \"BokehJS does not appear to have successfully loaded. If loading BokehJS from CDN, this \\n\"+\n",
              "     \"may be due to a slow or bad network connection. Possible fixes:\\n\"+\n",
              "     \"</p>\\n\"+\n",
              "     \"<ul>\\n\"+\n",
              "     \"<li>re-rerun `output_notebook()` to attempt to load from CDN again, or</li>\\n\"+\n",
              "     \"<li>use INLINE resources instead, as so:</li>\\n\"+\n",
              "     \"</ul>\\n\"+\n",
              "     \"<code>\\n\"+\n",
              "     \"from bokeh.resources import INLINE\\n\"+\n",
              "     \"output_notebook(resources=INLINE)\\n\"+\n",
              "     \"</code>\\n\"+\n",
              "     \"</div>\"}};\n",
              "\n",
              "  function display_loaded() {\n",
              "    var el = document.getElementById(null);\n",
              "    if (el != null) {\n",
              "      el.textContent = \"BokehJS is loading...\";\n",
              "    }\n",
              "    if (root.Bokeh !== undefined) {\n",
              "      if (el != null) {\n",
              "        el.textContent = \"BokehJS \" + root.Bokeh.version + \" successfully loaded.\";\n",
              "      }\n",
              "    } else if (Date.now() < root._bokeh_timeout) {\n",
              "      setTimeout(display_loaded, 100)\n",
              "    }\n",
              "  }\n",
              "\n",
              "\n",
              "  function run_callbacks() {\n",
              "    try {\n",
              "      root._bokeh_onload_callbacks.forEach(function(callback) {\n",
              "        if (callback != null)\n",
              "          callback();\n",
              "      });\n",
              "    } finally {\n",
              "      delete root._bokeh_onload_callbacks\n",
              "    }\n",
              "    console.debug(\"Bokeh: all callbacks have finished\");\n",
              "  }\n",
              "\n",
              "  function load_libs(css_urls, js_urls, callback) {\n",
              "    if (css_urls == null) css_urls = [];\n",
              "    if (js_urls == null) js_urls = [];\n",
              "\n",
              "    root._bokeh_onload_callbacks.push(callback);\n",
              "    if (root._bokeh_is_loading > 0) {\n",
              "      console.debug(\"Bokeh: BokehJS is being loaded, scheduling callback at\", now());\n",
              "      return null;\n",
              "    }\n",
              "    if (js_urls == null || js_urls.length === 0) {\n",
              "      run_callbacks();\n",
              "      return null;\n",
              "    }\n",
              "    console.debug(\"Bokeh: BokehJS not loaded, scheduling load and callback at\", now());\n",
              "    root._bokeh_is_loading = css_urls.length + js_urls.length;\n",
              "\n",
              "    function on_load() {\n",
              "      root._bokeh_is_loading--;\n",
              "      if (root._bokeh_is_loading === 0) {\n",
              "        console.debug(\"Bokeh: all BokehJS libraries/stylesheets loaded\");\n",
              "        run_callbacks()\n",
              "      }\n",
              "    }\n",
              "\n",
              "    function on_error() {\n",
              "      console.error(\"failed to load \" + url);\n",
              "    }\n",
              "\n",
              "    for (var i = 0; i < css_urls.length; i++) {\n",
              "      var url = css_urls[i];\n",
              "      const element = document.createElement(\"link\");\n",
              "      element.onload = on_load;\n",
              "      element.onerror = on_error;\n",
              "      element.rel = \"stylesheet\";\n",
              "      element.type = \"text/css\";\n",
              "      element.href = url;\n",
              "      console.debug(\"Bokeh: injecting link tag for BokehJS stylesheet: \", url);\n",
              "      document.body.appendChild(element);\n",
              "    }\n",
              "\n",
              "    const hashes = {\"https://cdn.bokeh.org/bokeh/release/bokeh-2.2.2.min.js\": \"JayppSWSRBsibIZqI8S4vAb1oFgLL0uhNvSn8cmArlOvYOwfFjYeyY5UWwJ+K0SU\", \"https://cdn.bokeh.org/bokeh/release/bokeh-widgets-2.2.2.min.js\": \"G0/Tv/Yy/zEPNsnW0Qif/FOsGesd+KIrKg/QLmvQmReuUW9qmSP7mAmr0VpiUNr3\", \"https://cdn.bokeh.org/bokeh/release/bokeh-tables-2.2.2.min.js\": \"VLYHEbLQDk5G1+/4ALU0myoJPMEUsngWry2fzYorFOUmarjGRPLLURaeK/on6JqX\"};\n",
              "\n",
              "    for (var i = 0; i < js_urls.length; i++) {\n",
              "      var url = js_urls[i];\n",
              "      var element = document.createElement('script');\n",
              "      element.onload = on_load;\n",
              "      element.onerror = on_error;\n",
              "      element.async = false;\n",
              "      element.src = url;\n",
              "      if (url in hashes) {\n",
              "        element.crossOrigin = \"anonymous\";\n",
              "        element.integrity = \"sha384-\" + hashes[url];\n",
              "      }\n",
              "      console.debug(\"Bokeh: injecting script tag for BokehJS library: \", url);\n",
              "      document.head.appendChild(element);\n",
              "    }\n",
              "  };\n",
              "\n",
              "  function inject_raw_css(css) {\n",
              "    const element = document.createElement(\"style\");\n",
              "    element.appendChild(document.createTextNode(css));\n",
              "    document.body.appendChild(element);\n",
              "  }\n",
              "\n",
              "  \n",
              "  var js_urls = [\"https://cdn.bokeh.org/bokeh/release/bokeh-2.2.2.min.js\", \"https://cdn.bokeh.org/bokeh/release/bokeh-widgets-2.2.2.min.js\", \"https://cdn.bokeh.org/bokeh/release/bokeh-tables-2.2.2.min.js\"];\n",
              "  var css_urls = [];\n",
              "  \n",
              "\n",
              "  var inline_js = [\n",
              "    function(Bokeh) {\n",
              "      Bokeh.set_log_level(\"info\");\n",
              "    },\n",
              "    function(Bokeh) {\n",
              "    \n",
              "    \n",
              "    }\n",
              "  ];\n",
              "\n",
              "  function run_inline_js() {\n",
              "    \n",
              "    if (root.Bokeh !== undefined || force === true) {\n",
              "      \n",
              "    for (var i = 0; i < inline_js.length; i++) {\n",
              "      inline_js[i].call(root, root.Bokeh);\n",
              "    }\n",
              "    } else if (Date.now() < root._bokeh_timeout) {\n",
              "      setTimeout(run_inline_js, 100);\n",
              "    } else if (!root._bokeh_failed_load) {\n",
              "      console.log(\"Bokeh: BokehJS failed to load within specified timeout.\");\n",
              "      root._bokeh_failed_load = true;\n",
              "    } else if (force !== true) {\n",
              "      var cell = $(document.getElementById(null)).parents('.cell').data().cell;\n",
              "      cell.output_area.append_execute_result(NB_LOAD_WARNING)\n",
              "    }\n",
              "\n",
              "  }\n",
              "\n",
              "  if (root._bokeh_is_loading === 0) {\n",
              "    console.debug(\"Bokeh: BokehJS loaded, going straight to plotting\");\n",
              "    run_inline_js();\n",
              "  } else {\n",
              "    load_libs(css_urls, js_urls, function() {\n",
              "      console.debug(\"Bokeh: BokehJS plotting callback run at\", now());\n",
              "      run_inline_js();\n",
              "    });\n",
              "  }\n",
              "}(window));"
            ],
            "application/vnd.bokehjs_load.v0+json": "\n(function(root) {\n  function now() {\n    return new Date();\n  }\n\n  var force = true;\n\n  if (typeof root._bokeh_onload_callbacks === \"undefined\" || force === true) {\n    root._bokeh_onload_callbacks = [];\n    root._bokeh_is_loading = undefined;\n  }\n\n  \n\n  \n  if (typeof (root._bokeh_timeout) === \"undefined\" || force === true) {\n    root._bokeh_timeout = Date.now() + 5000;\n    root._bokeh_failed_load = false;\n  }\n\n  var NB_LOAD_WARNING = {'data': {'text/html':\n     \"<div style='background-color: #fdd'>\\n\"+\n     \"<p>\\n\"+\n     \"BokehJS does not appear to have successfully loaded. If loading BokehJS from CDN, this \\n\"+\n     \"may be due to a slow or bad network connection. Possible fixes:\\n\"+\n     \"</p>\\n\"+\n     \"<ul>\\n\"+\n     \"<li>re-rerun `output_notebook()` to attempt to load from CDN again, or</li>\\n\"+\n     \"<li>use INLINE resources instead, as so:</li>\\n\"+\n     \"</ul>\\n\"+\n     \"<code>\\n\"+\n     \"from bokeh.resources import INLINE\\n\"+\n     \"output_notebook(resources=INLINE)\\n\"+\n     \"</code>\\n\"+\n     \"</div>\"}};\n\n  function display_loaded() {\n    var el = document.getElementById(null);\n    if (el != null) {\n      el.textContent = \"BokehJS is loading...\";\n    }\n    if (root.Bokeh !== undefined) {\n      if (el != null) {\n        el.textContent = \"BokehJS \" + root.Bokeh.version + \" successfully loaded.\";\n      }\n    } else if (Date.now() < root._bokeh_timeout) {\n      setTimeout(display_loaded, 100)\n    }\n  }\n\n\n  function run_callbacks() {\n    try {\n      root._bokeh_onload_callbacks.forEach(function(callback) {\n        if (callback != null)\n          callback();\n      });\n    } finally {\n      delete root._bokeh_onload_callbacks\n    }\n    console.debug(\"Bokeh: all callbacks have finished\");\n  }\n\n  function load_libs(css_urls, js_urls, callback) {\n    if (css_urls == null) css_urls = [];\n    if (js_urls == null) js_urls = [];\n\n    root._bokeh_onload_callbacks.push(callback);\n    if (root._bokeh_is_loading > 0) {\n      console.debug(\"Bokeh: BokehJS is being loaded, scheduling callback at\", now());\n      return null;\n    }\n    if (js_urls == null || js_urls.length === 0) {\n      run_callbacks();\n      return null;\n    }\n    console.debug(\"Bokeh: BokehJS not loaded, scheduling load and callback at\", now());\n    root._bokeh_is_loading = css_urls.length + js_urls.length;\n\n    function on_load() {\n      root._bokeh_is_loading--;\n      if (root._bokeh_is_loading === 0) {\n        console.debug(\"Bokeh: all BokehJS libraries/stylesheets loaded\");\n        run_callbacks()\n      }\n    }\n\n    function on_error() {\n      console.error(\"failed to load \" + url);\n    }\n\n    for (var i = 0; i < css_urls.length; i++) {\n      var url = css_urls[i];\n      const element = document.createElement(\"link\");\n      element.onload = on_load;\n      element.onerror = on_error;\n      element.rel = \"stylesheet\";\n      element.type = \"text/css\";\n      element.href = url;\n      console.debug(\"Bokeh: injecting link tag for BokehJS stylesheet: \", url);\n      document.body.appendChild(element);\n    }\n\n    const hashes = {\"https://cdn.bokeh.org/bokeh/release/bokeh-2.2.2.min.js\": \"JayppSWSRBsibIZqI8S4vAb1oFgLL0uhNvSn8cmArlOvYOwfFjYeyY5UWwJ+K0SU\", \"https://cdn.bokeh.org/bokeh/release/bokeh-widgets-2.2.2.min.js\": \"G0/Tv/Yy/zEPNsnW0Qif/FOsGesd+KIrKg/QLmvQmReuUW9qmSP7mAmr0VpiUNr3\", \"https://cdn.bokeh.org/bokeh/release/bokeh-tables-2.2.2.min.js\": \"VLYHEbLQDk5G1+/4ALU0myoJPMEUsngWry2fzYorFOUmarjGRPLLURaeK/on6JqX\"};\n\n    for (var i = 0; i < js_urls.length; i++) {\n      var url = js_urls[i];\n      var element = document.createElement('script');\n      element.onload = on_load;\n      element.onerror = on_error;\n      element.async = false;\n      element.src = url;\n      if (url in hashes) {\n        element.crossOrigin = \"anonymous\";\n        element.integrity = \"sha384-\" + hashes[url];\n      }\n      console.debug(\"Bokeh: injecting script tag for BokehJS library: \", url);\n      document.head.appendChild(element);\n    }\n  };\n\n  function inject_raw_css(css) {\n    const element = document.createElement(\"style\");\n    element.appendChild(document.createTextNode(css));\n    document.body.appendChild(element);\n  }\n\n  \n  var js_urls = [\"https://cdn.bokeh.org/bokeh/release/bokeh-2.2.2.min.js\", \"https://cdn.bokeh.org/bokeh/release/bokeh-widgets-2.2.2.min.js\", \"https://cdn.bokeh.org/bokeh/release/bokeh-tables-2.2.2.min.js\"];\n  var css_urls = [];\n  \n\n  var inline_js = [\n    function(Bokeh) {\n      Bokeh.set_log_level(\"info\");\n    },\n    function(Bokeh) {\n    \n    \n    }\n  ];\n\n  function run_inline_js() {\n    \n    if (root.Bokeh !== undefined || force === true) {\n      \n    for (var i = 0; i < inline_js.length; i++) {\n      inline_js[i].call(root, root.Bokeh);\n    }\n    } else if (Date.now() < root._bokeh_timeout) {\n      setTimeout(run_inline_js, 100);\n    } else if (!root._bokeh_failed_load) {\n      console.log(\"Bokeh: BokehJS failed to load within specified timeout.\");\n      root._bokeh_failed_load = true;\n    } else if (force !== true) {\n      var cell = $(document.getElementById(null)).parents('.cell').data().cell;\n      cell.output_area.append_execute_result(NB_LOAD_WARNING)\n    }\n\n  }\n\n  if (root._bokeh_is_loading === 0) {\n    console.debug(\"Bokeh: BokehJS loaded, going straight to plotting\");\n    run_inline_js();\n  } else {\n    load_libs(css_urls, js_urls, function() {\n      console.debug(\"Bokeh: BokehJS plotting callback run at\", now());\n      run_inline_js();\n    });\n  }\n}(window));"
          },
          "metadata": {
            "tags": []
          }
        },
        {
          "output_type": "display_data",
          "data": {
            "text/html": [
              "\n",
              "\n",
              "\n",
              "\n",
              "\n",
              "\n",
              "  <div class=\"bk-root\" id=\"f5b68385-bc3f-42ad-8ae8-eef7b5f8003a\" data-root-id=\"1002\"></div>\n"
            ]
          },
          "metadata": {
            "tags": []
          }
        },
        {
          "output_type": "display_data",
          "data": {
            "application/javascript": [
              "(function(root) {\n",
              "  function embed_document(root) {\n",
              "    \n",
              "  var docs_json = {\"5a8fbeda-8a02-46e5-8c1c-bbe3a34d6ff7\":{\"roots\":{\"references\":[{\"attributes\":{\"below\":[{\"id\":\"1011\"}],\"center\":[{\"id\":\"1014\"},{\"id\":\"1018\"}],\"left\":[{\"id\":\"1015\"}],\"plot_height\":400,\"renderers\":[{\"id\":\"1036\"}],\"title\":{\"id\":\"1041\"},\"toolbar\":{\"id\":\"1026\"},\"x_range\":{\"id\":\"1003\"},\"x_scale\":{\"id\":\"1007\"},\"y_range\":{\"id\":\"1005\"},\"y_scale\":{\"id\":\"1009\"}},\"id\":\"1002\",\"subtype\":\"Figure\",\"type\":\"Plot\"},{\"attributes\":{\"formatter\":{\"id\":\"1044\"},\"ticker\":{\"id\":\"1012\"}},\"id\":\"1011\",\"type\":\"LinearAxis\"},{\"attributes\":{},\"id\":\"1009\",\"type\":\"LinearScale\"},{\"attributes\":{},\"id\":\"1024\",\"type\":\"HelpTool\"},{\"attributes\":{\"bottom_units\":\"screen\",\"fill_alpha\":0.5,\"fill_color\":\"lightgrey\",\"left_units\":\"screen\",\"level\":\"overlay\",\"line_alpha\":1.0,\"line_color\":\"black\",\"line_dash\":[4,4],\"line_width\":2,\"right_units\":\"screen\",\"top_units\":\"screen\"},\"id\":\"1025\",\"type\":\"BoxAnnotation\"},{\"attributes\":{\"fill_alpha\":{\"value\":0.25},\"fill_color\":{\"field\":\"color\"},\"line_alpha\":{\"value\":0.25},\"line_color\":{\"field\":\"color\"},\"size\":{\"units\":\"screen\",\"value\":10},\"x\":{\"field\":\"x\"},\"y\":{\"field\":\"y\"}},\"id\":\"1034\",\"type\":\"Scatter\"},{\"attributes\":{},\"id\":\"1007\",\"type\":\"LinearScale\"},{\"attributes\":{\"data_source\":{\"id\":\"1001\"},\"glyph\":{\"id\":\"1034\"},\"hover_glyph\":null,\"muted_glyph\":null,\"nonselection_glyph\":{\"id\":\"1035\"},\"selection_glyph\":null,\"view\":{\"id\":\"1037\"}},\"id\":\"1036\",\"type\":\"GlyphRenderer\"},{\"attributes\":{},\"id\":\"1012\",\"type\":\"BasicTicker\"},{\"attributes\":{\"fill_alpha\":{\"value\":0.1},\"fill_color\":{\"field\":\"color\"},\"line_alpha\":{\"value\":0.1},\"line_color\":{\"field\":\"color\"},\"size\":{\"units\":\"screen\",\"value\":10},\"x\":{\"field\":\"x\"},\"y\":{\"field\":\"y\"}},\"id\":\"1035\",\"type\":\"Scatter\"},{\"attributes\":{\"overlay\":{\"id\":\"1025\"}},\"id\":\"1021\",\"type\":\"BoxZoomTool\"},{\"attributes\":{\"text\":\"\"},\"id\":\"1041\",\"type\":\"Title\"},{\"attributes\":{\"axis\":{\"id\":\"1011\"},\"ticker\":null},\"id\":\"1014\",\"type\":\"Grid\"},{\"attributes\":{},\"id\":\"1044\",\"type\":\"BasicTickFormatter\"},{\"attributes\":{},\"id\":\"1020\",\"type\":\"WheelZoomTool\"},{\"attributes\":{},\"id\":\"1047\",\"type\":\"Selection\"},{\"attributes\":{\"formatter\":{\"id\":\"1042\"},\"ticker\":{\"id\":\"1016\"}},\"id\":\"1015\",\"type\":\"LinearAxis\"},{\"attributes\":{\"active_drag\":\"auto\",\"active_inspect\":\"auto\",\"active_multi\":null,\"active_scroll\":{\"id\":\"1020\"},\"active_tap\":\"auto\",\"tools\":[{\"id\":\"1019\"},{\"id\":\"1020\"},{\"id\":\"1021\"},{\"id\":\"1022\"},{\"id\":\"1023\"},{\"id\":\"1024\"},{\"id\":\"1038\"}]},\"id\":\"1026\",\"type\":\"Toolbar\"},{\"attributes\":{},\"id\":\"1019\",\"type\":\"PanTool\"},{\"attributes\":{},\"id\":\"1005\",\"type\":\"DataRange1d\"},{\"attributes\":{},\"id\":\"1042\",\"type\":\"BasicTickFormatter\"},{\"attributes\":{\"data\":{\"color\":[\"blue\",\"blue\",\"blue\",\"blue\",\"blue\",\"blue\",\"blue\",\"blue\",\"blue\",\"blue\",\"blue\",\"blue\",\"blue\",\"blue\",\"blue\",\"blue\",\"blue\",\"blue\",\"blue\",\"blue\",\"blue\",\"blue\",\"blue\",\"blue\",\"blue\",\"blue\",\"blue\",\"blue\",\"blue\",\"blue\",\"blue\",\"blue\",\"blue\",\"blue\",\"blue\",\"blue\",\"blue\",\"blue\",\"blue\",\"blue\",\"blue\",\"blue\",\"blue\",\"blue\",\"blue\",\"blue\",\"blue\",\"blue\",\"blue\",\"blue\",\"blue\",\"blue\",\"blue\",\"blue\",\"blue\",\"blue\",\"blue\",\"blue\",\"blue\",\"blue\",\"blue\",\"blue\",\"blue\",\"blue\",\"blue\",\"blue\",\"blue\",\"blue\",\"blue\",\"blue\",\"blue\",\"blue\",\"blue\",\"blue\",\"blue\",\"blue\",\"blue\",\"blue\",\"blue\",\"blue\",\"blue\",\"blue\",\"blue\",\"blue\",\"blue\",\"blue\",\"blue\",\"blue\",\"blue\",\"blue\",\"blue\",\"blue\",\"blue\",\"blue\",\"blue\",\"blue\",\"blue\",\"blue\",\"blue\",\"blue\",\"blue\",\"blue\",\"blue\",\"blue\",\"blue\",\"blue\",\"blue\",\"blue\",\"blue\",\"blue\",\"blue\",\"blue\",\"blue\",\"blue\",\"blue\",\"blue\",\"blue\",\"blue\",\"blue\",\"blue\",\"blue\",\"blue\",\"blue\",\"blue\",\"blue\",\"blue\",\"blue\",\"blue\",\"blue\",\"blue\",\"blue\",\"blue\",\"blue\",\"blue\",\"blue\",\"blue\",\"blue\",\"blue\",\"blue\",\"blue\",\"blue\",\"blue\",\"blue\",\"blue\",\"blue\",\"blue\",\"blue\",\"blue\",\"blue\",\"blue\",\"blue\",\"blue\",\"blue\",\"blue\",\"blue\",\"blue\",\"blue\",\"blue\",\"blue\",\"blue\",\"blue\",\"blue\",\"blue\",\"blue\",\"blue\",\"blue\",\"blue\",\"blue\",\"blue\",\"blue\",\"blue\",\"blue\",\"blue\",\"blue\",\"blue\",\"blue\",\"blue\",\"blue\",\"blue\",\"blue\",\"blue\",\"blue\",\"blue\",\"blue\",\"blue\",\"blue\",\"blue\",\"blue\",\"blue\",\"blue\",\"blue\",\"blue\",\"blue\",\"blue\",\"blue\",\"blue\",\"blue\",\"blue\",\"blue\",\"blue\",\"blue\",\"blue\",\"blue\",\"blue\",\"blue\",\"blue\",\"blue\",\"blue\",\"blue\",\"blue\",\"blue\",\"blue\",\"blue\",\"blue\",\"blue\",\"blue\",\"blue\",\"blue\",\"blue\",\"blue\",\"blue\",\"blue\",\"blue\",\"blue\",\"blue\",\"blue\",\"blue\",\"blue\",\"blue\",\"blue\",\"blue\",\"blue\",\"blue\",\"blue\",\"blue\",\"blue\",\"blue\",\"blue\",\"blue\",\"blue\",\"blue\",\"blue\",\"blue\",\"blue\",\"blue\",\"blue\",\"blue\",\"blue\",\"blue\",\"blue\",\"blue\",\"blue\",\"blue\",\"blue\",\"blue\",\"blue\",\"blue\",\"blue\",\"blue\",\"blue\",\"blue\",\"blue\",\"blue\",\"blue\",\"blue\",\"blue\",\"blue\",\"blue\",\"blue\",\"blue\",\"blue\",\"blue\",\"blue\",\"blue\",\"blue\",\"blue\",\"blue\",\"blue\",\"blue\",\"blue\",\"blue\",\"blue\",\"blue\",\"blue\",\"blue\",\"blue\",\"blue\",\"blue\",\"blue\",\"blue\",\"blue\",\"blue\",\"blue\",\"blue\",\"blue\",\"blue\",\"blue\",\"blue\",\"blue\",\"blue\",\"blue\",\"blue\",\"blue\",\"blue\",\"blue\",\"blue\",\"blue\",\"blue\",\"blue\",\"blue\",\"blue\",\"blue\",\"blue\",\"blue\",\"blue\",\"blue\",\"blue\",\"blue\",\"blue\",\"blue\",\"blue\",\"blue\",\"blue\",\"blue\",\"blue\",\"blue\",\"blue\",\"blue\",\"blue\",\"blue\",\"blue\",\"blue\",\"blue\",\"blue\",\"blue\",\"blue\",\"blue\",\"blue\",\"blue\",\"blue\",\"blue\",\"blue\",\"blue\",\"blue\",\"blue\",\"blue\",\"blue\",\"blue\",\"blue\",\"blue\",\"blue\",\"blue\",\"blue\",\"blue\",\"blue\",\"blue\",\"blue\",\"blue\",\"blue\",\"blue\",\"blue\",\"blue\",\"blue\",\"blue\",\"blue\",\"blue\",\"blue\",\"blue\",\"blue\",\"blue\",\"blue\",\"blue\",\"blue\",\"blue\",\"blue\",\"blue\",\"blue\",\"blue\",\"blue\",\"blue\",\"blue\",\"blue\",\"blue\",\"blue\",\"blue\",\"blue\",\"blue\",\"blue\",\"blue\",\"blue\",\"blue\",\"blue\",\"blue\",\"blue\",\"blue\",\"blue\",\"blue\",\"blue\",\"blue\",\"blue\",\"blue\",\"blue\",\"blue\",\"blue\",\"blue\",\"blue\",\"blue\",\"blue\",\"blue\",\"blue\",\"blue\",\"blue\",\"blue\",\"blue\",\"blue\",\"blue\",\"blue\",\"blue\",\"blue\",\"blue\",\"blue\",\"blue\",\"blue\",\"blue\",\"blue\",\"blue\",\"blue\",\"blue\",\"blue\",\"blue\",\"blue\",\"blue\",\"blue\",\"blue\",\"blue\",\"blue\",\"blue\",\"blue\",\"blue\",\"blue\",\"blue\",\"blue\",\"blue\",\"blue\",\"blue\",\"blue\",\"blue\",\"blue\",\"blue\",\"blue\",\"blue\",\"blue\",\"blue\",\"blue\",\"blue\",\"blue\",\"blue\",\"blue\",\"blue\",\"blue\",\"blue\",\"blue\",\"blue\",\"blue\",\"blue\",\"blue\",\"blue\",\"blue\",\"blue\",\"blue\",\"blue\",\"blue\",\"blue\",\"blue\",\"blue\",\"blue\",\"blue\",\"blue\",\"blue\",\"blue\",\"blue\",\"blue\",\"blue\",\"blue\",\"blue\",\"blue\",\"blue\",\"blue\",\"blue\",\"blue\",\"blue\",\"blue\",\"blue\",\"blue\",\"blue\",\"blue\",\"blue\",\"blue\",\"blue\",\"blue\",\"blue\",\"blue\",\"blue\",\"blue\",\"blue\",\"blue\",\"blue\",\"blue\",\"blue\",\"blue\",\"blue\",\"blue\",\"blue\",\"blue\",\"blue\",\"blue\",\"blue\",\"blue\",\"blue\",\"blue\",\"blue\",\"blue\",\"blue\",\"blue\",\"blue\",\"blue\",\"blue\",\"blue\",\"blue\",\"blue\",\"blue\",\"blue\",\"blue\",\"blue\",\"blue\",\"blue\",\"blue\",\"blue\",\"blue\",\"blue\",\"blue\",\"blue\",\"blue\",\"blue\",\"blue\",\"blue\",\"blue\",\"blue\",\"blue\",\"blue\",\"blue\",\"blue\",\"blue\",\"blue\",\"blue\",\"blue\",\"blue\",\"blue\",\"blue\",\"blue\",\"blue\",\"blue\",\"blue\",\"blue\",\"blue\",\"blue\",\"blue\",\"blue\",\"blue\",\"blue\",\"blue\",\"blue\",\"blue\",\"blue\",\"blue\",\"blue\",\"blue\",\"blue\",\"blue\",\"blue\",\"blue\",\"blue\",\"blue\",\"blue\",\"blue\",\"blue\",\"blue\",\"blue\",\"blue\",\"blue\",\"blue\",\"blue\",\"blue\",\"blue\",\"blue\",\"blue\",\"blue\",\"blue\",\"blue\",\"blue\",\"blue\",\"blue\",\"blue\",\"blue\",\"blue\",\"blue\",\"blue\",\"blue\",\"blue\",\"blue\",\"blue\",\"blue\",\"blue\",\"blue\",\"blue\",\"blue\",\"blue\",\"blue\",\"blue\",\"blue\",\"blue\",\"blue\",\"blue\",\"blue\",\"blue\",\"blue\",\"blue\",\"blue\",\"blue\",\"blue\",\"blue\",\"blue\",\"blue\",\"blue\",\"blue\",\"blue\",\"blue\",\"blue\",\"blue\",\"blue\",\"blue\",\"blue\",\"blue\",\"blue\",\"blue\",\"blue\",\"blue\",\"blue\",\"blue\",\"blue\",\"blue\",\"blue\",\"blue\",\"blue\",\"blue\",\"blue\",\"blue\",\"blue\",\"blue\",\"blue\",\"blue\",\"blue\",\"blue\",\"blue\",\"blue\",\"blue\",\"blue\",\"blue\",\"blue\",\"blue\",\"blue\",\"blue\",\"blue\",\"blue\",\"blue\",\"blue\",\"blue\",\"blue\",\"blue\",\"blue\",\"blue\",\"blue\",\"blue\",\"blue\",\"blue\",\"blue\",\"blue\",\"blue\",\"blue\",\"blue\",\"blue\",\"blue\",\"blue\",\"blue\",\"blue\",\"blue\",\"blue\",\"blue\",\"blue\",\"blue\",\"blue\",\"blue\",\"blue\",\"blue\",\"blue\",\"blue\",\"blue\",\"blue\",\"blue\",\"blue\",\"blue\",\"blue\",\"blue\",\"blue\",\"blue\",\"blue\",\"blue\",\"blue\",\"blue\",\"blue\",\"blue\",\"blue\",\"blue\",\"blue\",\"blue\",\"blue\",\"blue\",\"blue\",\"blue\",\"blue\",\"blue\",\"blue\",\"blue\",\"blue\",\"blue\",\"blue\",\"blue\",\"blue\",\"blue\",\"blue\",\"blue\",\"blue\",\"blue\",\"blue\",\"blue\",\"blue\",\"blue\",\"blue\",\"blue\",\"blue\",\"blue\",\"blue\",\"blue\",\"blue\",\"blue\",\"blue\",\"blue\",\"blue\",\"blue\",\"blue\",\"blue\",\"blue\",\"blue\",\"blue\",\"blue\",\"blue\",\"blue\",\"blue\",\"blue\",\"blue\",\"blue\",\"blue\",\"blue\",\"blue\",\"blue\",\"blue\",\"blue\",\"blue\",\"blue\",\"blue\",\"blue\",\"blue\",\"blue\",\"blue\",\"blue\",\"blue\",\"blue\",\"blue\",\"blue\",\"blue\",\"blue\",\"blue\",\"blue\",\"blue\",\"blue\",\"blue\",\"blue\",\"blue\",\"blue\",\"blue\",\"blue\",\"blue\",\"blue\",\"blue\",\"blue\",\"blue\",\"blue\",\"blue\",\"blue\",\"blue\",\"blue\",\"blue\",\"blue\",\"blue\",\"blue\",\"blue\",\"blue\",\"blue\",\"blue\",\"blue\",\"blue\",\"blue\",\"blue\",\"blue\",\"blue\",\"blue\",\"blue\",\"blue\",\"blue\",\"blue\",\"blue\",\"blue\",\"blue\",\"blue\",\"blue\",\"blue\",\"blue\",\"blue\",\"blue\",\"blue\",\"blue\",\"blue\",\"blue\",\"blue\",\"blue\",\"blue\",\"blue\",\"blue\",\"blue\",\"blue\",\"blue\",\"blue\",\"blue\",\"blue\",\"blue\",\"blue\",\"blue\",\"blue\",\"blue\",\"blue\",\"blue\",\"blue\",\"blue\",\"blue\",\"blue\",\"blue\",\"blue\",\"blue\",\"blue\",\"blue\",\"blue\",\"blue\",\"blue\",\"blue\",\"blue\",\"blue\",\"blue\",\"blue\",\"blue\",\"blue\",\"blue\",\"blue\",\"blue\",\"blue\",\"blue\",\"blue\",\"blue\",\"blue\",\"blue\",\"blue\",\"blue\",\"blue\",\"blue\",\"blue\",\"blue\",\"blue\",\"blue\",\"blue\",\"blue\",\"blue\",\"blue\",\"blue\",\"blue\",\"blue\",\"blue\",\"blue\",\"blue\",\"blue\",\"blue\",\"blue\",\"blue\",\"blue\",\"blue\",\"blue\",\"blue\",\"blue\",\"blue\",\"blue\",\"blue\",\"blue\",\"blue\",\"blue\",\"blue\",\"blue\",\"blue\",\"blue\",\"blue\",\"blue\",\"blue\",\"blue\",\"blue\",\"blue\",\"blue\",\"blue\",\"blue\",\"blue\",\"blue\",\"blue\",\"blue\",\"blue\",\"blue\",\"blue\",\"blue\",\"blue\",\"blue\",\"blue\",\"blue\",\"blue\",\"blue\",\"blue\",\"blue\",\"blue\",\"blue\",\"blue\",\"blue\",\"blue\",\"blue\",\"blue\",\"blue\",\"blue\",\"blue\",\"blue\",\"blue\",\"blue\",\"blue\",\"blue\",\"blue\",\"blue\",\"blue\",\"blue\",\"blue\",\"blue\",\"blue\",\"blue\",\"blue\",\"blue\",\"blue\",\"blue\",\"blue\",\"blue\",\"blue\",\"blue\",\"blue\",\"blue\",\"blue\",\"blue\",\"blue\",\"blue\",\"blue\",\"blue\",\"blue\",\"blue\",\"blue\",\"blue\",\"blue\",\"blue\",\"blue\",\"blue\",\"blue\",\"blue\"],\"token\":[\"<user>\",\".\",\":\",\"rt\",\",\",\"<repeat>\",\"<hashtag>\",\"<number>\",\"<url>\",\"!\",\"i\",\"a\",\"\\\"\",\"the\",\"?\",\"you\",\"to\",\"(\",\"<allcaps>\",\"<elong>\",\")\",\"me\",\"de\",\"<smile>\",\"\\uff01\",\"que\",\"and\",\"\\u3002\",\"-\",\"my\",\"no\",\"\\u3001\",\"is\",\"it\",\"\\u2026\",\"in\",\"n\",\"for\",\"/\",\"of\",\"la\",\"'s\",\"*\",\"do\",\"n't\",\"that\",\"on\",\"y\",\"'\",\"e\",\"o\",\"u\",\"en\",\"this\",\"el\",\"so\",\"be\",\"'m\",\"with\",\"just\",\">\",\"your\",\"^\",\"like\",\"have\",\"te\",\"at\",\"\\uff1f\",\"love\",\"se\",\"are\",\"<\",\"m\",\"r\",\"if\",\"all\",\"b\",\"\\u30fb\",\"not\",\"but\",\"we\",\"es\",\"ya\",\"&\",\"follow\",\"up\",\"what\",\"get\",\"lol\",\"un\",\"\\u2665\",\"lo\",\"when\",\"was\",\"\\u201c\",\"\\u201d\",\"one\",\"por\",\"si\",\"out\",\"_\",\"mi\",\"can\",\"<sadface>\",\"\\u0645\\u0646\",\"\\u2661\",\"\\u00b4\",\"he\",\"con\",\"they\",\"now\",\"go\",\"\\u060c\",\"para\",\"los\",\"know\",\"haha\",\"good\",\"tu\",\"back\",\"~\",\"about\",\"new\",\";\",\"as\",\"day\",\"how\",\"who\",\"will\",\"want\",\"people\",\"yo\",\"eu\",\"from\",\"di\",\"time\",\"<heart>\",\"s\",\"aku\",\"da\",\"'re\",\"<lolface>\",\"una\",\"got\",\"las\",\"more\",\"x\",\"she\",\"today\",\"\\uff08\",\">>\",\"k\",\"by\",\"or\",\"\\u0641\\u064a\",\"\\uff65\",\"too\",\"le\",\"\\u00e9\",\"|\",\"[\",\"\\uff09\",\"]\",\"see\",\"why\",\"yg\",\"ca\",\"como\",\"her\",\"\\u2014\",\"q\",\"need\",\"an\",\"na\",\"\\u7b11\",\"there\",\"\\u03c9\",\"happy\",\"im\",\"mas\",\"je\",\"life\",\"really\",\"make\",\"yang\",\"shit\",\"think\",\"t\",\"\\u2764\",\"n\\u00e3o\",\"never\",\"some\",\"\\uff5e\",\"oh\",\"\\u2605\",\"did\",\"would\",\"del\",\"`\",\"d\",\"please\",\"via\",\"much\",\"fuck\",\"al\",\"dia\",\"$\",\"\\u0648\",\"right\",\"best\",\"c\",\"going\",\"\\u0627\\u0644\\u0644\\u0647\",\"pero\",\"only\",\"has\",\"\\u266a\",\"'ll\",\"twitter\",\"=\",\"hahaha\",\"its\",\"nn\",\"\\uff40\",\"\\u00bf\",\"am\",\"say\",\"<neutralface>\",\"them\",\"here\",\"\\u0644\\u0627\",\"off\",\"still\",\"dan\",\"+\",\"night\",\"w\",\"ada\",\"someone\",\"even\",\"then\",\"\\u2606\",\"ni\",\"come\",\"com\",\"always\",\"man\",\"'ve\",\"been\",\"his\",\"itu\",\"\\u0639\\u0644\\u0649\",\"-_-\",\"\\u263a\",\"over\",\"um\",\"\\u0645\\u0627\",\"hate\",\"girl\",\"ai\",\"had\",\"pra\",\"todo\",\"mais\",\"feel\",\"let\",\"ini\",\"because\",\"\\uff9f\",\"thanks\",\"ah\",\"way\",\"ever\",\"look\",\"tweet\",\"followers\",\"should\",\"our\",\"xd\",\"aja\",\"esta\",\"school\",\"him\",\"ser\",\"take\",\"than\",\"video\",\"em\",\"last\",\"wanna\",\"does\",\"us\",\"miss\",\"l\",\"ga\",\"better\",\"well\",\"could\",\"\\u25bd\",\"%\",\"apa\",\"cuando\",\"team\",\"\\u2714\",\"@\",\"ok\",\"\\u061f\",\"\\u2022\",\"vida\",\"quiero\",\"les\",\"being\",\"real\",\"down\",\"kamu\",\"everyone\",\"gonna\",\"live\",\"tonight\",\"yes\",\"work\",\"ass\",\"retweet\",\"nada\",\"sama\",\"first\",\"<<\",\"photo\",\"tomorrow\",\"where\",\"god\",\"son\",\"ke\",\"ta\",\"f\",\"home\",\"lagi\",\"thank\",\"birthday\",\"\\u2588\",\"ha\",\"great\",\"lmao\",\"omg\",\"morning\",\"m\\u00e1s\",\"mau\",\"baby\",\"dont\",\"\\uff61\",\"their\",\"p\",\"things\",\"game\",\"pas\",\"bad\",\"year\",\"yeah\",\"su\",\"bitch\",\"\\u0432\",\"stop\",\"hoy\",\"something\",\"meu\",\"tak\",\"gak\",\"world\",\"amor\",\"h\",\"\\\\\",\"ver\",\"\\uff1b\",\"porque\",\"give\",\"these\",\"\\u0627\\u0644\\u0644\\u0647\\u0645\",\"were\",\"hay\",\"sleep\",\"gue\",\"every\",\"friends\",\"uma\",\"tell\",\"amo\",\"vou\",\"bien\",\"\\u00a1\",\"again\",\"\\uff3e\",\"\\uff0f\",\"done\",\"after\",\"todos\",\"girls\",\"guys\",\"getting\",\"big\",\"wait\",\"justin\",\"eh\",\"\\u2192\",\"kan\",\"kita\",\"jajaja\",\"wish\",\"said\",\"fucking\",\"show\",\"thing\",\"next\",\"voc\\u00ea\",\"nos\",\"little\",\"tengo\",\"keep\",\"person\",\"''\",\"\\u2200\",\"hope\",\"\\u0643\\u0644\",\"hey\",\"bisa\",\"free\",\"made\",\"foto\",\"va\",\"everything\",\"iya\",\"nigga\",\"eso\",\"et\",\"watch\",\"music\",\"week\",\"talk\",\"ne\",\"solo\",\"gente\",\"udah\",\"\\uff1a\",\"--\",\"\\uff3c\",\"mejor\",\"facebook\",\"ma\",\"v\",\"phone\",\"most\",\"same\",\"okay\",\"ik\",\"before\",\"minha\",\"days\",\"g\",\"ti\",\"damn\",\"nice\",\"voy\",\"vai\",\"call\",\"long\",\"tapi\",\"http\",\"sin\",\"nunca\",\"doing\",\"other\",\"find\",\"il\",\"sa\",\"sorry\",\"nya\",\"orang\",\"\\u00b0\",\"hard\",\"mean\",\"die\",\"\\u0627\\u0644\\u0644\\u064a\",\"tem\",\"soy\",\"este\",\"kalo\",\"s\\u00f3\",\"th\",\"win\",\"nothing\",\"into\",\"face\",\"cute\",\"'d\",\"gracias\",\"lah\",\"\\u0438\",\"any\",\"play\",\"\\u2190\",\"ko\",\"text\",\"\\u2323\",\"estoy\",\"tau\",\"ur\",\"buat\",\"#\",\"cause\",\"\\u044f\",\"put\",\"kau\",\"siempre\",\"juga\",\"casa\",\"\\u0623\\u0646\",\"help\",\"start\",\"feliz\",\"old\",\"ir\",\"very\",\"care\",\"bir\",\"makes\",\"song\",\"check\",\"watching\",\"ahora\",\"jadi\",\"os\",\"may\",\"friend\",\"beautiful\",\"heart\",\"ka\",\"vc\",\"mundo\",\"\\u043d\\u0430\",\"sure\",\"tan\",\"pretty\",\"aqui\",\"\\u043d\\u0435\",\"house\",\"\\u0631\\u062a\\u0648\\u064a\\u062a\",\"\\u064a\\u0627\",\"ja\",\"true\",\"muy\",\"away\",\"already\",\"actually\",\"believe\",\"try\",\"many\",\"ma\\u00f1ana\",\"mis\",\"lu\",\"those\",\"hot\",\"qu\\u00e9\",\"mal\",\"\\u0639\\u0646\",\"though\",\"ask\",\"amazing\",\"bed\",\"}\",\"two\",\"mom\",\"d\\u00eda\",\"ve\",\"dari\",\"gameinsight\",\"stay\",\"fun\",\"around\",\"van\",\"cont\",\"ready\",\"money\",\"bu\",\"funny\",\"cool\",\"hair\",\"\\u00e0\",\"tho\",\"{\",\"wo\",\"hi\",\"name\",\"tiene\",\"hahahaha\",\"pa\",\"algo\",\"gotta\",\"\\u0648\\u0644\\u0627\",\"boy\",\"another\",\"c'est\",\"hari\",\"jajajaja\",\"having\",\"cara\",\"jaja\",\"dm\",\"looking\",\"top\",\"android\",\"dah\",\"wow\",\"\\u2591\",\"eres\",\"ben\",\"must\",\"news\",\"met\",\"est\\u00e1\",\"nih\",\"family\",\"black\",\"thought\",\"nak\",\"super\",\"end\",\"hace\",\"remember\",\"ama\",\"party\",\"cant\",\"vamos\",\"anything\",\"anyone\",\"\\u0641\\u0648\\u0644\\u0648\",\"perfect\",\"guy\",\"vez\",\"christmas\",\"dos\",\"bueno\",\"nao\",\"years\",\"vote\",\"dormir\",\"bro\",\"else\",\"quien\",\"untuk\",\"jangan\",\"myself\",\"head\",\"mind\",\"gua\",\"talking\",\"while\",\"dat\",\"food\",\"\\u0434\",\"coming\",\"wkwk\",\"trying\",\"saya\",\"mucho\",\"without\",\"wrong\",\"\\u2019s\",\"baru\",\"__\",\"hehe\",\"hacer\",\"lot\",\"followed\",\"crazy\",\"hell\",\"feeling\",\"des\",\"kok\",\"j\",\"stats\",\"j'\",\"\\u0627\\u0646\",\"tweets\",\"non\",\"cosas\",\"era\",\"high\",\"niggas\",\"change\",\"movie\",\"xx\",\"mad\",\"sih\",\"sometimes\",\"deh\",\"allah\",\"through\",\"pour\",\"ela\",\"soon\",\"gone\",\"playing\",\"smile\",\"bukan\",\"tv\",\"fans\",\"hasta\",\"akan\",\"y'\",\"looks\",\"isso\",\"\\u270c\",\"tired\",\"boys\",\"might\",\"dong\",\"lg\",\"use\",\"maybe\",\"until\",\"menos\",\"own\",\"dengan\",\"eat\",\"ou\",\"weekend\",\"\\u02d8\",\"class\",\"ele\",\"harry\",\"iphone\",\"friday\",\"single\",\"ff\",\"awesome\",\"bout\",\"muito\",\"hoje\",\"\\u00ac\",\"dios\",\"such\",\"estar\",\"j\\u00e1\",\"quando\",\"esa\",\"making\",\"\\u2501\",\"times\",\"lmfao\",\"gw\",\"moment\",\"yet\",\"aw\",\"smh\",\"banget\",\"masih\",\"qui\",\"quem\",\"\\u2013\",\"leave\",\"du\",\"une\",\"guess\",\"hit\",\"\\u0441\",\"pm\",\"since\",\"pues\",\"est\",\"job\",\"\\uff89\",\"mana\",\"bom\",\"siapa\",\"suka\",\"bieber\",\"mention\",\"lebih\",\"favorite\",\"bitches\",\"forever\",\"\\u0644\\u064a\",\"final\",\"read\",\"alguien\",\"open\",\"yourself\",\"ese\",\"che\",\"sex\",\"yaa\",\"car\",\"direction\",\"tidak\",\"seu\",\"gets\",\"left\",\"re\",\"jam\",\"enough\",\"\\u0625\\u0644\\u0627\",\"once\",\"\\u2019\",\"part\",\"cada\",\"\\u5b9a\\u671f\",\"\\u0644\\u0643\",\"een\",\"seen\",\"kak\",\"as\\u00ed\",\"nem\",\"\\u0639\\u0645\\u0644\",\"white\",\"told\",\"says\",\"esto\",\"sad\",\"mo\",\"fue\",\"yah\",\"summer\",\"\\u0647\",\"\\u2b55\",\"\\u00bb\",\"thats\",\"\\u0645\\u0639\",\"posted\",\"wants\",\"agora\",\"together\",\"fan\",\"men\",\"hear\",\"full\",\"\\u2600\",\"sigo\",\"pq\",\"dulu\",\"plus\",\"foi\",\"tudo\",\"\\u0647\\u0648\",\"ill\",\"\\u3042\",\"thinking\",\"wtf\",\"pagi\",\"mama\",\"kalau\",\"hati\",\"sexy\",\"sayang\",\"baik\",\"semua\",\"hola\",\"went\",\"vos\",\"tanto\",\"finally\",\"fb\",\"sea\",\"stupid\",\"tus\",\"seriously\",\"hora\",\"min\",\"pic\",\"estas\",\"turn\",\"hours\",\"excited\",\"nah\",\"buy\",\"saying\",\"mah\",\"break\",\"needs\",\"ce\",\"room\",\"choice\",\"far\",\"dead\",\"quero\",\"saw\",\"kids\",\"lil\",\"whole\",\"puede\",\"fall\",\"sus\",\"lost\",\"asi\",\"word\",\"\\u2639\",\"also\",\"\\u0631\\u064a\\u062a\\u0648\\u064a\\u062a\",\"probably\",\"everybody\",\"tarde\",\"run\",\"sei\",\"follback\",\"forget\",\"sweet\",\"welcome\",\"selamat\",\"\\uff3f\",\"sur\",\"place\",\"gusta\",\"sabe\",\"androidgames\",\"tp\",\"tiempo\",\"\\u0628\\u0633\",\"sou\",\"tuh\",\"vs\",\"eyes\",\"\\u0627\\u0646\\u0627\",\"picture\",\"das\",\"meet\",\"anak\",\"persona\",\"essa\",\"bored\",\"following\",\"nadie\",\"nobody\",\"dice\",\"alone\",\"sick\",\"red\",\"city\",\"cinta\",\"\\u6708\",\"linda\",\"dream\",\"story\",\"km\",\"het\",\"waiting\",\"^_^\",\"mine\",\"\\u0447\\u0442\\u043e\",\"reason\",\"kk\",\"\\u0644\\u0648\",\"online\",\"fast\",\"udh\",\"wanted\",\"op\",\"others\",\"gay\",\"n\\u2019t\",\"used\",\"sem\",\"understand\",\"moi\",\"sm\",\"aint\",\"donde\",\"bem\",\"which\",\"ng\",\"followback\",\"punya\",\"late\",\"anda\",\"tidur\",\"puedo\",\"early\",\"nd\",\"personas\",\"banyak\",\"\\u2705\",\"\\u278a\",\"trust\",\"noche\",\"tl\",\"\\uff1e\",\"\\u00ab\",\"af\",\"move\",\"pro\",\"bring\",\"ku\",\"called\",\"relationship\",\"idk\",\"hurt\",\"st\",\"pernah\",\"pessoas\",\"hello\",\"uno\",\"unfollowers\",\"cry\"],\"x\":{\"__ndarray__\":\"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\",\"dtype\":\"float32\",\"order\":\"little\",\"shape\":[1000]},\"y\":{\"__ndarray__\":\"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\",\"dtype\":\"float32\",\"order\":\"little\",\"shape\":[1000]}},\"selected\":{\"id\":\"1047\"},\"selection_policy\":{\"id\":\"1046\"}},\"id\":\"1001\",\"type\":\"ColumnDataSource\"},{\"attributes\":{\"axis\":{\"id\":\"1015\"},\"dimension\":1,\"ticker\":null},\"id\":\"1018\",\"type\":\"Grid\"},{\"attributes\":{},\"id\":\"1046\",\"type\":\"UnionRenderers\"},{\"attributes\":{},\"id\":\"1016\",\"type\":\"BasicTicker\"},{\"attributes\":{},\"id\":\"1003\",\"type\":\"DataRange1d\"},{\"attributes\":{\"source\":{\"id\":\"1001\"}},\"id\":\"1037\",\"type\":\"CDSView\"},{\"attributes\":{},\"id\":\"1023\",\"type\":\"ResetTool\"},{\"attributes\":{},\"id\":\"1022\",\"type\":\"SaveTool\"},{\"attributes\":{\"callback\":null,\"tooltips\":[[\"token\",\"@token\"]]},\"id\":\"1038\",\"type\":\"HoverTool\"}],\"root_ids\":[\"1002\"]},\"title\":\"Bokeh Application\",\"version\":\"2.2.2\"}};\n",
              "  var render_items = [{\"docid\":\"5a8fbeda-8a02-46e5-8c1c-bbe3a34d6ff7\",\"root_ids\":[\"1002\"],\"roots\":{\"1002\":\"f5b68385-bc3f-42ad-8ae8-eef7b5f8003a\"}}];\n",
              "  root.Bokeh.embed.embed_items_notebook(docs_json, render_items);\n",
              "\n",
              "  }\n",
              "  if (root.Bokeh !== undefined) {\n",
              "    embed_document(root);\n",
              "  } else {\n",
              "    var attempts = 0;\n",
              "    var timer = setInterval(function(root) {\n",
              "      if (root.Bokeh !== undefined) {\n",
              "        clearInterval(timer);\n",
              "        embed_document(root);\n",
              "      } else {\n",
              "        attempts++;\n",
              "        if (attempts > 100) {\n",
              "          clearInterval(timer);\n",
              "          console.log(\"Bokeh: ERROR: Unable to run BokehJS code because BokehJS library is missing\");\n",
              "        }\n",
              "      }\n",
              "    }, 10, root)\n",
              "  }\n",
              "})(window);"
            ],
            "application/vnd.bokehjs_exec.v0+json": ""
          },
          "metadata": {
            "tags": [],
            "application/vnd.bokehjs_exec.v0+json": {
              "id": "1002"
            }
          }
        },
        {
          "output_type": "execute_result",
          "data": {
            "text/html": [
              "<div style=\"display: table;\"><div style=\"display: table-row;\"><div style=\"display: table-cell;\"><b title=\"bokeh.plotting.figure.Figure\">Figure</b>(</div><div style=\"display: table-cell;\">id&nbsp;=&nbsp;'1002', <span id=\"1095\" style=\"cursor: pointer;\">&hellip;)</span></div></div><div class=\"1094\" style=\"display: none;\"><div style=\"display: table-cell;\"></div><div style=\"display: table-cell;\">above&nbsp;=&nbsp;[],</div></div><div class=\"1094\" style=\"display: none;\"><div style=\"display: table-cell;\"></div><div style=\"display: table-cell;\">align&nbsp;=&nbsp;'start',</div></div><div class=\"1094\" style=\"display: none;\"><div style=\"display: table-cell;\"></div><div style=\"display: table-cell;\">aspect_ratio&nbsp;=&nbsp;None,</div></div><div class=\"1094\" style=\"display: none;\"><div style=\"display: table-cell;\"></div><div style=\"display: table-cell;\">aspect_scale&nbsp;=&nbsp;1,</div></div><div class=\"1094\" style=\"display: none;\"><div style=\"display: table-cell;\"></div><div style=\"display: table-cell;\">background&nbsp;=&nbsp;None,</div></div><div class=\"1094\" style=\"display: none;\"><div style=\"display: table-cell;\"></div><div style=\"display: table-cell;\">background_fill_alpha&nbsp;=&nbsp;1.0,</div></div><div class=\"1094\" style=\"display: none;\"><div style=\"display: table-cell;\"></div><div style=\"display: table-cell;\">background_fill_color&nbsp;=&nbsp;'#ffffff',</div></div><div class=\"1094\" style=\"display: none;\"><div style=\"display: table-cell;\"></div><div style=\"display: table-cell;\">below&nbsp;=&nbsp;[LinearAxis(id='1011', ...)],</div></div><div class=\"1094\" style=\"display: none;\"><div style=\"display: table-cell;\"></div><div style=\"display: table-cell;\">border_fill_alpha&nbsp;=&nbsp;1.0,</div></div><div class=\"1094\" style=\"display: none;\"><div style=\"display: table-cell;\"></div><div style=\"display: table-cell;\">border_fill_color&nbsp;=&nbsp;'#ffffff',</div></div><div class=\"1094\" style=\"display: none;\"><div style=\"display: table-cell;\"></div><div style=\"display: table-cell;\">center&nbsp;=&nbsp;[Grid(id='1014', ...), Grid(id='1018', ...)],</div></div><div class=\"1094\" style=\"display: none;\"><div style=\"display: table-cell;\"></div><div style=\"display: table-cell;\">css_classes&nbsp;=&nbsp;[],</div></div><div class=\"1094\" style=\"display: none;\"><div style=\"display: table-cell;\"></div><div style=\"display: table-cell;\">disabled&nbsp;=&nbsp;False,</div></div><div class=\"1094\" style=\"display: none;\"><div style=\"display: table-cell;\"></div><div style=\"display: table-cell;\">extra_x_ranges&nbsp;=&nbsp;{},</div></div><div class=\"1094\" style=\"display: none;\"><div style=\"display: table-cell;\"></div><div style=\"display: table-cell;\">extra_y_ranges&nbsp;=&nbsp;{},</div></div><div class=\"1094\" style=\"display: none;\"><div style=\"display: table-cell;\"></div><div style=\"display: table-cell;\">frame_height&nbsp;=&nbsp;None,</div></div><div class=\"1094\" style=\"display: none;\"><div style=\"display: table-cell;\"></div><div style=\"display: table-cell;\">frame_width&nbsp;=&nbsp;None,</div></div><div class=\"1094\" style=\"display: none;\"><div style=\"display: table-cell;\"></div><div style=\"display: table-cell;\">height&nbsp;=&nbsp;None,</div></div><div class=\"1094\" style=\"display: none;\"><div style=\"display: table-cell;\"></div><div style=\"display: table-cell;\">height_policy&nbsp;=&nbsp;'auto',</div></div><div class=\"1094\" style=\"display: none;\"><div style=\"display: table-cell;\"></div><div style=\"display: table-cell;\">hidpi&nbsp;=&nbsp;True,</div></div><div class=\"1094\" style=\"display: none;\"><div style=\"display: table-cell;\"></div><div style=\"display: table-cell;\">js_event_callbacks&nbsp;=&nbsp;{},</div></div><div class=\"1094\" style=\"display: none;\"><div style=\"display: table-cell;\"></div><div style=\"display: table-cell;\">js_property_callbacks&nbsp;=&nbsp;{},</div></div><div class=\"1094\" style=\"display: none;\"><div style=\"display: table-cell;\"></div><div style=\"display: table-cell;\">left&nbsp;=&nbsp;[LinearAxis(id='1015', ...)],</div></div><div class=\"1094\" style=\"display: none;\"><div style=\"display: table-cell;\"></div><div style=\"display: table-cell;\">lod_factor&nbsp;=&nbsp;10,</div></div><div class=\"1094\" style=\"display: none;\"><div style=\"display: table-cell;\"></div><div style=\"display: table-cell;\">lod_interval&nbsp;=&nbsp;300,</div></div><div class=\"1094\" style=\"display: none;\"><div style=\"display: table-cell;\"></div><div style=\"display: table-cell;\">lod_threshold&nbsp;=&nbsp;2000,</div></div><div class=\"1094\" style=\"display: none;\"><div style=\"display: table-cell;\"></div><div style=\"display: table-cell;\">lod_timeout&nbsp;=&nbsp;500,</div></div><div class=\"1094\" style=\"display: none;\"><div style=\"display: table-cell;\"></div><div style=\"display: table-cell;\">margin&nbsp;=&nbsp;(0, 0, 0, 0),</div></div><div class=\"1094\" style=\"display: none;\"><div style=\"display: table-cell;\"></div><div style=\"display: table-cell;\">match_aspect&nbsp;=&nbsp;False,</div></div><div class=\"1094\" style=\"display: none;\"><div style=\"display: table-cell;\"></div><div style=\"display: table-cell;\">max_height&nbsp;=&nbsp;None,</div></div><div class=\"1094\" style=\"display: none;\"><div style=\"display: table-cell;\"></div><div style=\"display: table-cell;\">max_width&nbsp;=&nbsp;None,</div></div><div class=\"1094\" style=\"display: none;\"><div style=\"display: table-cell;\"></div><div style=\"display: table-cell;\">min_border&nbsp;=&nbsp;5,</div></div><div class=\"1094\" style=\"display: none;\"><div style=\"display: table-cell;\"></div><div style=\"display: table-cell;\">min_border_bottom&nbsp;=&nbsp;None,</div></div><div class=\"1094\" style=\"display: none;\"><div style=\"display: table-cell;\"></div><div style=\"display: table-cell;\">min_border_left&nbsp;=&nbsp;None,</div></div><div class=\"1094\" style=\"display: none;\"><div style=\"display: table-cell;\"></div><div style=\"display: table-cell;\">min_border_right&nbsp;=&nbsp;None,</div></div><div class=\"1094\" style=\"display: none;\"><div style=\"display: table-cell;\"></div><div style=\"display: table-cell;\">min_border_top&nbsp;=&nbsp;None,</div></div><div class=\"1094\" style=\"display: none;\"><div style=\"display: table-cell;\"></div><div style=\"display: table-cell;\">min_height&nbsp;=&nbsp;None,</div></div><div class=\"1094\" style=\"display: none;\"><div style=\"display: table-cell;\"></div><div style=\"display: table-cell;\">min_width&nbsp;=&nbsp;None,</div></div><div class=\"1094\" style=\"display: none;\"><div style=\"display: table-cell;\"></div><div style=\"display: table-cell;\">name&nbsp;=&nbsp;None,</div></div><div class=\"1094\" style=\"display: none;\"><div style=\"display: table-cell;\"></div><div style=\"display: table-cell;\">outline_line_alpha&nbsp;=&nbsp;1.0,</div></div><div class=\"1094\" style=\"display: none;\"><div style=\"display: table-cell;\"></div><div style=\"display: table-cell;\">outline_line_cap&nbsp;=&nbsp;'butt',</div></div><div class=\"1094\" style=\"display: none;\"><div style=\"display: table-cell;\"></div><div style=\"display: table-cell;\">outline_line_color&nbsp;=&nbsp;'#e5e5e5',</div></div><div class=\"1094\" style=\"display: none;\"><div style=\"display: table-cell;\"></div><div style=\"display: table-cell;\">outline_line_dash&nbsp;=&nbsp;[],</div></div><div class=\"1094\" style=\"display: none;\"><div style=\"display: table-cell;\"></div><div style=\"display: table-cell;\">outline_line_dash_offset&nbsp;=&nbsp;0,</div></div><div class=\"1094\" style=\"display: none;\"><div style=\"display: table-cell;\"></div><div style=\"display: table-cell;\">outline_line_join&nbsp;=&nbsp;'bevel',</div></div><div class=\"1094\" style=\"display: none;\"><div style=\"display: table-cell;\"></div><div style=\"display: table-cell;\">outline_line_width&nbsp;=&nbsp;1,</div></div><div class=\"1094\" style=\"display: none;\"><div style=\"display: table-cell;\"></div><div style=\"display: table-cell;\">output_backend&nbsp;=&nbsp;'canvas',</div></div><div class=\"1094\" style=\"display: none;\"><div style=\"display: table-cell;\"></div><div style=\"display: table-cell;\">plot_height&nbsp;=&nbsp;400,</div></div><div class=\"1094\" style=\"display: none;\"><div style=\"display: table-cell;\"></div><div style=\"display: table-cell;\">plot_width&nbsp;=&nbsp;600,</div></div><div class=\"1094\" style=\"display: none;\"><div style=\"display: table-cell;\"></div><div style=\"display: table-cell;\">renderers&nbsp;=&nbsp;[GlyphRenderer(id='1036', ...)],</div></div><div class=\"1094\" style=\"display: none;\"><div style=\"display: table-cell;\"></div><div style=\"display: table-cell;\">reset_policy&nbsp;=&nbsp;'standard',</div></div><div class=\"1094\" style=\"display: none;\"><div style=\"display: table-cell;\"></div><div style=\"display: table-cell;\">right&nbsp;=&nbsp;[],</div></div><div class=\"1094\" style=\"display: none;\"><div style=\"display: table-cell;\"></div><div style=\"display: table-cell;\">sizing_mode&nbsp;=&nbsp;None,</div></div><div class=\"1094\" style=\"display: none;\"><div style=\"display: table-cell;\"></div><div style=\"display: table-cell;\">subscribed_events&nbsp;=&nbsp;[],</div></div><div class=\"1094\" style=\"display: none;\"><div style=\"display: table-cell;\"></div><div style=\"display: table-cell;\">tags&nbsp;=&nbsp;[],</div></div><div class=\"1094\" style=\"display: none;\"><div style=\"display: table-cell;\"></div><div style=\"display: table-cell;\">title&nbsp;=&nbsp;Title(id='1041', ...),</div></div><div class=\"1094\" style=\"display: none;\"><div style=\"display: table-cell;\"></div><div style=\"display: table-cell;\">title_location&nbsp;=&nbsp;'above',</div></div><div class=\"1094\" style=\"display: none;\"><div style=\"display: table-cell;\"></div><div style=\"display: table-cell;\">toolbar&nbsp;=&nbsp;Toolbar(id='1026', ...),</div></div><div class=\"1094\" style=\"display: none;\"><div style=\"display: table-cell;\"></div><div style=\"display: table-cell;\">toolbar_location&nbsp;=&nbsp;'right',</div></div><div class=\"1094\" style=\"display: none;\"><div style=\"display: table-cell;\"></div><div style=\"display: table-cell;\">toolbar_sticky&nbsp;=&nbsp;True,</div></div><div class=\"1094\" style=\"display: none;\"><div style=\"display: table-cell;\"></div><div style=\"display: table-cell;\">visible&nbsp;=&nbsp;True,</div></div><div class=\"1094\" style=\"display: none;\"><div style=\"display: table-cell;\"></div><div style=\"display: table-cell;\">width&nbsp;=&nbsp;None,</div></div><div class=\"1094\" style=\"display: none;\"><div style=\"display: table-cell;\"></div><div style=\"display: table-cell;\">width_policy&nbsp;=&nbsp;'auto',</div></div><div class=\"1094\" style=\"display: none;\"><div style=\"display: table-cell;\"></div><div style=\"display: table-cell;\">x_range&nbsp;=&nbsp;DataRange1d(id='1003', ...),</div></div><div class=\"1094\" style=\"display: none;\"><div style=\"display: table-cell;\"></div><div style=\"display: table-cell;\">x_scale&nbsp;=&nbsp;LinearScale(id='1007', ...),</div></div><div class=\"1094\" style=\"display: none;\"><div style=\"display: table-cell;\"></div><div style=\"display: table-cell;\">y_range&nbsp;=&nbsp;DataRange1d(id='1005', ...),</div></div><div class=\"1094\" style=\"display: none;\"><div style=\"display: table-cell;\"></div><div style=\"display: table-cell;\">y_scale&nbsp;=&nbsp;LinearScale(id='1009', ...))</div></div></div>\n",
              "<script>\n",
              "(function() {\n",
              "  var expanded = false;\n",
              "  var ellipsis = document.getElementById(\"1095\");\n",
              "  ellipsis.addEventListener(\"click\", function() {\n",
              "    var rows = document.getElementsByClassName(\"1094\");\n",
              "    for (var i = 0; i < rows.length; i++) {\n",
              "      var el = rows[i];\n",
              "      el.style.display = expanded ? \"none\" : \"table-row\";\n",
              "    }\n",
              "    ellipsis.innerHTML = expanded ? \"&hellip;)\" : \"&lsaquo;&lsaquo;&lsaquo;\";\n",
              "    expanded = !expanded;\n",
              "  });\n",
              "})();\n",
              "</script>\n"
            ],
            "text/plain": [
              "Figure(id='1002', ...)"
            ]
          },
          "metadata": {
            "tags": []
          },
          "execution_count": 44
        }
      ]
    },
    {
      "cell_type": "markdown",
      "metadata": {
        "id": "LN-M-PBsTjy_"
      },
      "source": [
        "### Visualizing neighbors with t-SNE\n",
        "PCA is nice but it's strictly linear and thus only able to capture coarse high-level structure of the data.\n",
        "\n",
        "If we instead want to focus on keeping neighboring points near, we could use TSNE, which is itself an embedding method. Here you can read __[more on TSNE](https://distill.pub/2016/misread-tsne/)__."
      ]
    },
    {
      "cell_type": "code",
      "metadata": {
        "id": "x_Ay-d-RTjzD"
      },
      "source": [
        "from sklearn.manifold import TSNE\n",
        "\n",
        "# map word vectors onto 2d plane with TSNE. hint: use verbose=100 to see what it's doing.\n",
        "# normalize them as just lke with pca\n",
        "\n",
        "\n",
        "word_tsne = TSNE(2).fit_transform(word_vectors)"
      ],
      "execution_count": null,
      "outputs": []
    },
    {
      "cell_type": "code",
      "metadata": {
        "scrolled": false,
        "id": "9xtr9oV9TjzV",
        "outputId": "43d83388-c7ad-44e8-953b-4a299ab1fce3",
        "colab": {
          "base_uri": "https://localhost:8080/",
          "height": 434
        }
      },
      "source": [
        "draw_vectors(word_tsne[:, 0], word_tsne[:, 1], color='green', token=words)"
      ],
      "execution_count": null,
      "outputs": [
        {
          "output_type": "display_data",
          "data": {
            "application/javascript": [
              "\n",
              "(function(root) {\n",
              "  function now() {\n",
              "    return new Date();\n",
              "  }\n",
              "\n",
              "  var force = true;\n",
              "\n",
              "  if (typeof root._bokeh_onload_callbacks === \"undefined\" || force === true) {\n",
              "    root._bokeh_onload_callbacks = [];\n",
              "    root._bokeh_is_loading = undefined;\n",
              "  }\n",
              "\n",
              "  var JS_MIME_TYPE = 'application/javascript';\n",
              "  var HTML_MIME_TYPE = 'text/html';\n",
              "  var EXEC_MIME_TYPE = 'application/vnd.bokehjs_exec.v0+json';\n",
              "  var CLASS_NAME = 'output_bokeh rendered_html';\n",
              "\n",
              "  /**\n",
              "   * Render data to the DOM node\n",
              "   */\n",
              "  function render(props, node) {\n",
              "    var script = document.createElement(\"script\");\n",
              "    node.appendChild(script);\n",
              "  }\n",
              "\n",
              "  /**\n",
              "   * Handle when an output is cleared or removed\n",
              "   */\n",
              "  function handleClearOutput(event, handle) {\n",
              "    var cell = handle.cell;\n",
              "\n",
              "    var id = cell.output_area._bokeh_element_id;\n",
              "    var server_id = cell.output_area._bokeh_server_id;\n",
              "    // Clean up Bokeh references\n",
              "    if (id != null && id in Bokeh.index) {\n",
              "      Bokeh.index[id].model.document.clear();\n",
              "      delete Bokeh.index[id];\n",
              "    }\n",
              "\n",
              "    if (server_id !== undefined) {\n",
              "      // Clean up Bokeh references\n",
              "      var cmd = \"from bokeh.io.state import curstate; print(curstate().uuid_to_server['\" + server_id + \"'].get_sessions()[0].document.roots[0]._id)\";\n",
              "      cell.notebook.kernel.execute(cmd, {\n",
              "        iopub: {\n",
              "          output: function(msg) {\n",
              "            var id = msg.content.text.trim();\n",
              "            if (id in Bokeh.index) {\n",
              "              Bokeh.index[id].model.document.clear();\n",
              "              delete Bokeh.index[id];\n",
              "            }\n",
              "          }\n",
              "        }\n",
              "      });\n",
              "      // Destroy server and session\n",
              "      var cmd = \"import bokeh.io.notebook as ion; ion.destroy_server('\" + server_id + \"')\";\n",
              "      cell.notebook.kernel.execute(cmd);\n",
              "    }\n",
              "  }\n",
              "\n",
              "  /**\n",
              "   * Handle when a new output is added\n",
              "   */\n",
              "  function handleAddOutput(event, handle) {\n",
              "    var output_area = handle.output_area;\n",
              "    var output = handle.output;\n",
              "\n",
              "    // limit handleAddOutput to display_data with EXEC_MIME_TYPE content only\n",
              "    if ((output.output_type != \"display_data\") || (!output.data.hasOwnProperty(EXEC_MIME_TYPE))) {\n",
              "      return\n",
              "    }\n",
              "\n",
              "    var toinsert = output_area.element.find(\".\" + CLASS_NAME.split(' ')[0]);\n",
              "\n",
              "    if (output.metadata[EXEC_MIME_TYPE][\"id\"] !== undefined) {\n",
              "      toinsert[toinsert.length - 1].firstChild.textContent = output.data[JS_MIME_TYPE];\n",
              "      // store reference to embed id on output_area\n",
              "      output_area._bokeh_element_id = output.metadata[EXEC_MIME_TYPE][\"id\"];\n",
              "    }\n",
              "    if (output.metadata[EXEC_MIME_TYPE][\"server_id\"] !== undefined) {\n",
              "      var bk_div = document.createElement(\"div\");\n",
              "      bk_div.innerHTML = output.data[HTML_MIME_TYPE];\n",
              "      var script_attrs = bk_div.children[0].attributes;\n",
              "      for (var i = 0; i < script_attrs.length; i++) {\n",
              "        toinsert[toinsert.length - 1].firstChild.setAttribute(script_attrs[i].name, script_attrs[i].value);\n",
              "        toinsert[toinsert.length - 1].firstChild.textContent = bk_div.children[0].textContent\n",
              "      }\n",
              "      // store reference to server id on output_area\n",
              "      output_area._bokeh_server_id = output.metadata[EXEC_MIME_TYPE][\"server_id\"];\n",
              "    }\n",
              "  }\n",
              "\n",
              "  function register_renderer(events, OutputArea) {\n",
              "\n",
              "    function append_mime(data, metadata, element) {\n",
              "      // create a DOM node to render to\n",
              "      var toinsert = this.create_output_subarea(\n",
              "        metadata,\n",
              "        CLASS_NAME,\n",
              "        EXEC_MIME_TYPE\n",
              "      );\n",
              "      this.keyboard_manager.register_events(toinsert);\n",
              "      // Render to node\n",
              "      var props = {data: data, metadata: metadata[EXEC_MIME_TYPE]};\n",
              "      render(props, toinsert[toinsert.length - 1]);\n",
              "      element.append(toinsert);\n",
              "      return toinsert\n",
              "    }\n",
              "\n",
              "    /* Handle when an output is cleared or removed */\n",
              "    events.on('clear_output.CodeCell', handleClearOutput);\n",
              "    events.on('delete.Cell', handleClearOutput);\n",
              "\n",
              "    /* Handle when a new output is added */\n",
              "    events.on('output_added.OutputArea', handleAddOutput);\n",
              "\n",
              "    /**\n",
              "     * Register the mime type and append_mime function with output_area\n",
              "     */\n",
              "    OutputArea.prototype.register_mime_type(EXEC_MIME_TYPE, append_mime, {\n",
              "      /* Is output safe? */\n",
              "      safe: true,\n",
              "      /* Index of renderer in `output_area.display_order` */\n",
              "      index: 0\n",
              "    });\n",
              "  }\n",
              "\n",
              "  // register the mime type if in Jupyter Notebook environment and previously unregistered\n",
              "  if (root.Jupyter !== undefined) {\n",
              "    var events = require('base/js/events');\n",
              "    var OutputArea = require('notebook/js/outputarea').OutputArea;\n",
              "\n",
              "    if (OutputArea.prototype.mime_types().indexOf(EXEC_MIME_TYPE) == -1) {\n",
              "      register_renderer(events, OutputArea);\n",
              "    }\n",
              "  }\n",
              "\n",
              "  \n",
              "  if (typeof (root._bokeh_timeout) === \"undefined\" || force === true) {\n",
              "    root._bokeh_timeout = Date.now() + 5000;\n",
              "    root._bokeh_failed_load = false;\n",
              "  }\n",
              "\n",
              "  var NB_LOAD_WARNING = {'data': {'text/html':\n",
              "     \"<div style='background-color: #fdd'>\\n\"+\n",
              "     \"<p>\\n\"+\n",
              "     \"BokehJS does not appear to have successfully loaded. If loading BokehJS from CDN, this \\n\"+\n",
              "     \"may be due to a slow or bad network connection. Possible fixes:\\n\"+\n",
              "     \"</p>\\n\"+\n",
              "     \"<ul>\\n\"+\n",
              "     \"<li>re-rerun `output_notebook()` to attempt to load from CDN again, or</li>\\n\"+\n",
              "     \"<li>use INLINE resources instead, as so:</li>\\n\"+\n",
              "     \"</ul>\\n\"+\n",
              "     \"<code>\\n\"+\n",
              "     \"from bokeh.resources import INLINE\\n\"+\n",
              "     \"output_notebook(resources=INLINE)\\n\"+\n",
              "     \"</code>\\n\"+\n",
              "     \"</div>\"}};\n",
              "\n",
              "  function display_loaded() {\n",
              "    var el = document.getElementById(null);\n",
              "    if (el != null) {\n",
              "      el.textContent = \"BokehJS is loading...\";\n",
              "    }\n",
              "    if (root.Bokeh !== undefined) {\n",
              "      if (el != null) {\n",
              "        el.textContent = \"BokehJS \" + root.Bokeh.version + \" successfully loaded.\";\n",
              "      }\n",
              "    } else if (Date.now() < root._bokeh_timeout) {\n",
              "      setTimeout(display_loaded, 100)\n",
              "    }\n",
              "  }\n",
              "\n",
              "\n",
              "  function run_callbacks() {\n",
              "    try {\n",
              "      root._bokeh_onload_callbacks.forEach(function(callback) {\n",
              "        if (callback != null)\n",
              "          callback();\n",
              "      });\n",
              "    } finally {\n",
              "      delete root._bokeh_onload_callbacks\n",
              "    }\n",
              "    console.debug(\"Bokeh: all callbacks have finished\");\n",
              "  }\n",
              "\n",
              "  function load_libs(css_urls, js_urls, callback) {\n",
              "    if (css_urls == null) css_urls = [];\n",
              "    if (js_urls == null) js_urls = [];\n",
              "\n",
              "    root._bokeh_onload_callbacks.push(callback);\n",
              "    if (root._bokeh_is_loading > 0) {\n",
              "      console.debug(\"Bokeh: BokehJS is being loaded, scheduling callback at\", now());\n",
              "      return null;\n",
              "    }\n",
              "    if (js_urls == null || js_urls.length === 0) {\n",
              "      run_callbacks();\n",
              "      return null;\n",
              "    }\n",
              "    console.debug(\"Bokeh: BokehJS not loaded, scheduling load and callback at\", now());\n",
              "    root._bokeh_is_loading = css_urls.length + js_urls.length;\n",
              "\n",
              "    function on_load() {\n",
              "      root._bokeh_is_loading--;\n",
              "      if (root._bokeh_is_loading === 0) {\n",
              "        console.debug(\"Bokeh: all BokehJS libraries/stylesheets loaded\");\n",
              "        run_callbacks()\n",
              "      }\n",
              "    }\n",
              "\n",
              "    function on_error() {\n",
              "      console.error(\"failed to load \" + url);\n",
              "    }\n",
              "\n",
              "    for (var i = 0; i < css_urls.length; i++) {\n",
              "      var url = css_urls[i];\n",
              "      const element = document.createElement(\"link\");\n",
              "      element.onload = on_load;\n",
              "      element.onerror = on_error;\n",
              "      element.rel = \"stylesheet\";\n",
              "      element.type = \"text/css\";\n",
              "      element.href = url;\n",
              "      console.debug(\"Bokeh: injecting link tag for BokehJS stylesheet: \", url);\n",
              "      document.body.appendChild(element);\n",
              "    }\n",
              "\n",
              "    const hashes = {\"https://cdn.bokeh.org/bokeh/release/bokeh-2.2.2.min.js\": \"JayppSWSRBsibIZqI8S4vAb1oFgLL0uhNvSn8cmArlOvYOwfFjYeyY5UWwJ+K0SU\", \"https://cdn.bokeh.org/bokeh/release/bokeh-widgets-2.2.2.min.js\": \"G0/Tv/Yy/zEPNsnW0Qif/FOsGesd+KIrKg/QLmvQmReuUW9qmSP7mAmr0VpiUNr3\", \"https://cdn.bokeh.org/bokeh/release/bokeh-tables-2.2.2.min.js\": \"VLYHEbLQDk5G1+/4ALU0myoJPMEUsngWry2fzYorFOUmarjGRPLLURaeK/on6JqX\"};\n",
              "\n",
              "    for (var i = 0; i < js_urls.length; i++) {\n",
              "      var url = js_urls[i];\n",
              "      var element = document.createElement('script');\n",
              "      element.onload = on_load;\n",
              "      element.onerror = on_error;\n",
              "      element.async = false;\n",
              "      element.src = url;\n",
              "      if (url in hashes) {\n",
              "        element.crossOrigin = \"anonymous\";\n",
              "        element.integrity = \"sha384-\" + hashes[url];\n",
              "      }\n",
              "      console.debug(\"Bokeh: injecting script tag for BokehJS library: \", url);\n",
              "      document.head.appendChild(element);\n",
              "    }\n",
              "  };\n",
              "\n",
              "  function inject_raw_css(css) {\n",
              "    const element = document.createElement(\"style\");\n",
              "    element.appendChild(document.createTextNode(css));\n",
              "    document.body.appendChild(element);\n",
              "  }\n",
              "\n",
              "  \n",
              "  var js_urls = [\"https://cdn.bokeh.org/bokeh/release/bokeh-2.2.2.min.js\", \"https://cdn.bokeh.org/bokeh/release/bokeh-widgets-2.2.2.min.js\", \"https://cdn.bokeh.org/bokeh/release/bokeh-tables-2.2.2.min.js\"];\n",
              "  var css_urls = [];\n",
              "  \n",
              "\n",
              "  var inline_js = [\n",
              "    function(Bokeh) {\n",
              "      Bokeh.set_log_level(\"info\");\n",
              "    },\n",
              "    function(Bokeh) {\n",
              "    \n",
              "    \n",
              "    }\n",
              "  ];\n",
              "\n",
              "  function run_inline_js() {\n",
              "    \n",
              "    if (root.Bokeh !== undefined || force === true) {\n",
              "      \n",
              "    for (var i = 0; i < inline_js.length; i++) {\n",
              "      inline_js[i].call(root, root.Bokeh);\n",
              "    }\n",
              "    } else if (Date.now() < root._bokeh_timeout) {\n",
              "      setTimeout(run_inline_js, 100);\n",
              "    } else if (!root._bokeh_failed_load) {\n",
              "      console.log(\"Bokeh: BokehJS failed to load within specified timeout.\");\n",
              "      root._bokeh_failed_load = true;\n",
              "    } else if (force !== true) {\n",
              "      var cell = $(document.getElementById(null)).parents('.cell').data().cell;\n",
              "      cell.output_area.append_execute_result(NB_LOAD_WARNING)\n",
              "    }\n",
              "\n",
              "  }\n",
              "\n",
              "  if (root._bokeh_is_loading === 0) {\n",
              "    console.debug(\"Bokeh: BokehJS loaded, going straight to plotting\");\n",
              "    run_inline_js();\n",
              "  } else {\n",
              "    load_libs(css_urls, js_urls, function() {\n",
              "      console.debug(\"Bokeh: BokehJS plotting callback run at\", now());\n",
              "      run_inline_js();\n",
              "    });\n",
              "  }\n",
              "}(window));"
            ],
            "application/vnd.bokehjs_load.v0+json": "\n(function(root) {\n  function now() {\n    return new Date();\n  }\n\n  var force = true;\n\n  if (typeof root._bokeh_onload_callbacks === \"undefined\" || force === true) {\n    root._bokeh_onload_callbacks = [];\n    root._bokeh_is_loading = undefined;\n  }\n\n  \n\n  \n  if (typeof (root._bokeh_timeout) === \"undefined\" || force === true) {\n    root._bokeh_timeout = Date.now() + 5000;\n    root._bokeh_failed_load = false;\n  }\n\n  var NB_LOAD_WARNING = {'data': {'text/html':\n     \"<div style='background-color: #fdd'>\\n\"+\n     \"<p>\\n\"+\n     \"BokehJS does not appear to have successfully loaded. If loading BokehJS from CDN, this \\n\"+\n     \"may be due to a slow or bad network connection. Possible fixes:\\n\"+\n     \"</p>\\n\"+\n     \"<ul>\\n\"+\n     \"<li>re-rerun `output_notebook()` to attempt to load from CDN again, or</li>\\n\"+\n     \"<li>use INLINE resources instead, as so:</li>\\n\"+\n     \"</ul>\\n\"+\n     \"<code>\\n\"+\n     \"from bokeh.resources import INLINE\\n\"+\n     \"output_notebook(resources=INLINE)\\n\"+\n     \"</code>\\n\"+\n     \"</div>\"}};\n\n  function display_loaded() {\n    var el = document.getElementById(null);\n    if (el != null) {\n      el.textContent = \"BokehJS is loading...\";\n    }\n    if (root.Bokeh !== undefined) {\n      if (el != null) {\n        el.textContent = \"BokehJS \" + root.Bokeh.version + \" successfully loaded.\";\n      }\n    } else if (Date.now() < root._bokeh_timeout) {\n      setTimeout(display_loaded, 100)\n    }\n  }\n\n\n  function run_callbacks() {\n    try {\n      root._bokeh_onload_callbacks.forEach(function(callback) {\n        if (callback != null)\n          callback();\n      });\n    } finally {\n      delete root._bokeh_onload_callbacks\n    }\n    console.debug(\"Bokeh: all callbacks have finished\");\n  }\n\n  function load_libs(css_urls, js_urls, callback) {\n    if (css_urls == null) css_urls = [];\n    if (js_urls == null) js_urls = [];\n\n    root._bokeh_onload_callbacks.push(callback);\n    if (root._bokeh_is_loading > 0) {\n      console.debug(\"Bokeh: BokehJS is being loaded, scheduling callback at\", now());\n      return null;\n    }\n    if (js_urls == null || js_urls.length === 0) {\n      run_callbacks();\n      return null;\n    }\n    console.debug(\"Bokeh: BokehJS not loaded, scheduling load and callback at\", now());\n    root._bokeh_is_loading = css_urls.length + js_urls.length;\n\n    function on_load() {\n      root._bokeh_is_loading--;\n      if (root._bokeh_is_loading === 0) {\n        console.debug(\"Bokeh: all BokehJS libraries/stylesheets loaded\");\n        run_callbacks()\n      }\n    }\n\n    function on_error() {\n      console.error(\"failed to load \" + url);\n    }\n\n    for (var i = 0; i < css_urls.length; i++) {\n      var url = css_urls[i];\n      const element = document.createElement(\"link\");\n      element.onload = on_load;\n      element.onerror = on_error;\n      element.rel = \"stylesheet\";\n      element.type = \"text/css\";\n      element.href = url;\n      console.debug(\"Bokeh: injecting link tag for BokehJS stylesheet: \", url);\n      document.body.appendChild(element);\n    }\n\n    const hashes = {\"https://cdn.bokeh.org/bokeh/release/bokeh-2.2.2.min.js\": \"JayppSWSRBsibIZqI8S4vAb1oFgLL0uhNvSn8cmArlOvYOwfFjYeyY5UWwJ+K0SU\", \"https://cdn.bokeh.org/bokeh/release/bokeh-widgets-2.2.2.min.js\": \"G0/Tv/Yy/zEPNsnW0Qif/FOsGesd+KIrKg/QLmvQmReuUW9qmSP7mAmr0VpiUNr3\", \"https://cdn.bokeh.org/bokeh/release/bokeh-tables-2.2.2.min.js\": \"VLYHEbLQDk5G1+/4ALU0myoJPMEUsngWry2fzYorFOUmarjGRPLLURaeK/on6JqX\"};\n\n    for (var i = 0; i < js_urls.length; i++) {\n      var url = js_urls[i];\n      var element = document.createElement('script');\n      element.onload = on_load;\n      element.onerror = on_error;\n      element.async = false;\n      element.src = url;\n      if (url in hashes) {\n        element.crossOrigin = \"anonymous\";\n        element.integrity = \"sha384-\" + hashes[url];\n      }\n      console.debug(\"Bokeh: injecting script tag for BokehJS library: \", url);\n      document.head.appendChild(element);\n    }\n  };\n\n  function inject_raw_css(css) {\n    const element = document.createElement(\"style\");\n    element.appendChild(document.createTextNode(css));\n    document.body.appendChild(element);\n  }\n\n  \n  var js_urls = [\"https://cdn.bokeh.org/bokeh/release/bokeh-2.2.2.min.js\", \"https://cdn.bokeh.org/bokeh/release/bokeh-widgets-2.2.2.min.js\", \"https://cdn.bokeh.org/bokeh/release/bokeh-tables-2.2.2.min.js\"];\n  var css_urls = [];\n  \n\n  var inline_js = [\n    function(Bokeh) {\n      Bokeh.set_log_level(\"info\");\n    },\n    function(Bokeh) {\n    \n    \n    }\n  ];\n\n  function run_inline_js() {\n    \n    if (root.Bokeh !== undefined || force === true) {\n      \n    for (var i = 0; i < inline_js.length; i++) {\n      inline_js[i].call(root, root.Bokeh);\n    }\n    } else if (Date.now() < root._bokeh_timeout) {\n      setTimeout(run_inline_js, 100);\n    } else if (!root._bokeh_failed_load) {\n      console.log(\"Bokeh: BokehJS failed to load within specified timeout.\");\n      root._bokeh_failed_load = true;\n    } else if (force !== true) {\n      var cell = $(document.getElementById(null)).parents('.cell').data().cell;\n      cell.output_area.append_execute_result(NB_LOAD_WARNING)\n    }\n\n  }\n\n  if (root._bokeh_is_loading === 0) {\n    console.debug(\"Bokeh: BokehJS loaded, going straight to plotting\");\n    run_inline_js();\n  } else {\n    load_libs(css_urls, js_urls, function() {\n      console.debug(\"Bokeh: BokehJS plotting callback run at\", now());\n      run_inline_js();\n    });\n  }\n}(window));"
          },
          "metadata": {
            "tags": []
          }
        },
        {
          "output_type": "display_data",
          "data": {
            "text/html": [
              "\n",
              "\n",
              "\n",
              "\n",
              "\n",
              "\n",
              "  <div class=\"bk-root\" id=\"29de5a52-fdb5-4c04-a878-45063a58e513\" data-root-id=\"1099\"></div>\n"
            ]
          },
          "metadata": {
            "tags": []
          }
        },
        {
          "output_type": "display_data",
          "data": {
            "application/javascript": [
              "(function(root) {\n",
              "  function embed_document(root) {\n",
              "    \n",
              "  var docs_json = {\"31db9d2f-684d-4822-8b6b-7dcd1637d77a\":{\"roots\":{\"references\":[{\"attributes\":{\"below\":[{\"id\":\"1108\"}],\"center\":[{\"id\":\"1111\"},{\"id\":\"1115\"}],\"left\":[{\"id\":\"1112\"}],\"plot_height\":400,\"renderers\":[{\"id\":\"1133\"}],\"title\":{\"id\":\"1147\"},\"toolbar\":{\"id\":\"1123\"},\"x_range\":{\"id\":\"1100\"},\"x_scale\":{\"id\":\"1104\"},\"y_range\":{\"id\":\"1102\"},\"y_scale\":{\"id\":\"1106\"}},\"id\":\"1099\",\"subtype\":\"Figure\",\"type\":\"Plot\"},{\"attributes\":{\"fill_alpha\":{\"value\":0.25},\"fill_color\":{\"field\":\"color\"},\"line_alpha\":{\"value\":0.25},\"line_color\":{\"field\":\"color\"},\"size\":{\"units\":\"screen\",\"value\":10},\"x\":{\"field\":\"x\"},\"y\":{\"field\":\"y\"}},\"id\":\"1131\",\"type\":\"Scatter\"},{\"attributes\":{},\"id\":\"1106\",\"type\":\"LinearScale\"},{\"attributes\":{\"source\":{\"id\":\"1098\"}},\"id\":\"1134\",\"type\":\"CDSView\"},{\"attributes\":{\"fill_alpha\":{\"value\":0.1},\"fill_color\":{\"field\":\"color\"},\"line_alpha\":{\"value\":0.1},\"line_color\":{\"field\":\"color\"},\"size\":{\"units\":\"screen\",\"value\":10},\"x\":{\"field\":\"x\"},\"y\":{\"field\":\"y\"}},\"id\":\"1132\",\"type\":\"Scatter\"},{\"attributes\":{\"formatter\":{\"id\":\"1150\"},\"ticker\":{\"id\":\"1109\"}},\"id\":\"1108\",\"type\":\"LinearAxis\"},{\"attributes\":{\"callback\":null,\"tooltips\":[[\"token\",\"@token\"]]},\"id\":\"1135\",\"type\":\"HoverTool\"},{\"attributes\":{},\"id\":\"1109\",\"type\":\"BasicTicker\"},{\"attributes\":{\"axis\":{\"id\":\"1108\"},\"ticker\":null},\"id\":\"1111\",\"type\":\"Grid\"},{\"attributes\":{},\"id\":\"1152\",\"type\":\"UnionRenderers\"},{\"attributes\":{\"formatter\":{\"id\":\"1148\"},\"ticker\":{\"id\":\"1113\"}},\"id\":\"1112\",\"type\":\"LinearAxis\"},{\"attributes\":{},\"id\":\"1150\",\"type\":\"BasicTickFormatter\"},{\"attributes\":{},\"id\":\"1113\",\"type\":\"BasicTicker\"},{\"attributes\":{\"text\":\"\"},\"id\":\"1147\",\"type\":\"Title\"},{\"attributes\":{\"axis\":{\"id\":\"1112\"},\"dimension\":1,\"ticker\":null},\"id\":\"1115\",\"type\":\"Grid\"},{\"attributes\":{},\"id\":\"1148\",\"type\":\"BasicTickFormatter\"},{\"attributes\":{\"data_source\":{\"id\":\"1098\"},\"glyph\":{\"id\":\"1131\"},\"hover_glyph\":null,\"muted_glyph\":null,\"nonselection_glyph\":{\"id\":\"1132\"},\"selection_glyph\":null,\"view\":{\"id\":\"1134\"}},\"id\":\"1133\",\"type\":\"GlyphRenderer\"},{\"attributes\":{},\"id\":\"1153\",\"type\":\"Selection\"},{\"attributes\":{\"bottom_units\":\"screen\",\"fill_alpha\":0.5,\"fill_color\":\"lightgrey\",\"left_units\":\"screen\",\"level\":\"overlay\",\"line_alpha\":1.0,\"line_color\":\"black\",\"line_dash\":[4,4],\"line_width\":2,\"right_units\":\"screen\",\"top_units\":\"screen\"},\"id\":\"1122\",\"type\":\"BoxAnnotation\"},{\"attributes\":{},\"id\":\"1116\",\"type\":\"PanTool\"},{\"attributes\":{},\"id\":\"1117\",\"type\":\"WheelZoomTool\"},{\"attributes\":{\"data\":{\"color\":[\"green\",\"green\",\"green\",\"green\",\"green\",\"green\",\"green\",\"green\",\"green\",\"green\",\"green\",\"green\",\"green\",\"green\",\"green\",\"green\",\"green\",\"green\",\"green\",\"green\",\"green\",\"green\",\"green\",\"green\",\"green\",\"green\",\"green\",\"green\",\"green\",\"green\",\"green\",\"green\",\"green\",\"green\",\"green\",\"green\",\"green\",\"green\",\"green\",\"green\",\"green\",\"green\",\"green\",\"green\",\"green\",\"green\",\"green\",\"green\",\"green\",\"green\",\"green\",\"green\",\"green\",\"green\",\"green\",\"green\",\"green\",\"green\",\"green\",\"green\",\"green\",\"green\",\"green\",\"green\",\"green\",\"green\",\"green\",\"green\",\"green\",\"green\",\"green\",\"green\",\"green\",\"green\",\"green\",\"green\",\"green\",\"green\",\"green\",\"green\",\"green\",\"green\",\"green\",\"green\",\"green\",\"green\",\"green\",\"green\",\"green\",\"green\",\"green\",\"green\",\"green\",\"green\",\"green\",\"green\",\"green\",\"green\",\"green\",\"green\",\"green\",\"green\",\"green\",\"green\",\"green\",\"green\",\"green\",\"green\",\"green\",\"green\",\"green\",\"green\",\"green\",\"green\",\"green\",\"green\",\"green\",\"green\",\"green\",\"green\",\"green\",\"green\",\"green\",\"green\",\"green\",\"green\",\"green\",\"green\",\"green\",\"green\",\"green\",\"green\",\"green\",\"green\",\"green\",\"green\",\"green\",\"green\",\"green\",\"green\",\"green\",\"green\",\"green\",\"green\",\"green\",\"green\",\"green\",\"green\",\"green\",\"green\",\"green\",\"green\",\"green\",\"green\",\"green\",\"green\",\"green\",\"green\",\"green\",\"green\",\"green\",\"green\",\"green\",\"green\",\"green\",\"green\",\"green\",\"green\",\"green\",\"green\",\"green\",\"green\",\"green\",\"green\",\"green\",\"green\",\"green\",\"green\",\"green\",\"green\",\"green\",\"green\",\"green\",\"green\",\"green\",\"green\",\"green\",\"green\",\"green\",\"green\",\"green\",\"green\",\"green\",\"green\",\"green\",\"green\",\"green\",\"green\",\"green\",\"green\",\"green\",\"green\",\"green\",\"green\",\"green\",\"green\",\"green\",\"green\",\"green\",\"green\",\"green\",\"green\",\"green\",\"green\",\"green\",\"green\",\"green\",\"green\",\"green\",\"green\",\"green\",\"green\",\"green\",\"green\",\"green\",\"green\",\"green\",\"green\",\"green\",\"green\",\"green\",\"green\",\"green\",\"green\",\"green\",\"green\",\"green\",\"green\",\"green\",\"green\",\"green\",\"green\",\"green\",\"green\",\"green\",\"green\",\"green\",\"green\",\"green\",\"green\",\"green\",\"green\",\"green\",\"green\",\"green\",\"green\",\"green\",\"green\",\"green\",\"green\",\"green\",\"green\",\"green\",\"green\",\"green\",\"green\",\"green\",\"green\",\"green\",\"green\",\"green\",\"green\",\"green\",\"green\",\"green\",\"green\",\"green\",\"green\",\"green\",\"green\",\"green\",\"green\",\"green\",\"green\",\"green\",\"green\",\"green\",\"green\",\"green\",\"green\",\"green\",\"green\",\"green\",\"green\",\"green\",\"green\",\"green\",\"green\",\"green\",\"green\",\"green\",\"green\",\"green\",\"green\",\"green\",\"green\",\"green\",\"green\",\"green\",\"green\",\"green\",\"green\",\"green\",\"green\",\"green\",\"green\",\"green\",\"green\",\"green\",\"green\",\"green\",\"green\",\"green\",\"green\",\"green\",\"green\",\"green\",\"green\",\"green\",\"green\",\"green\",\"green\",\"green\",\"green\",\"green\",\"green\",\"green\",\"green\",\"green\",\"green\",\"green\",\"green\",\"green\",\"green\",\"green\",\"green\",\"green\",\"green\",\"green\",\"green\",\"green\",\"green\",\"green\",\"green\",\"green\",\"green\",\"green\",\"green\",\"green\",\"green\",\"green\",\"green\",\"green\",\"green\",\"green\",\"green\",\"green\",\"green\",\"green\",\"green\",\"green\",\"green\",\"green\",\"green\",\"green\",\"green\",\"green\",\"green\",\"green\",\"green\",\"green\",\"green\",\"green\",\"green\",\"green\",\"green\",\"green\",\"green\",\"green\",\"green\",\"green\",\"green\",\"green\",\"green\",\"green\",\"green\",\"green\",\"green\",\"green\",\"green\",\"green\",\"green\",\"green\",\"green\",\"green\",\"green\",\"green\",\"green\",\"green\",\"green\",\"green\",\"green\",\"green\",\"green\",\"green\",\"green\",\"green\",\"green\",\"green\",\"green\",\"green\",\"green\",\"green\",\"green\",\"green\",\"green\",\"green\",\"green\",\"green\",\"green\",\"green\",\"green\",\"green\",\"green\",\"green\",\"green\",\"green\",\"green\",\"green\",\"green\",\"green\",\"green\",\"green\",\"green\",\"green\",\"green\",\"green\",\"green\",\"green\",\"green\",\"green\",\"green\",\"green\",\"green\",\"green\",\"green\",\"green\",\"green\",\"green\",\"green\",\"green\",\"green\",\"green\",\"green\",\"green\",\"green\",\"green\",\"green\",\"green\",\"green\",\"green\",\"green\",\"green\",\"green\",\"green\",\"green\",\"green\",\"green\",\"green\",\"green\",\"green\",\"green\",\"green\",\"green\",\"green\",\"green\",\"green\",\"green\",\"green\",\"green\",\"green\",\"green\",\"green\",\"green\",\"green\",\"green\",\"green\",\"green\",\"green\",\"green\",\"green\",\"green\",\"green\",\"green\",\"green\",\"green\",\"green\",\"green\",\"green\",\"green\",\"green\",\"green\",\"green\",\"green\",\"green\",\"green\",\"green\",\"green\",\"green\",\"green\",\"green\",\"green\",\"green\",\"green\",\"green\",\"green\",\"green\",\"green\",\"green\",\"green\",\"green\",\"green\",\"green\",\"green\",\"green\",\"green\",\"green\",\"green\",\"green\",\"green\",\"green\",\"green\",\"green\",\"green\",\"green\",\"green\",\"green\",\"green\",\"green\",\"green\",\"green\",\"green\",\"green\",\"green\",\"green\",\"green\",\"green\",\"green\",\"green\",\"green\",\"green\",\"green\",\"green\",\"green\",\"green\",\"green\",\"green\",\"green\",\"green\",\"green\",\"green\",\"green\",\"green\",\"green\",\"green\",\"green\",\"green\",\"green\",\"green\",\"green\",\"green\",\"green\",\"green\",\"green\",\"green\",\"green\",\"green\",\"green\",\"green\",\"green\",\"green\",\"green\",\"green\",\"green\",\"green\",\"green\",\"green\",\"green\",\"green\",\"green\",\"green\",\"green\",\"green\",\"green\",\"green\",\"green\",\"green\",\"green\",\"green\",\"green\",\"green\",\"green\",\"green\",\"green\",\"green\",\"green\",\"green\",\"green\",\"green\",\"green\",\"green\",\"green\",\"green\",\"green\",\"green\",\"green\",\"green\",\"green\",\"green\",\"green\",\"green\",\"green\",\"green\",\"green\",\"green\",\"green\",\"green\",\"green\",\"green\",\"green\",\"green\",\"green\",\"green\",\"green\",\"green\",\"green\",\"green\",\"green\",\"green\",\"green\",\"green\",\"green\",\"green\",\"green\",\"green\",\"green\",\"green\",\"green\",\"green\",\"green\",\"green\",\"green\",\"green\",\"green\",\"green\",\"green\",\"green\",\"green\",\"green\",\"green\",\"green\",\"green\",\"green\",\"green\",\"green\",\"green\",\"green\",\"green\",\"green\",\"green\",\"green\",\"green\",\"green\",\"green\",\"green\",\"green\",\"green\",\"green\",\"green\",\"green\",\"green\",\"green\",\"green\",\"green\",\"green\",\"green\",\"green\",\"green\",\"green\",\"green\",\"green\",\"green\",\"green\",\"green\",\"green\",\"green\",\"green\",\"green\",\"green\",\"green\",\"green\",\"green\",\"green\",\"green\",\"green\",\"green\",\"green\",\"green\",\"green\",\"green\",\"green\",\"green\",\"green\",\"green\",\"green\",\"green\",\"green\",\"green\",\"green\",\"green\",\"green\",\"green\",\"green\",\"green\",\"green\",\"green\",\"green\",\"green\",\"green\",\"green\",\"green\",\"green\",\"green\",\"green\",\"green\",\"green\",\"green\",\"green\",\"green\",\"green\",\"green\",\"green\",\"green\",\"green\",\"green\",\"green\",\"green\",\"green\",\"green\",\"green\",\"green\",\"green\",\"green\",\"green\",\"green\",\"green\",\"green\",\"green\",\"green\",\"green\",\"green\",\"green\",\"green\",\"green\",\"green\",\"green\",\"green\",\"green\",\"green\",\"green\",\"green\",\"green\",\"green\",\"green\",\"green\",\"green\",\"green\",\"green\",\"green\",\"green\",\"green\",\"green\",\"green\",\"green\",\"green\",\"green\",\"green\",\"green\",\"green\",\"green\",\"green\",\"green\",\"green\",\"green\",\"green\",\"green\",\"green\",\"green\",\"green\",\"green\",\"green\",\"green\",\"green\",\"green\",\"green\",\"green\",\"green\",\"green\",\"green\",\"green\",\"green\",\"green\",\"green\",\"green\",\"green\",\"green\",\"green\",\"green\",\"green\",\"green\",\"green\",\"green\",\"green\",\"green\",\"green\",\"green\",\"green\",\"green\",\"green\",\"green\",\"green\",\"green\",\"green\",\"green\",\"green\",\"green\",\"green\",\"green\",\"green\",\"green\",\"green\",\"green\",\"green\",\"green\",\"green\",\"green\",\"green\",\"green\",\"green\",\"green\",\"green\",\"green\",\"green\",\"green\",\"green\",\"green\",\"green\",\"green\",\"green\",\"green\",\"green\",\"green\",\"green\",\"green\",\"green\",\"green\",\"green\",\"green\",\"green\",\"green\",\"green\",\"green\",\"green\",\"green\",\"green\",\"green\",\"green\",\"green\",\"green\",\"green\",\"green\",\"green\",\"green\",\"green\",\"green\",\"green\",\"green\",\"green\",\"green\",\"green\",\"green\",\"green\",\"green\",\"green\",\"green\",\"green\",\"green\",\"green\",\"green\",\"green\",\"green\",\"green\",\"green\",\"green\",\"green\",\"green\",\"green\",\"green\",\"green\",\"green\",\"green\",\"green\",\"green\",\"green\",\"green\",\"green\",\"green\",\"green\",\"green\",\"green\",\"green\",\"green\",\"green\",\"green\",\"green\",\"green\",\"green\",\"green\",\"green\",\"green\",\"green\",\"green\",\"green\",\"green\",\"green\",\"green\",\"green\",\"green\",\"green\",\"green\",\"green\",\"green\",\"green\",\"green\",\"green\",\"green\",\"green\",\"green\",\"green\",\"green\",\"green\",\"green\",\"green\",\"green\",\"green\",\"green\",\"green\",\"green\",\"green\",\"green\",\"green\",\"green\",\"green\",\"green\",\"green\",\"green\",\"green\",\"green\",\"green\",\"green\",\"green\",\"green\",\"green\",\"green\",\"green\",\"green\",\"green\",\"green\",\"green\",\"green\",\"green\",\"green\",\"green\",\"green\",\"green\",\"green\",\"green\",\"green\",\"green\",\"green\"],\"token\":[\"<user>\",\".\",\":\",\"rt\",\",\",\"<repeat>\",\"<hashtag>\",\"<number>\",\"<url>\",\"!\",\"i\",\"a\",\"\\\"\",\"the\",\"?\",\"you\",\"to\",\"(\",\"<allcaps>\",\"<elong>\",\")\",\"me\",\"de\",\"<smile>\",\"\\uff01\",\"que\",\"and\",\"\\u3002\",\"-\",\"my\",\"no\",\"\\u3001\",\"is\",\"it\",\"\\u2026\",\"in\",\"n\",\"for\",\"/\",\"of\",\"la\",\"'s\",\"*\",\"do\",\"n't\",\"that\",\"on\",\"y\",\"'\",\"e\",\"o\",\"u\",\"en\",\"this\",\"el\",\"so\",\"be\",\"'m\",\"with\",\"just\",\">\",\"your\",\"^\",\"like\",\"have\",\"te\",\"at\",\"\\uff1f\",\"love\",\"se\",\"are\",\"<\",\"m\",\"r\",\"if\",\"all\",\"b\",\"\\u30fb\",\"not\",\"but\",\"we\",\"es\",\"ya\",\"&\",\"follow\",\"up\",\"what\",\"get\",\"lol\",\"un\",\"\\u2665\",\"lo\",\"when\",\"was\",\"\\u201c\",\"\\u201d\",\"one\",\"por\",\"si\",\"out\",\"_\",\"mi\",\"can\",\"<sadface>\",\"\\u0645\\u0646\",\"\\u2661\",\"\\u00b4\",\"he\",\"con\",\"they\",\"now\",\"go\",\"\\u060c\",\"para\",\"los\",\"know\",\"haha\",\"good\",\"tu\",\"back\",\"~\",\"about\",\"new\",\";\",\"as\",\"day\",\"how\",\"who\",\"will\",\"want\",\"people\",\"yo\",\"eu\",\"from\",\"di\",\"time\",\"<heart>\",\"s\",\"aku\",\"da\",\"'re\",\"<lolface>\",\"una\",\"got\",\"las\",\"more\",\"x\",\"she\",\"today\",\"\\uff08\",\">>\",\"k\",\"by\",\"or\",\"\\u0641\\u064a\",\"\\uff65\",\"too\",\"le\",\"\\u00e9\",\"|\",\"[\",\"\\uff09\",\"]\",\"see\",\"why\",\"yg\",\"ca\",\"como\",\"her\",\"\\u2014\",\"q\",\"need\",\"an\",\"na\",\"\\u7b11\",\"there\",\"\\u03c9\",\"happy\",\"im\",\"mas\",\"je\",\"life\",\"really\",\"make\",\"yang\",\"shit\",\"think\",\"t\",\"\\u2764\",\"n\\u00e3o\",\"never\",\"some\",\"\\uff5e\",\"oh\",\"\\u2605\",\"did\",\"would\",\"del\",\"`\",\"d\",\"please\",\"via\",\"much\",\"fuck\",\"al\",\"dia\",\"$\",\"\\u0648\",\"right\",\"best\",\"c\",\"going\",\"\\u0627\\u0644\\u0644\\u0647\",\"pero\",\"only\",\"has\",\"\\u266a\",\"'ll\",\"twitter\",\"=\",\"hahaha\",\"its\",\"nn\",\"\\uff40\",\"\\u00bf\",\"am\",\"say\",\"<neutralface>\",\"them\",\"here\",\"\\u0644\\u0627\",\"off\",\"still\",\"dan\",\"+\",\"night\",\"w\",\"ada\",\"someone\",\"even\",\"then\",\"\\u2606\",\"ni\",\"come\",\"com\",\"always\",\"man\",\"'ve\",\"been\",\"his\",\"itu\",\"\\u0639\\u0644\\u0649\",\"-_-\",\"\\u263a\",\"over\",\"um\",\"\\u0645\\u0627\",\"hate\",\"girl\",\"ai\",\"had\",\"pra\",\"todo\",\"mais\",\"feel\",\"let\",\"ini\",\"because\",\"\\uff9f\",\"thanks\",\"ah\",\"way\",\"ever\",\"look\",\"tweet\",\"followers\",\"should\",\"our\",\"xd\",\"aja\",\"esta\",\"school\",\"him\",\"ser\",\"take\",\"than\",\"video\",\"em\",\"last\",\"wanna\",\"does\",\"us\",\"miss\",\"l\",\"ga\",\"better\",\"well\",\"could\",\"\\u25bd\",\"%\",\"apa\",\"cuando\",\"team\",\"\\u2714\",\"@\",\"ok\",\"\\u061f\",\"\\u2022\",\"vida\",\"quiero\",\"les\",\"being\",\"real\",\"down\",\"kamu\",\"everyone\",\"gonna\",\"live\",\"tonight\",\"yes\",\"work\",\"ass\",\"retweet\",\"nada\",\"sama\",\"first\",\"<<\",\"photo\",\"tomorrow\",\"where\",\"god\",\"son\",\"ke\",\"ta\",\"f\",\"home\",\"lagi\",\"thank\",\"birthday\",\"\\u2588\",\"ha\",\"great\",\"lmao\",\"omg\",\"morning\",\"m\\u00e1s\",\"mau\",\"baby\",\"dont\",\"\\uff61\",\"their\",\"p\",\"things\",\"game\",\"pas\",\"bad\",\"year\",\"yeah\",\"su\",\"bitch\",\"\\u0432\",\"stop\",\"hoy\",\"something\",\"meu\",\"tak\",\"gak\",\"world\",\"amor\",\"h\",\"\\\\\",\"ver\",\"\\uff1b\",\"porque\",\"give\",\"these\",\"\\u0627\\u0644\\u0644\\u0647\\u0645\",\"were\",\"hay\",\"sleep\",\"gue\",\"every\",\"friends\",\"uma\",\"tell\",\"amo\",\"vou\",\"bien\",\"\\u00a1\",\"again\",\"\\uff3e\",\"\\uff0f\",\"done\",\"after\",\"todos\",\"girls\",\"guys\",\"getting\",\"big\",\"wait\",\"justin\",\"eh\",\"\\u2192\",\"kan\",\"kita\",\"jajaja\",\"wish\",\"said\",\"fucking\",\"show\",\"thing\",\"next\",\"voc\\u00ea\",\"nos\",\"little\",\"tengo\",\"keep\",\"person\",\"''\",\"\\u2200\",\"hope\",\"\\u0643\\u0644\",\"hey\",\"bisa\",\"free\",\"made\",\"foto\",\"va\",\"everything\",\"iya\",\"nigga\",\"eso\",\"et\",\"watch\",\"music\",\"week\",\"talk\",\"ne\",\"solo\",\"gente\",\"udah\",\"\\uff1a\",\"--\",\"\\uff3c\",\"mejor\",\"facebook\",\"ma\",\"v\",\"phone\",\"most\",\"same\",\"okay\",\"ik\",\"before\",\"minha\",\"days\",\"g\",\"ti\",\"damn\",\"nice\",\"voy\",\"vai\",\"call\",\"long\",\"tapi\",\"http\",\"sin\",\"nunca\",\"doing\",\"other\",\"find\",\"il\",\"sa\",\"sorry\",\"nya\",\"orang\",\"\\u00b0\",\"hard\",\"mean\",\"die\",\"\\u0627\\u0644\\u0644\\u064a\",\"tem\",\"soy\",\"este\",\"kalo\",\"s\\u00f3\",\"th\",\"win\",\"nothing\",\"into\",\"face\",\"cute\",\"'d\",\"gracias\",\"lah\",\"\\u0438\",\"any\",\"play\",\"\\u2190\",\"ko\",\"text\",\"\\u2323\",\"estoy\",\"tau\",\"ur\",\"buat\",\"#\",\"cause\",\"\\u044f\",\"put\",\"kau\",\"siempre\",\"juga\",\"casa\",\"\\u0623\\u0646\",\"help\",\"start\",\"feliz\",\"old\",\"ir\",\"very\",\"care\",\"bir\",\"makes\",\"song\",\"check\",\"watching\",\"ahora\",\"jadi\",\"os\",\"may\",\"friend\",\"beautiful\",\"heart\",\"ka\",\"vc\",\"mundo\",\"\\u043d\\u0430\",\"sure\",\"tan\",\"pretty\",\"aqui\",\"\\u043d\\u0435\",\"house\",\"\\u0631\\u062a\\u0648\\u064a\\u062a\",\"\\u064a\\u0627\",\"ja\",\"true\",\"muy\",\"away\",\"already\",\"actually\",\"believe\",\"try\",\"many\",\"ma\\u00f1ana\",\"mis\",\"lu\",\"those\",\"hot\",\"qu\\u00e9\",\"mal\",\"\\u0639\\u0646\",\"though\",\"ask\",\"amazing\",\"bed\",\"}\",\"two\",\"mom\",\"d\\u00eda\",\"ve\",\"dari\",\"gameinsight\",\"stay\",\"fun\",\"around\",\"van\",\"cont\",\"ready\",\"money\",\"bu\",\"funny\",\"cool\",\"hair\",\"\\u00e0\",\"tho\",\"{\",\"wo\",\"hi\",\"name\",\"tiene\",\"hahahaha\",\"pa\",\"algo\",\"gotta\",\"\\u0648\\u0644\\u0627\",\"boy\",\"another\",\"c'est\",\"hari\",\"jajajaja\",\"having\",\"cara\",\"jaja\",\"dm\",\"looking\",\"top\",\"android\",\"dah\",\"wow\",\"\\u2591\",\"eres\",\"ben\",\"must\",\"news\",\"met\",\"est\\u00e1\",\"nih\",\"family\",\"black\",\"thought\",\"nak\",\"super\",\"end\",\"hace\",\"remember\",\"ama\",\"party\",\"cant\",\"vamos\",\"anything\",\"anyone\",\"\\u0641\\u0648\\u0644\\u0648\",\"perfect\",\"guy\",\"vez\",\"christmas\",\"dos\",\"bueno\",\"nao\",\"years\",\"vote\",\"dormir\",\"bro\",\"else\",\"quien\",\"untuk\",\"jangan\",\"myself\",\"head\",\"mind\",\"gua\",\"talking\",\"while\",\"dat\",\"food\",\"\\u0434\",\"coming\",\"wkwk\",\"trying\",\"saya\",\"mucho\",\"without\",\"wrong\",\"\\u2019s\",\"baru\",\"__\",\"hehe\",\"hacer\",\"lot\",\"followed\",\"crazy\",\"hell\",\"feeling\",\"des\",\"kok\",\"j\",\"stats\",\"j'\",\"\\u0627\\u0646\",\"tweets\",\"non\",\"cosas\",\"era\",\"high\",\"niggas\",\"change\",\"movie\",\"xx\",\"mad\",\"sih\",\"sometimes\",\"deh\",\"allah\",\"through\",\"pour\",\"ela\",\"soon\",\"gone\",\"playing\",\"smile\",\"bukan\",\"tv\",\"fans\",\"hasta\",\"akan\",\"y'\",\"looks\",\"isso\",\"\\u270c\",\"tired\",\"boys\",\"might\",\"dong\",\"lg\",\"use\",\"maybe\",\"until\",\"menos\",\"own\",\"dengan\",\"eat\",\"ou\",\"weekend\",\"\\u02d8\",\"class\",\"ele\",\"harry\",\"iphone\",\"friday\",\"single\",\"ff\",\"awesome\",\"bout\",\"muito\",\"hoje\",\"\\u00ac\",\"dios\",\"such\",\"estar\",\"j\\u00e1\",\"quando\",\"esa\",\"making\",\"\\u2501\",\"times\",\"lmfao\",\"gw\",\"moment\",\"yet\",\"aw\",\"smh\",\"banget\",\"masih\",\"qui\",\"quem\",\"\\u2013\",\"leave\",\"du\",\"une\",\"guess\",\"hit\",\"\\u0441\",\"pm\",\"since\",\"pues\",\"est\",\"job\",\"\\uff89\",\"mana\",\"bom\",\"siapa\",\"suka\",\"bieber\",\"mention\",\"lebih\",\"favorite\",\"bitches\",\"forever\",\"\\u0644\\u064a\",\"final\",\"read\",\"alguien\",\"open\",\"yourself\",\"ese\",\"che\",\"sex\",\"yaa\",\"car\",\"direction\",\"tidak\",\"seu\",\"gets\",\"left\",\"re\",\"jam\",\"enough\",\"\\u0625\\u0644\\u0627\",\"once\",\"\\u2019\",\"part\",\"cada\",\"\\u5b9a\\u671f\",\"\\u0644\\u0643\",\"een\",\"seen\",\"kak\",\"as\\u00ed\",\"nem\",\"\\u0639\\u0645\\u0644\",\"white\",\"told\",\"says\",\"esto\",\"sad\",\"mo\",\"fue\",\"yah\",\"summer\",\"\\u0647\",\"\\u2b55\",\"\\u00bb\",\"thats\",\"\\u0645\\u0639\",\"posted\",\"wants\",\"agora\",\"together\",\"fan\",\"men\",\"hear\",\"full\",\"\\u2600\",\"sigo\",\"pq\",\"dulu\",\"plus\",\"foi\",\"tudo\",\"\\u0647\\u0648\",\"ill\",\"\\u3042\",\"thinking\",\"wtf\",\"pagi\",\"mama\",\"kalau\",\"hati\",\"sexy\",\"sayang\",\"baik\",\"semua\",\"hola\",\"went\",\"vos\",\"tanto\",\"finally\",\"fb\",\"sea\",\"stupid\",\"tus\",\"seriously\",\"hora\",\"min\",\"pic\",\"estas\",\"turn\",\"hours\",\"excited\",\"nah\",\"buy\",\"saying\",\"mah\",\"break\",\"needs\",\"ce\",\"room\",\"choice\",\"far\",\"dead\",\"quero\",\"saw\",\"kids\",\"lil\",\"whole\",\"puede\",\"fall\",\"sus\",\"lost\",\"asi\",\"word\",\"\\u2639\",\"also\",\"\\u0631\\u064a\\u062a\\u0648\\u064a\\u062a\",\"probably\",\"everybody\",\"tarde\",\"run\",\"sei\",\"follback\",\"forget\",\"sweet\",\"welcome\",\"selamat\",\"\\uff3f\",\"sur\",\"place\",\"gusta\",\"sabe\",\"androidgames\",\"tp\",\"tiempo\",\"\\u0628\\u0633\",\"sou\",\"tuh\",\"vs\",\"eyes\",\"\\u0627\\u0646\\u0627\",\"picture\",\"das\",\"meet\",\"anak\",\"persona\",\"essa\",\"bored\",\"following\",\"nadie\",\"nobody\",\"dice\",\"alone\",\"sick\",\"red\",\"city\",\"cinta\",\"\\u6708\",\"linda\",\"dream\",\"story\",\"km\",\"het\",\"waiting\",\"^_^\",\"mine\",\"\\u0447\\u0442\\u043e\",\"reason\",\"kk\",\"\\u0644\\u0648\",\"online\",\"fast\",\"udh\",\"wanted\",\"op\",\"others\",\"gay\",\"n\\u2019t\",\"used\",\"sem\",\"understand\",\"moi\",\"sm\",\"aint\",\"donde\",\"bem\",\"which\",\"ng\",\"followback\",\"punya\",\"late\",\"anda\",\"tidur\",\"puedo\",\"early\",\"nd\",\"personas\",\"banyak\",\"\\u2705\",\"\\u278a\",\"trust\",\"noche\",\"tl\",\"\\uff1e\",\"\\u00ab\",\"af\",\"move\",\"pro\",\"bring\",\"ku\",\"called\",\"relationship\",\"idk\",\"hurt\",\"st\",\"pernah\",\"pessoas\",\"hello\",\"uno\",\"unfollowers\",\"cry\"],\"x\":{\"__ndarray__\":\"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\",\"dtype\":\"float32\",\"order\":\"little\",\"shape\":[1000]},\"y\":{\"__ndarray__\":\"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\",\"dtype\":\"float32\",\"order\":\"little\",\"shape\":[1000]}},\"selected\":{\"id\":\"1153\"},\"selection_policy\":{\"id\":\"1152\"}},\"id\":\"1098\",\"type\":\"ColumnDataSource\"},{\"attributes\":{\"overlay\":{\"id\":\"1122\"}},\"id\":\"1118\",\"type\":\"BoxZoomTool\"},{\"attributes\":{},\"id\":\"1119\",\"type\":\"SaveTool\"},{\"attributes\":{},\"id\":\"1120\",\"type\":\"ResetTool\"},{\"attributes\":{},\"id\":\"1121\",\"type\":\"HelpTool\"},{\"attributes\":{},\"id\":\"1100\",\"type\":\"DataRange1d\"},{\"attributes\":{\"active_drag\":\"auto\",\"active_inspect\":\"auto\",\"active_multi\":null,\"active_scroll\":{\"id\":\"1117\"},\"active_tap\":\"auto\",\"tools\":[{\"id\":\"1116\"},{\"id\":\"1117\"},{\"id\":\"1118\"},{\"id\":\"1119\"},{\"id\":\"1120\"},{\"id\":\"1121\"},{\"id\":\"1135\"}]},\"id\":\"1123\",\"type\":\"Toolbar\"},{\"attributes\":{},\"id\":\"1102\",\"type\":\"DataRange1d\"},{\"attributes\":{},\"id\":\"1104\",\"type\":\"LinearScale\"}],\"root_ids\":[\"1099\"]},\"title\":\"Bokeh Application\",\"version\":\"2.2.2\"}};\n",
              "  var render_items = [{\"docid\":\"31db9d2f-684d-4822-8b6b-7dcd1637d77a\",\"root_ids\":[\"1099\"],\"roots\":{\"1099\":\"29de5a52-fdb5-4c04-a878-45063a58e513\"}}];\n",
              "  root.Bokeh.embed.embed_items_notebook(docs_json, render_items);\n",
              "\n",
              "  }\n",
              "  if (root.Bokeh !== undefined) {\n",
              "    embed_document(root);\n",
              "  } else {\n",
              "    var attempts = 0;\n",
              "    var timer = setInterval(function(root) {\n",
              "      if (root.Bokeh !== undefined) {\n",
              "        clearInterval(timer);\n",
              "        embed_document(root);\n",
              "      } else {\n",
              "        attempts++;\n",
              "        if (attempts > 100) {\n",
              "          clearInterval(timer);\n",
              "          console.log(\"Bokeh: ERROR: Unable to run BokehJS code because BokehJS library is missing\");\n",
              "        }\n",
              "      }\n",
              "    }, 10, root)\n",
              "  }\n",
              "})(window);"
            ],
            "application/vnd.bokehjs_exec.v0+json": ""
          },
          "metadata": {
            "tags": [],
            "application/vnd.bokehjs_exec.v0+json": {
              "id": "1099"
            }
          }
        },
        {
          "output_type": "execute_result",
          "data": {
            "text/html": [
              "<div style=\"display: table;\"><div style=\"display: table-row;\"><div style=\"display: table-cell;\"><b title=\"bokeh.plotting.figure.Figure\">Figure</b>(</div><div style=\"display: table-cell;\">id&nbsp;=&nbsp;'1099', <span id=\"1201\" style=\"cursor: pointer;\">&hellip;)</span></div></div><div class=\"1200\" style=\"display: none;\"><div style=\"display: table-cell;\"></div><div style=\"display: table-cell;\">above&nbsp;=&nbsp;[],</div></div><div class=\"1200\" style=\"display: none;\"><div style=\"display: table-cell;\"></div><div style=\"display: table-cell;\">align&nbsp;=&nbsp;'start',</div></div><div class=\"1200\" style=\"display: none;\"><div style=\"display: table-cell;\"></div><div style=\"display: table-cell;\">aspect_ratio&nbsp;=&nbsp;None,</div></div><div class=\"1200\" style=\"display: none;\"><div style=\"display: table-cell;\"></div><div style=\"display: table-cell;\">aspect_scale&nbsp;=&nbsp;1,</div></div><div class=\"1200\" style=\"display: none;\"><div style=\"display: table-cell;\"></div><div style=\"display: table-cell;\">background&nbsp;=&nbsp;None,</div></div><div class=\"1200\" style=\"display: none;\"><div style=\"display: table-cell;\"></div><div style=\"display: table-cell;\">background_fill_alpha&nbsp;=&nbsp;1.0,</div></div><div class=\"1200\" style=\"display: none;\"><div style=\"display: table-cell;\"></div><div style=\"display: table-cell;\">background_fill_color&nbsp;=&nbsp;'#ffffff',</div></div><div class=\"1200\" style=\"display: none;\"><div style=\"display: table-cell;\"></div><div style=\"display: table-cell;\">below&nbsp;=&nbsp;[LinearAxis(id='1108', ...)],</div></div><div class=\"1200\" style=\"display: none;\"><div style=\"display: table-cell;\"></div><div style=\"display: table-cell;\">border_fill_alpha&nbsp;=&nbsp;1.0,</div></div><div class=\"1200\" style=\"display: none;\"><div style=\"display: table-cell;\"></div><div style=\"display: table-cell;\">border_fill_color&nbsp;=&nbsp;'#ffffff',</div></div><div class=\"1200\" style=\"display: none;\"><div style=\"display: table-cell;\"></div><div style=\"display: table-cell;\">center&nbsp;=&nbsp;[Grid(id='1111', ...), Grid(id='1115', ...)],</div></div><div class=\"1200\" style=\"display: none;\"><div style=\"display: table-cell;\"></div><div style=\"display: table-cell;\">css_classes&nbsp;=&nbsp;[],</div></div><div class=\"1200\" style=\"display: none;\"><div style=\"display: table-cell;\"></div><div style=\"display: table-cell;\">disabled&nbsp;=&nbsp;False,</div></div><div class=\"1200\" style=\"display: none;\"><div style=\"display: table-cell;\"></div><div style=\"display: table-cell;\">extra_x_ranges&nbsp;=&nbsp;{},</div></div><div class=\"1200\" style=\"display: none;\"><div style=\"display: table-cell;\"></div><div style=\"display: table-cell;\">extra_y_ranges&nbsp;=&nbsp;{},</div></div><div class=\"1200\" style=\"display: none;\"><div style=\"display: table-cell;\"></div><div style=\"display: table-cell;\">frame_height&nbsp;=&nbsp;None,</div></div><div class=\"1200\" style=\"display: none;\"><div style=\"display: table-cell;\"></div><div style=\"display: table-cell;\">frame_width&nbsp;=&nbsp;None,</div></div><div class=\"1200\" style=\"display: none;\"><div style=\"display: table-cell;\"></div><div style=\"display: table-cell;\">height&nbsp;=&nbsp;None,</div></div><div class=\"1200\" style=\"display: none;\"><div style=\"display: table-cell;\"></div><div style=\"display: table-cell;\">height_policy&nbsp;=&nbsp;'auto',</div></div><div class=\"1200\" style=\"display: none;\"><div style=\"display: table-cell;\"></div><div style=\"display: table-cell;\">hidpi&nbsp;=&nbsp;True,</div></div><div class=\"1200\" style=\"display: none;\"><div style=\"display: table-cell;\"></div><div style=\"display: table-cell;\">js_event_callbacks&nbsp;=&nbsp;{},</div></div><div class=\"1200\" style=\"display: none;\"><div style=\"display: table-cell;\"></div><div style=\"display: table-cell;\">js_property_callbacks&nbsp;=&nbsp;{},</div></div><div class=\"1200\" style=\"display: none;\"><div style=\"display: table-cell;\"></div><div style=\"display: table-cell;\">left&nbsp;=&nbsp;[LinearAxis(id='1112', ...)],</div></div><div class=\"1200\" style=\"display: none;\"><div style=\"display: table-cell;\"></div><div style=\"display: table-cell;\">lod_factor&nbsp;=&nbsp;10,</div></div><div class=\"1200\" style=\"display: none;\"><div style=\"display: table-cell;\"></div><div style=\"display: table-cell;\">lod_interval&nbsp;=&nbsp;300,</div></div><div class=\"1200\" style=\"display: none;\"><div style=\"display: table-cell;\"></div><div style=\"display: table-cell;\">lod_threshold&nbsp;=&nbsp;2000,</div></div><div class=\"1200\" style=\"display: none;\"><div style=\"display: table-cell;\"></div><div style=\"display: table-cell;\">lod_timeout&nbsp;=&nbsp;500,</div></div><div class=\"1200\" style=\"display: none;\"><div style=\"display: table-cell;\"></div><div style=\"display: table-cell;\">margin&nbsp;=&nbsp;(0, 0, 0, 0),</div></div><div class=\"1200\" style=\"display: none;\"><div style=\"display: table-cell;\"></div><div style=\"display: table-cell;\">match_aspect&nbsp;=&nbsp;False,</div></div><div class=\"1200\" style=\"display: none;\"><div style=\"display: table-cell;\"></div><div style=\"display: table-cell;\">max_height&nbsp;=&nbsp;None,</div></div><div class=\"1200\" style=\"display: none;\"><div style=\"display: table-cell;\"></div><div style=\"display: table-cell;\">max_width&nbsp;=&nbsp;None,</div></div><div class=\"1200\" style=\"display: none;\"><div style=\"display: table-cell;\"></div><div style=\"display: table-cell;\">min_border&nbsp;=&nbsp;5,</div></div><div class=\"1200\" style=\"display: none;\"><div style=\"display: table-cell;\"></div><div style=\"display: table-cell;\">min_border_bottom&nbsp;=&nbsp;None,</div></div><div class=\"1200\" style=\"display: none;\"><div style=\"display: table-cell;\"></div><div style=\"display: table-cell;\">min_border_left&nbsp;=&nbsp;None,</div></div><div class=\"1200\" style=\"display: none;\"><div style=\"display: table-cell;\"></div><div style=\"display: table-cell;\">min_border_right&nbsp;=&nbsp;None,</div></div><div class=\"1200\" style=\"display: none;\"><div style=\"display: table-cell;\"></div><div style=\"display: table-cell;\">min_border_top&nbsp;=&nbsp;None,</div></div><div class=\"1200\" style=\"display: none;\"><div style=\"display: table-cell;\"></div><div style=\"display: table-cell;\">min_height&nbsp;=&nbsp;None,</div></div><div class=\"1200\" style=\"display: none;\"><div style=\"display: table-cell;\"></div><div style=\"display: table-cell;\">min_width&nbsp;=&nbsp;None,</div></div><div class=\"1200\" style=\"display: none;\"><div style=\"display: table-cell;\"></div><div style=\"display: table-cell;\">name&nbsp;=&nbsp;None,</div></div><div class=\"1200\" style=\"display: none;\"><div style=\"display: table-cell;\"></div><div style=\"display: table-cell;\">outline_line_alpha&nbsp;=&nbsp;1.0,</div></div><div class=\"1200\" style=\"display: none;\"><div style=\"display: table-cell;\"></div><div style=\"display: table-cell;\">outline_line_cap&nbsp;=&nbsp;'butt',</div></div><div class=\"1200\" style=\"display: none;\"><div style=\"display: table-cell;\"></div><div style=\"display: table-cell;\">outline_line_color&nbsp;=&nbsp;'#e5e5e5',</div></div><div class=\"1200\" style=\"display: none;\"><div style=\"display: table-cell;\"></div><div style=\"display: table-cell;\">outline_line_dash&nbsp;=&nbsp;[],</div></div><div class=\"1200\" style=\"display: none;\"><div style=\"display: table-cell;\"></div><div style=\"display: table-cell;\">outline_line_dash_offset&nbsp;=&nbsp;0,</div></div><div class=\"1200\" style=\"display: none;\"><div style=\"display: table-cell;\"></div><div style=\"display: table-cell;\">outline_line_join&nbsp;=&nbsp;'bevel',</div></div><div class=\"1200\" style=\"display: none;\"><div style=\"display: table-cell;\"></div><div style=\"display: table-cell;\">outline_line_width&nbsp;=&nbsp;1,</div></div><div class=\"1200\" style=\"display: none;\"><div style=\"display: table-cell;\"></div><div style=\"display: table-cell;\">output_backend&nbsp;=&nbsp;'canvas',</div></div><div class=\"1200\" style=\"display: none;\"><div style=\"display: table-cell;\"></div><div style=\"display: table-cell;\">plot_height&nbsp;=&nbsp;400,</div></div><div class=\"1200\" style=\"display: none;\"><div style=\"display: table-cell;\"></div><div style=\"display: table-cell;\">plot_width&nbsp;=&nbsp;600,</div></div><div class=\"1200\" style=\"display: none;\"><div style=\"display: table-cell;\"></div><div style=\"display: table-cell;\">renderers&nbsp;=&nbsp;[GlyphRenderer(id='1133', ...)],</div></div><div class=\"1200\" style=\"display: none;\"><div style=\"display: table-cell;\"></div><div style=\"display: table-cell;\">reset_policy&nbsp;=&nbsp;'standard',</div></div><div class=\"1200\" style=\"display: none;\"><div style=\"display: table-cell;\"></div><div style=\"display: table-cell;\">right&nbsp;=&nbsp;[],</div></div><div class=\"1200\" style=\"display: none;\"><div style=\"display: table-cell;\"></div><div style=\"display: table-cell;\">sizing_mode&nbsp;=&nbsp;None,</div></div><div class=\"1200\" style=\"display: none;\"><div style=\"display: table-cell;\"></div><div style=\"display: table-cell;\">subscribed_events&nbsp;=&nbsp;[],</div></div><div class=\"1200\" style=\"display: none;\"><div style=\"display: table-cell;\"></div><div style=\"display: table-cell;\">tags&nbsp;=&nbsp;[],</div></div><div class=\"1200\" style=\"display: none;\"><div style=\"display: table-cell;\"></div><div style=\"display: table-cell;\">title&nbsp;=&nbsp;Title(id='1147', ...),</div></div><div class=\"1200\" style=\"display: none;\"><div style=\"display: table-cell;\"></div><div style=\"display: table-cell;\">title_location&nbsp;=&nbsp;'above',</div></div><div class=\"1200\" style=\"display: none;\"><div style=\"display: table-cell;\"></div><div style=\"display: table-cell;\">toolbar&nbsp;=&nbsp;Toolbar(id='1123', ...),</div></div><div class=\"1200\" style=\"display: none;\"><div style=\"display: table-cell;\"></div><div style=\"display: table-cell;\">toolbar_location&nbsp;=&nbsp;'right',</div></div><div class=\"1200\" style=\"display: none;\"><div style=\"display: table-cell;\"></div><div style=\"display: table-cell;\">toolbar_sticky&nbsp;=&nbsp;True,</div></div><div class=\"1200\" style=\"display: none;\"><div style=\"display: table-cell;\"></div><div style=\"display: table-cell;\">visible&nbsp;=&nbsp;True,</div></div><div class=\"1200\" style=\"display: none;\"><div style=\"display: table-cell;\"></div><div style=\"display: table-cell;\">width&nbsp;=&nbsp;None,</div></div><div class=\"1200\" style=\"display: none;\"><div style=\"display: table-cell;\"></div><div style=\"display: table-cell;\">width_policy&nbsp;=&nbsp;'auto',</div></div><div class=\"1200\" style=\"display: none;\"><div style=\"display: table-cell;\"></div><div style=\"display: table-cell;\">x_range&nbsp;=&nbsp;DataRange1d(id='1100', ...),</div></div><div class=\"1200\" style=\"display: none;\"><div style=\"display: table-cell;\"></div><div style=\"display: table-cell;\">x_scale&nbsp;=&nbsp;LinearScale(id='1104', ...),</div></div><div class=\"1200\" style=\"display: none;\"><div style=\"display: table-cell;\"></div><div style=\"display: table-cell;\">y_range&nbsp;=&nbsp;DataRange1d(id='1102', ...),</div></div><div class=\"1200\" style=\"display: none;\"><div style=\"display: table-cell;\"></div><div style=\"display: table-cell;\">y_scale&nbsp;=&nbsp;LinearScale(id='1106', ...))</div></div></div>\n",
              "<script>\n",
              "(function() {\n",
              "  var expanded = false;\n",
              "  var ellipsis = document.getElementById(\"1201\");\n",
              "  ellipsis.addEventListener(\"click\", function() {\n",
              "    var rows = document.getElementsByClassName(\"1200\");\n",
              "    for (var i = 0; i < rows.length; i++) {\n",
              "      var el = rows[i];\n",
              "      el.style.display = expanded ? \"none\" : \"table-row\";\n",
              "    }\n",
              "    ellipsis.innerHTML = expanded ? \"&hellip;)\" : \"&lsaquo;&lsaquo;&lsaquo;\";\n",
              "    expanded = !expanded;\n",
              "  });\n",
              "})();\n",
              "</script>\n"
            ],
            "text/plain": [
              "Figure(id='1099', ...)"
            ]
          },
          "metadata": {
            "tags": []
          },
          "execution_count": 47
        }
      ]
    },
    {
      "cell_type": "markdown",
      "metadata": {
        "id": "t2c8-MsxTjzn"
      },
      "source": [
        "### Visualizing phrases\n",
        "\n",
        "Word embeddings can also be used to represent short phrases. The simplest way is to take __an average__ of vectors for all tokens in the phrase with some weights.\n",
        "\n",
        "This trick is useful to identify what data are you working with: find if there are any outliers, clusters or other artefacts.\n",
        "\n",
        "Let's try this new hammer on our data!\n"
      ]
    },
    {
      "cell_type": "code",
      "metadata": {
        "id": "RAjHUeZiTjzp"
      },
      "source": [
        "def get_phrase_embedding(phrase):\n",
        "    \"\"\"\n",
        "    Convert phrase to a vector by aggregating it's word embeddings. See description above.\n",
        "    \"\"\"\n",
        "    # 1. lowercase phrase\n",
        "    # 2. tokenize phrase\n",
        "    # 3. average word vectors for all words in tokenized phrase\n",
        "    # skip words that are not in model's vocabulary\n",
        "    # if all words are missing from vocabulary, return zeros\n",
        "    \n",
        "    vector = np.zeros([model.vector_size], dtype='float32')\n",
        "    \n",
        "    # YOUR CODE\n",
        "    \n",
        "    return vector\n",
        "        \n",
        "    "
      ],
      "execution_count": null,
      "outputs": []
    },
    {
      "cell_type": "code",
      "metadata": {
        "id": "mPCMxDhVTjz6"
      },
      "source": [
        "vector = get_phrase_embedding(\"I'm very sure. This never happened to me before...\")\n",
        "\n",
        "assert np.allclose(vector[::10],\n",
        "                   np.array([ 0.31807372, -0.02558171,  0.0933293 , -0.1002182 , -1.0278689 ,\n",
        "                             -0.16621883,  0.05083408,  0.17989802,  1.3701859 ,  0.08655966],\n",
        "                              dtype=np.float32))"
      ],
      "execution_count": null,
      "outputs": []
    },
    {
      "cell_type": "code",
      "metadata": {
        "id": "4s5gN9YqTj0O"
      },
      "source": [
        "# let's only consider ~5k phrases for a first run.\n",
        "chosen_phrases = data[::len(data) // 1000]\n",
        "\n",
        "# compute vectors for chosen phrases\n",
        "phrase_vectors = # YOUR CODE"
      ],
      "execution_count": null,
      "outputs": []
    },
    {
      "cell_type": "code",
      "metadata": {
        "id": "Q8oyQNTMTj0b"
      },
      "source": [
        "assert isinstance(phrase_vectors, np.ndarray) and np.isfinite(phrase_vectors).all()\n",
        "assert phrase_vectors.shape == (len(chosen_phrases), model.vector_size)"
      ],
      "execution_count": null,
      "outputs": []
    },
    {
      "cell_type": "code",
      "metadata": {
        "id": "CUHbx7T4Tj0p"
      },
      "source": [
        "# map vectors into 2d space with pca, tsne or your other method of choice\n",
        "# don't forget to normalize\n",
        "\n",
        "phrase_vectors_2d = TSNE(verbose=1000).fit_transform(phrase_vectors)\n",
        "\n",
        "phrase_vectors_2d = (phrase_vectors_2d - phrase_vectors_2d.mean(axis=0)) / phrase_vectors_2d.std(axis=0)"
      ],
      "execution_count": null,
      "outputs": []
    },
    {
      "cell_type": "code",
      "metadata": {
        "id": "7taZA9IhTj0x"
      },
      "source": [
        "draw_vectors(phrase_vectors_2d[:, 0], phrase_vectors_2d[:, 1],\n",
        "             phrase=[phrase[:50] for phrase in chosen_phrases],\n",
        "             radius=20,)"
      ],
      "execution_count": null,
      "outputs": []
    },
    {
      "cell_type": "markdown",
      "metadata": {
        "id": "3GNqqJFjTj09"
      },
      "source": [
        "Finally, let's build a simple \"similar question\" engine with phrase embeddings we've built."
      ]
    },
    {
      "cell_type": "code",
      "metadata": {
        "id": "Fxrj0jxKTj1B"
      },
      "source": [
        "# compute vector embedding for all lines in data\n",
        "data_vectors = np.array([get_phrase_embedding(l) for l in data])"
      ],
      "execution_count": null,
      "outputs": []
    },
    {
      "cell_type": "code",
      "metadata": {
        "id": "vsDfrxPyTj1N"
      },
      "source": [
        "def find_nearest(query, k=10):\n",
        "    \"\"\"\n",
        "    given text line (query), return k most similar lines from data, sorted from most to least similar\n",
        "    similarity should be measured as cosine between query and line embedding vectors\n",
        "    hint: it's okay to use global variables: data and data_vectors. see also: np.argpartition, np.argsort\n",
        "    \"\"\"\n",
        "    # YOUR CODE\n",
        "    \n",
        "    return <YOUR CODE: top-k lines starting from most similar>"
      ],
      "execution_count": null,
      "outputs": []
    },
    {
      "cell_type": "code",
      "metadata": {
        "id": "WFnwtTcUTj1b"
      },
      "source": [
        "results = find_nearest(query=\"How do i enter the matrix?\", k=10)\n",
        "\n",
        "print(''.join(results))\n",
        "\n",
        "assert len(results) == 10 and isinstance(results[0], str)\n",
        "assert results[0] == 'How do I get to the dark web?\\n'\n",
        "assert results[3] == 'What can I do to save the world?\\n'"
      ],
      "execution_count": null,
      "outputs": []
    },
    {
      "cell_type": "code",
      "metadata": {
        "id": "RtiA6baQTj1n"
      },
      "source": [
        "find_nearest(query=\"How does Trump?\", k=10)"
      ],
      "execution_count": null,
      "outputs": []
    },
    {
      "cell_type": "code",
      "metadata": {
        "id": "02elbLXPTj10"
      },
      "source": [
        "find_nearest(query=\"Why don't i ask a question myself?\", k=10)"
      ],
      "execution_count": null,
      "outputs": []
    },
    {
      "cell_type": "markdown",
      "metadata": {
        "collapsed": true,
        "id": "yJ8L8QWUTj2A"
      },
      "source": [
        "__Now what?__\n",
        "* Try running TSNE on all data, not just 1000 phrases\n",
        "* See what other embeddings are there in the model zoo: `gensim.downloader.info()`\n",
        "* Take a look at [FastText](https://github.com/facebookresearch/fastText) embeddings\n",
        "* Optimize find_nearest with locality-sensitive hashing: use [nearpy](https://github.com/pixelogik/NearPy) or `sklearn.neighbors`."
      ]
    }
  ]
}